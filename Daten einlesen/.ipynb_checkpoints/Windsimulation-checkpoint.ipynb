{
 "cells": [
  {
   "cell_type": "code",
   "execution_count": 14,
   "id": "48300dc3-c136-4ac4-a15c-2a0b02fc625d",
   "metadata": {
    "jupyter": {
     "source_hidden": true
    }
   },
   "outputs": [
    {
     "name": "stdout",
     "output_type": "stream",
     "text": [
      "Requesting data from URL: http://api.openweathermap.org/data/2.5/onecall/timemachine?lat=52.52&lon=13.405&dt=1718713952&appid=7a7cfaf6ae01f73311a4349aa796b6c7\n",
      "Error: 401\n",
      "Response: {\"cod\":401, \"message\": \"Invalid API key. Please see https://openweathermap.org/faq#error401 for more info.\"}\n",
      "Fehler beim Abruf der Windgeschwindigkeitsdaten.\n"
     ]
    }
   ],
   "source": [
    "import requests\n",
    "import pandas as pd\n",
    "import numpy as np\n",
    "import matplotlib.pyplot as plt\n",
    "from datetime import datetime, timedelta, timezone\n",
    "\n",
    "# Funktion, um historische Windgeschwindigkeitsdaten von OpenWeatherMap abzurufen\n",
    "def get_wind_speed_data(api_key, latitude, longitude, start_datetime, end_datetime, interval='hourly'):\n",
    "    timestamp = int(start_datetime.timestamp())\n",
    "    url = f\"http://api.openweathermap.org/data/2.5/onecall/timemachine?lat={latitude}&lon={longitude}&dt={timestamp}&appid={api_key}\"\n",
    "    print(f\"Requesting data from URL: {url}\")  # Debugging-Zeile\n",
    "    response = requests.get(url)\n",
    "    if response.status_code == 200:\n",
    "        data = response.json()\n",
    "        wind_speeds = [hour['wind_speed'] for hour in data[interval]]  # Windgeschwindigkeit in m/s\n",
    "        timestamps = [datetime.fromtimestamp(hour['dt'], tz=timezone.utc) for hour in data[interval]]\n",
    "        return pd.DataFrame({'timestamp': timestamps, 'wind_speed': wind_speeds})\n",
    "    else:\n",
    "        print('Error:', response.status_code)\n",
    "        print('Response:', response.text)  # Debugging-Zeile\n",
    "        return None\n",
    "\n",
    "# Funktion, um die Leistung der Windenergieanlage zu berechnen\n",
    "def calculate_power(wind_speed, rotor_diameter, air_density, power_coefficient):\n",
    "    swept_area = np.pi * (rotor_diameter / 2) ** 2\n",
    "    return 0.5 * air_density * swept_area * (wind_speed ** 3) * power_coefficient\n",
    "\n",
    "# API-Schlüssel und Standortdaten\n",
    "api_key = '7a7cfaf6ae01f73311a4349aa796b6c7'  # Ersetze dies durch deinen API-Schlüssel\n",
    "latitude = 52.5200  # Beispielkoordinaten für Berlin\n",
    "longitude = 13.4050\n",
    "\n",
    "# Zeitraum für die Datenerfassung\n",
    "start_datetime = datetime.now(timezone.utc) - timedelta(days=1)  # Letzte 24 Stunden\n",
    "end_datetime = datetime.now(timezone.utc)\n",
    "\n",
    "# Parameter der Windenergieanlage\n",
    "rotor_diameter = 2.5  # Meter\n",
    "air_density = 1.225   # kg/m³\n",
    "power_coefficient = 0.35  # Typischer Wert für kleine WEA\n",
    "\n",
    "# Abrufen der Windgeschwindigkeitsdaten\n",
    "wind_data = get_wind_speed_data(api_key, latitude, longitude, start_datetime, end_datetime)\n",
    "\n",
    "# Leistung der Windenergieanlage berechnen\n",
    "if wind_data is not None:\n",
    "    wind_data['power'] = wind_data['wind_speed'].apply(\n",
    "        calculate_power, args=(rotor_diameter, air_density, power_coefficient))\n",
    "\n",
    "    # Plotten der Ergebnisse\n",
    "    plt.figure(figsize=(10, 6))\n",
    "    plt.plot(wind_data['timestamp'], wind_data['power'], label='Leistung (kW)')\n",
    "    plt.xlabel('Zeitpunkt')\n",
    "    plt.ylabel('Leistung (kW)')\n",
    "    plt.title('Erzeugte Leistung der Windenergieanlage')\n",
    "    plt.legend()\n",
    "    plt.grid()\n",
    "    plt.show()\n",
    "else:\n",
    "    print(\"Fehler beim Abruf der Windgeschwindigkeitsdaten.\")"
   ]
  },
  {
   "cell_type": "code",
   "execution_count": 15,
   "id": "11393a29-d9fb-44fe-82fd-6c0b75e95f06",
   "metadata": {
    "jupyter": {
     "source_hidden": true
    }
   },
   "outputs": [
    {
     "name": "stdout",
     "output_type": "stream",
     "text": [
      "Requesting data from URL: http://api.openweathermap.org/data/2.5/onecall/timemachine?lat=52.52&lon=13.405&dt=1718719254&appid=b00cb47cb9d09b597ccf7f0d329330aa\n",
      "Error: 401\n",
      "Response: {\"cod\":401, \"message\": \"Invalid API key. Please see https://openweathermap.org/faq#error401 for more info.\"}\n",
      "Fehler beim Abruf der Windgeschwindigkeitsdaten.\n"
     ]
    }
   ],
   "source": [
    "import requests\n",
    "import pandas as pd\n",
    "import numpy as np\n",
    "import matplotlib.pyplot as plt\n",
    "from datetime import datetime, timedelta, timezone\n",
    "\n",
    "# Funktion, um historische Windgeschwindigkeitsdaten von OpenWeatherMap abzurufen\n",
    "def get_wind_speed_data(api_key, latitude, longitude, start_datetime, end_datetime, interval='hourly'):\n",
    "    timestamp = int(start_datetime.timestamp())\n",
    "    url = f\"http://api.openweathermap.org/data/2.5/onecall/timemachine?lat={latitude}&lon={longitude}&dt={timestamp}&appid={api_key}\"\n",
    "    print(f\"Requesting data from URL: {url}\")  # Debugging-Zeile\n",
    "    response = requests.get(url)\n",
    "    if response.status_code == 200:\n",
    "        data = response.json()\n",
    "        wind_speeds = [hour['wind_speed'] for hour in data[interval]]  # Windgeschwindigkeit in m/s\n",
    "        timestamps = [datetime.fromtimestamp(hour['dt'], tz=timezone.utc) for hour in data[interval]]\n",
    "        return pd.DataFrame({'timestamp': timestamps, 'wind_speed': wind_speeds})\n",
    "    else:\n",
    "        print('Error:', response.status_code)\n",
    "        print('Response:', response.text)  # Debugging-Zeile\n",
    "        return None\n",
    "\n",
    "# Funktion, um die Leistung der Windenergieanlage zu berechnen\n",
    "def calculate_power(wind_speed, rotor_diameter, air_density, power_coefficient):\n",
    "    swept_area = np.pi * (rotor_diameter / 2) ** 2\n",
    "    return 0.5 * air_density * swept_area * (wind_speed ** 3) * power_coefficient\n",
    "\n",
    "# API-Schlüssel und Standortdaten\n",
    "api_key = 'b00cb47cb9d09b597ccf7f0d329330aa'  # Ersetze dies durch deinen API-Schlüssel\n",
    "latitude = 52.5200  # Beispielkoordinaten für Berlin\n",
    "longitude = 13.4050\n",
    "\n",
    "# Zeitraum für die Datenerfassung\n",
    "start_datetime = datetime.now(timezone.utc) - timedelta(days=1)  # Letzte 24 Stunden\n",
    "end_datetime = datetime.now(timezone.utc)\n",
    "\n",
    "# Parameter der Windenergieanlage\n",
    "rotor_diameter = 2.5  # Meter\n",
    "air_density = 1.225   # kg/m³\n",
    "power_coefficient = 0.35  # Typischer Wert für kleine WEA\n",
    "\n",
    "# Abrufen der Windgeschwindigkeitsdaten\n",
    "wind_data = get_wind_speed_data(api_key, latitude, longitude, start_datetime, end_datetime)\n",
    "\n",
    "# Leistung der Windenergieanlage berechnen\n",
    "if wind_data is not None:\n",
    "    wind_data['power'] = wind_data['wind_speed'].apply(\n",
    "        calculate_power, args=(rotor_diameter, air_density, power_coefficient))\n",
    "\n",
    "    # Plotten der Ergebnisse\n",
    "    plt.figure(figsize=(10, 6))\n",
    "    plt.plot(wind_data['timestamp'], wind_data['power'], label='Leistung (kW)')\n",
    "    plt.xlabel('Zeitpunkt')\n",
    "    plt.ylabel('Leistung (kW)')\n",
    "    plt.title('Erzeugte Leistung der Windenergieanlage')\n",
    "    plt.legend()\n",
    "    plt.grid()\n",
    "    plt.show()\n",
    "else:\n",
    "    print(\"Fehler beim Abruf der Windgeschwindigkeitsdaten.\")"
   ]
  },
  {
   "cell_type": "code",
   "execution_count": null,
   "id": "d53f045a-2d59-4a86-b399-b34dc0ba4396",
   "metadata": {},
   "outputs": [],
   "source": []
  }
 ],
 "metadata": {
  "kernelspec": {
   "display_name": "Python 3 (ipykernel)",
   "language": "python",
   "name": "python3"
  },
  "language_info": {
   "codemirror_mode": {
    "name": "ipython",
    "version": 3
   },
   "file_extension": ".py",
   "mimetype": "text/x-python",
   "name": "python",
   "nbconvert_exporter": "python",
   "pygments_lexer": "ipython3",
   "version": "3.12.4"
  }
 },
 "nbformat": 4,
 "nbformat_minor": 5
}
