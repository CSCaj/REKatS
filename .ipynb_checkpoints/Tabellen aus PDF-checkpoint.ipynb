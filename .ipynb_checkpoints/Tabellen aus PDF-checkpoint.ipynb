{
 "cells": [
  {
   "cell_type": "markdown",
   "id": "df9ca3c4-0a25-4d00-b9d1-c9482743c474",
   "metadata": {
    "editable": true,
    "slideshow": {
     "slide_type": ""
    },
    "tags": []
   },
   "source": [
    "# PDF Tabellen erkennen und exttrahieren "
   ]
  },
  {
   "cell_type": "code",
   "execution_count": 6,
   "id": "d7f6bf1b-fc9b-4613-8292-af685e4ba4e1",
   "metadata": {
    "editable": true,
    "slideshow": {
     "slide_type": ""
    },
    "tags": []
   },
   "outputs": [],
   "source": [
    "# V3 \n",
    "import tkinter as tk\n",
    "from tkinter import ttk, filedialog, messagebox\n",
    "import pdfplumber\n",
    "import pandas as pd\n",
    "import os\n",
    "import subprocess\n",
    "import threading\n",
    "\n",
    "def select_file():\n",
    "    file_path = filedialog.askopenfilename(filetypes=[(\"PDF files\", \"*.pdf\")])\n",
    "    if file_path:\n",
    "        threading.Thread(target=extract_tables, args=(file_path,)).start()\n",
    "\n",
    "def extract_tables(file_path):\n",
    "    try:\n",
    "        with pdfplumber.open(file_path) as pdf:\n",
    "            total_pages = len(pdf.pages)\n",
    "            progress_bar[\"maximum\"] = total_pages\n",
    "            progress_bar[\"value\"] = 0\n",
    "            all_tables = []\n",
    "\n",
    "            for i, page in enumerate(pdf.pages):\n",
    "                update_status(f\"Processing page {i + 1} of {total_pages}...\")\n",
    "                tables = page.extract_tables()\n",
    "                for table in tables:\n",
    "                    df = pd.DataFrame(table[1:], columns=table[0])  # Erste Zeile als Spaltennamen\n",
    "                    all_tables.append(df)\n",
    "                progress_bar[\"value\"] = i + 1\n",
    "                root.update_idletasks()\n",
    "\n",
    "            if not all_tables:\n",
    "                messagebox.showerror(\"Error\", \"No tables found in the PDF.\")\n",
    "                return\n",
    "\n",
    "            # Verzeichnispfad der PDF-Datei extrahieren\n",
    "            pdf_directory = os.path.dirname(file_path)\n",
    "\n",
    "            # Excel-Dateinamen erstellen (gleicher Speicherort wie PDF)\n",
    "            base_name = os.path.splitext(os.path.basename(file_path))[0]\n",
    "            excel_file_path = os.path.join(pdf_directory, f\"{base_name} (Tables extracted).xlsx\")\n",
    "\n",
    "            # Speichere Tabellen in die Excel-Datei\n",
    "            with pd.ExcelWriter(excel_file_path) as writer:\n",
    "                for i, table in enumerate(all_tables):\n",
    "                    table.to_excel(writer, sheet_name=f'Table_{i+1}', index=False)\n",
    "\n",
    "        messagebox.showinfo(\"Success\", f\"Tables have been extracted and saved to '{excel_file_path}'.\")\n",
    "        \n",
    "        # Öffne die erstellte Excel-Datei\n",
    "        open_file(excel_file_path)\n",
    "    except Exception as e:\n",
    "        print(f\"An error occurred: {str(e)}\")\n",
    "        messagebox.showerror(\"Error\", f\"An error occurred: {str(e)}\")\n",
    "    finally:\n",
    "        progress_bar.stop()  # Stop the progress bar\n",
    "        update_status(\"\")  # Clear status message\n",
    "\n",
    "\n",
    "def update_status(message):\n",
    "    status_label.config(text=message)\n",
    "\n",
    "def open_file(file_path):\n",
    "    try:\n",
    "        if os.name == 'nt':  # Windows\n",
    "            os.startfile(file_path)\n",
    "        elif os.name == 'posix':  # macOS oder Linux\n",
    "            subprocess.call(['open', file_path] if sys.platform == 'darwin' else ['xdg-open', file_path])\n",
    "    except Exception as e:\n",
    "        print(f\"Could not open the file: {str(e)}\")\n",
    "        messagebox.showerror(\"Error\", f\"Could not open the file: {str(e)}\")\n",
    "\n",
    "# Erstelle die GUI\n",
    "root = tk.Tk()\n",
    "root.title(\"PDF Table Extractor\")\n",
    "\n",
    "frame = tk.Frame(root, padx=10, pady=10)\n",
    "frame.pack(padx=10, pady=10)\n",
    "\n",
    "label = tk.Label(frame, text=\"Select a PDF file to extract tables:\")\n",
    "label.pack(pady=5)\n",
    "\n",
    "button = tk.Button(frame, text=\"Select PDF\", command=select_file)\n",
    "button.pack(pady=5)\n",
    "\n",
    "progress_bar = ttk.Progressbar(frame, orient=\"horizontal\", mode=\"determinate\")\n",
    "progress_bar.pack(pady=5, fill=tk.X)\n",
    "\n",
    "status_label = tk.Label(frame, text=\"\")\n",
    "status_label.pack(pady=5)\n",
    "\n",
    "root.mainloop()\n"
   ]
  },
  {
   "cell_type": "code",
   "execution_count": null,
   "id": "e95f2e24-e390-49f2-b92d-dd2eabc0759c",
   "metadata": {
    "editable": true,
    "slideshow": {
     "slide_type": ""
    },
    "tags": []
   },
   "outputs": [],
   "source": []
  }
 ],
 "metadata": {
  "kernelspec": {
   "display_name": "Python 3 (ipykernel)",
   "language": "python",
   "name": "python3"
  },
  "language_info": {
   "codemirror_mode": {
    "name": "ipython",
    "version": 3
   },
   "file_extension": ".py",
   "mimetype": "text/x-python",
   "name": "python",
   "nbconvert_exporter": "python",
   "pygments_lexer": "ipython3",
   "version": "3.11.7"
  }
 },
 "nbformat": 4,
 "nbformat_minor": 5
}
