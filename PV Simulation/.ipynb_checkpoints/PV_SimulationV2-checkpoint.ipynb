{
 "cells": [
  {
   "cell_type": "markdown",
   "id": "0b667402-d882-4672-bcb1-f0a132796750",
   "metadata": {
    "editable": true,
    "slideshow": {
     "slide_type": ""
    },
    "tags": []
   },
   "source": [
    "# PV Simulation "
   ]
  },
  {
   "cell_type": "markdown",
   "id": "6ec21c11-ecc5-46f8-8277-798ac0770514",
   "metadata": {},
   "source": [
    "## tests"
   ]
  },
  {
   "cell_type": "code",
   "execution_count": null,
   "id": "791a02b8-2154-4413-8ee9-4ebbb63e5304",
   "metadata": {
    "collapsed": true,
    "jupyter": {
     "outputs_hidden": true
    }
   },
   "outputs": [],
   "source": [
    "# tmy import & save\n",
    "import pvlib\n",
    "import pandas as pd \n",
    "import constants as c \n",
    "\n",
    "pv_gis_data, input_data, meta, additional_info = pvlib.iotools.get_pvgis_tmy(\n",
    "    latitude=c.BREITENGRAD, \n",
    "    longitude=c.LAENGENGRAD, \n",
    "    startyear=c.STARTJAHR, \n",
    "    endyear=c.ENDJAHR, \n",
    "    outputformat='json', \n",
    "    usehorizon=True, \n",
    "    userhorizon=None, \n",
    "    url='https://re.jrc.ec.europa.eu/api/v5_2/', \n",
    "    map_variables=True, \n",
    "    timeout=30\n",
    ")\n",
    "\n",
    "# print(pv_gis_data)\n",
    "# print(input_data)\n",
    "# print(meta)\n",
    "# print(additional_info)\n",
    "\n",
    "# pv_gis_data['poa_diffuse'] = pv_gis_data['poa_sky_diffuse']+ pv_gis_data['poa_ground_diffuse']\n",
    "# pv_gis_data['poa_global'] = pv_gis_data['poa_diffuse'] + pv_gis_data['poa_direct']\n",
    "\n",
    "# pv_gis_data.index = pd.to_datetime(pv_gis_data.index, format=\"%Y%m%d:H&M\") print(pv_gis_data)\n",
    "pv_gis_data.to_csv(\"pv_gis_data.csv\")"
   ]
  },
  {
   "cell_type": "code",
   "execution_count": null,
   "id": "a84a53d2-2d7d-43a8-baf7-51ff6d6cf1e6",
   "metadata": {
    "collapsed": true,
    "jupyter": {
     "outputs_hidden": true
    }
   },
   "outputs": [],
   "source": [
    "# formatieren der tmy Daten \n",
    "import pandas as pd \n",
    "\n",
    "tmy = pd.read_csv(\"pv_gis_data.csv\", \n",
    "                 usecols=[\"time(UTC)\", \"temp_air\", \"ghi\", \"dni\", \"dhi\", \"IR(h)\", \"wind_speed\", \"wind_direction\"],\n",
    "                  index_col= 0, \n",
    "                 )\n",
    "tmy.index = pd.date_range(\n",
    "    start= \"2021-01-01 00:00\", \n",
    "        end= \"2021-12-31 23:00\", \n",
    "    freq= \"h\" \n",
    ")\n",
    "\n",
    "\n",
    "print(tmy)\n",
    "tmy.plot(figsize = (9,16)) "
   ]
  },
  {
   "cell_type": "code",
   "execution_count": null,
   "id": "0d717065-3be3-4723-83f5-80e75e0cbe07",
   "metadata": {
    "collapsed": true,
    "jupyter": {
     "outputs_hidden": true,
     "source_hidden": true
    }
   },
   "outputs": [],
   "source": [
    "#PVGIS import spezifisches Jahr \n",
    "import pvlib\n",
    "import pandas as pd \n",
    "import constants as c \n",
    "\n",
    "\n",
    "pv_gis_data, input, meta = pvlib.iotools.get_pvgis_hourly(\n",
    "    latitude = c.BREITENGRAD, \n",
    "    longitude = c.LAENGENGRAD, \n",
    "    start=2020, end=2020, \n",
    "    raddatabase=\"PVGIS-SARAH2\", components=True, \n",
    "    surface_tilt=45, surface_azimuth=0, \n",
    "    outputformat='json', usehorizon=True, \n",
    "    userhorizon=None, \n",
    "    pvcalculation=False, # deaktiviert die PV Kalkulation von PV lib \n",
    "    peakpower=None, pvtechchoice='crystSi', \n",
    "    mountingplace='free', loss=0, trackingtype=0, \n",
    "    optimal_surface_tilt=False, optimalangles=False, \n",
    "    url='https://re.jrc.ec.europa.eu/api/v5_2/', \n",
    "    map_variables=True, timeout=30)\n",
    "\n",
    "\n",
    "\n",
    "pv_gis_data['poa_diffuse'] = pv_gis_data['poa_sky_diffuse']+ pv_gis_data['poa_ground_diffuse']\n",
    "pv_gis_data['poa_global'] = pv_gis_data['poa_diffuse'] + pv_gis_data['poa_direct']\n",
    "\n",
    "# pv_gis_data.index = pd.to_datetime(pv_gis_data.index, format=\"%Y%m%d:H&M\") print(pv_gis_data)\n",
    "# pv_gis_data.to_csv(\"pv_gis_data.csv\")\n",
    "\n",
    "print(pv_gis_data)"
   ]
  },
  {
   "cell_type": "code",
   "execution_count": null,
   "id": "7e5891cb-711c-46e3-96f0-9cc659e9c360",
   "metadata": {
    "collapsed": true,
    "jupyter": {
     "outputs_hidden": true,
     "source_hidden": true
    }
   },
   "outputs": [],
   "source": [
    "#test mit export Datein \n",
    "\n",
    "import tkinter as tk\n",
    "from tkinter import ttk\n",
    "from threading import Thread\n",
    "import constants as c\n",
    "from functions import calculation_pv\n",
    "from plotting import plot_results\n",
    "\n",
    "# Standardwerte für die Eingabefelder\n",
    "DEFAULT_VALUES = {\n",
    "    'Breitengrad': c.BREITENGRAD,\n",
    "    'Laengengrad': c.LAENGENGRAD,\n",
    "    'Hoehe': c.HOEHE,\n",
    "    'tilt': c.ANSTELLWINKEL,\n",
    "    'azimuth': c.AZIMUTH,\n",
    "    'startzeit': '2024-06-01 00:00:00',\n",
    "    'endzeit': '2024-06-01 23:59:59',\n",
    "    'schrittweite': '1',  # Standardmäßig 1 Minute Schrittweite\n",
    "    'pdc0': '250',\n",
    "    'gamma_pdc': '-0.004',\n",
    "    'a_ref': '1.5',\n",
    "    'Il_ref': '6',\n",
    "    'I0_ref': '0.001',\n",
    "    'Rs_ref': '0.5',\n",
    "    'Rsh_ref': '2000',\n",
    "    'Adjust': '8.2',\n",
    "    'Technology': 'monocrystalline',\n",
    "    'pdc0_inv': '240',\n",
    "    'eta_inv_nom': '0.96',\n",
    "    'eta_inv_ref': '0.9637'\n",
    "}\n",
    "\n",
    "class PVLeistungsberechnung:\n",
    "    def __init__(self, root):\n",
    "        self.root = root\n",
    "        self.root.title(\"PV-Leistungsberechnung\")\n",
    "\n",
    "        self.tabs = []\n",
    "        self.entries = []\n",
    "\n",
    "        self.create_tabs()\n",
    "        self.create_calculation_button()\n",
    "\n",
    "    def create_tabs(self):\n",
    "        tab_control = ttk.Notebook(self.root)\n",
    "        \n",
    "        # Tab für allgemeine Einstellungen\n",
    "        tab1 = ttk.Frame(tab_control)\n",
    "        tab_control.add(tab1, text='Allgemein')\n",
    "        self.create_input_frame(tab1, ['Breitengrad', 'Laengengrad', 'Hoehe', 'tilt', 'azimuth', 'startzeit', 'endzeit', 'schrittweite'])\n",
    "        self.tabs.append(tab1)\n",
    "\n",
    "        # Tab für Modulparameter\n",
    "        tab2 = ttk.Frame(tab_control)\n",
    "        tab_control.add(tab2, text='Modulparameter')\n",
    "        self.create_input_frame(tab2, ['pdc0', 'gamma_pdc', 'a_ref', 'Il_ref', 'I0_ref', 'Rs_ref', 'Rsh_ref', 'Adjust', 'Technology'])\n",
    "        self.tabs.append(tab2)\n",
    "\n",
    "        # Tab für Wechselrichterparameter\n",
    "        tab3 = ttk.Frame(tab_control)\n",
    "        tab_control.add(tab3, text='Wechselrichterparameter')\n",
    "        self.create_input_frame(tab3, ['pdc0_inv', 'eta_inv_nom', 'eta_inv_ref'])\n",
    "        self.tabs.append(tab3)\n",
    "\n",
    "        tab_control.pack(expand=1, fill=\"both\")\n",
    "\n",
    "    def create_input_frame(self, frame, keys):\n",
    "        frame = tk.Frame(frame, padx=10, pady=10)\n",
    "        frame.pack(padx=10, pady=10)\n",
    "\n",
    "        entries = {}\n",
    "        row = 0\n",
    "        for key in keys:\n",
    "            label = tk.Label(frame, text=f\"{key.capitalize()}:\")\n",
    "            label.grid(row=row, column=0, sticky=tk.W)\n",
    "            entry = tk.Entry(frame)\n",
    "            entry.grid(row=row, column=1)\n",
    "            entry.insert(0, DEFAULT_VALUES[key])\n",
    "            entries[key] = entry\n",
    "            row += 1\n",
    "\n",
    "        self.entries.append(entries)\n",
    "\n",
    "    def create_calculation_button(self):\n",
    "        button_berechnen = tk.Button(self.root, text=\"Berechnen\", command=self.starte_berechnung)\n",
    "        button_berechnen.pack(pady=10)\n",
    "\n",
    "    def starte_berechnung(self):\n",
    "        thread = Thread(target=self.berechnung_thread)\n",
    "        thread.start()\n",
    "\n",
    "    def berechnung_thread(self):\n",
    "        erzeugte_energie, stromerzeugung, berechnungszeit = calculation_pv(self.entries)\n",
    "        if erzeugte_energie is not None and stromerzeugung is not None:\n",
    "            plot_results(self.root, erzeugte_energie, stromerzeugung, berechnungszeit, self.entries)\n",
    "\n",
    "if __name__ == \"__main__\":\n",
    "    root = tk.Tk()\n",
    "    app = PVLeistungsberechnung(root)\n",
    "    root.mainloop()\n"
   ]
  },
  {
   "cell_type": "markdown",
   "id": "4ad93fcf-7ff1-49fc-ac1d-4830165d9903",
   "metadata": {
    "jp-MarkdownHeadingCollapsed": true
   },
   "source": [
    "### nur in python"
   ]
  },
  {
   "cell_type": "code",
   "execution_count": null,
   "id": "c2e8e071-2b9e-4cde-999e-633631031bed",
   "metadata": {},
   "outputs": [],
   "source": [
    "import pandas as pd\n",
    "import numpy as np\n",
    "import matplotlib.pyplot as plt\n",
    "import pvlib\n",
    "from pvlib.pvsystem import PVSystem, Array, FixedMount\n",
    "from pvlib.modelchain import ModelChain\n",
    "from pvlib.location import Location \n",
    "from pvlib.temperature import TEMPERATURE_MODEL_PARAMETERS\n",
    "\n",
    "# Standort definieren (Beispiel: Freiburg, Deutschland)\n",
    "standort = Location(\n",
    "    latitude=47.9936,  # Breitengrad\n",
    "    longitude=7.8522,  # Längengrad\n",
    "    altitude=278,      # Höhe über dem Meeresspiegel in Metern\n",
    "    tz='Europe/Berlin' # Zeitzone\n",
    ")\n",
    "\n",
    "# Zeitraum für die Berechnung festlegen\n",
    "startzeit = pd.Timestamp('2024-06-01 00:00:00', tz='Europe/Berlin')\n",
    "endzeit = pd.Timestamp('2024-06-05 23:59:59', tz='Europe/Berlin')\n",
    "zeit_index = pd.date_range(start=startzeit, end=endzeit, freq='1min', tz='Europe/Berlin')\n",
    "\n",
    "# Solare Einstrahlung berechnen (minütliche Auflösung)\n",
    "solare_einstrahlung = standort.get_clearsky(zeit_index)\n",
    "\n",
    "# Wetterdaten generieren (fiktive Daten)\n",
    "# In einer realen Anwendung sollten diese Daten aus einer Wetterdatenquelle stammen\n",
    "temperaturen = pd.Series(20 + 5 * np.sin(np.linspace(0, 2 * np.pi, len(zeit_index))), index=zeit_index)\n",
    "windgeschwindigkeit = pd.Series(2, index=zeit_index)\n",
    "\n",
    "# Berechnung von dni und dhi basierend auf ghi\n",
    "dni = pvlib.irradiance.erbs(solare_einstrahlung['ghi'], standort.get_solarposition(zeit_index)['apparent_zenith'], zeit_index)['dni']\n",
    "dhi = solare_einstrahlung['ghi'] - dni * np.cos(np.radians(standort.get_solarposition(zeit_index)['apparent_zenith']))\n",
    "\n",
    "wetterdaten = pd.DataFrame({\n",
    "    'temp_air': temperaturen,\n",
    "    'wind_speed': windgeschwindigkeit,\n",
    "    'ghi': solare_einstrahlung['ghi'],\n",
    "    'dni': dni,\n",
    "    'dhi': dhi\n",
    "}, index=zeit_index)\n",
    "\n",
    "# Beispiel: Parameter eines Solarmoduls (fiktive Daten)\n",
    "modul_parameter = {\n",
    "    'pdc0': 250,  # Nennleistung (W)\n",
    "    'gamma_pdc': -0.004,  # Leistungskoeffizient (%/°C)\n",
    "    'a_ref': 1.5,  # Diode-Parameter\n",
    "    'Il_ref': 6,   # Leerlaufstrom (A)\n",
    "    'I0_ref': 0.001,  # Sättigungsstrom (A)\n",
    "    'Rs_ref': 0.5,  # Serienwiderstand (Ohm)\n",
    "    'Rsh_ref': 2000,  # Parallelwiderstand (Ohm)\n",
    "    'Adjust': 8.2,  # Anpassungsfaktor\n",
    "    'Technology': 'monocrystalline'  # Technologie des Moduls\n",
    "}\n",
    "\n",
    "# Beispiel: Parameter eines Wechselrichters (fiktive Daten)\n",
    "wechselrichter_parameter = {\n",
    "    'pdc0': 800,  # Nennleistung des Wechselrichters (W)\n",
    "    'eta_inv_nom': 0.96,  # Wirkungsgrad des Wechselrichters (%)\n",
    "    'eta_inv_ref': 0.9637  # Referenz-Wirkungsgrad des Wechselrichters (%)\n",
    "}\n",
    "\n",
    "# Parameter für das Temperaturmodell\n",
    "temp_model_params = {\n",
    "    'u_c': 29.0,  # Verlustfaktor für freistehende Montage (W/m²K)\n",
    "    'u_v': 0.0   # Windverlustfaktor (W/m²K)/(m/s)\n",
    "}\n",
    "\n",
    "# Montagesystem definieren (Beispiel: feste Montierung)\n",
    "mount = FixedMount(surface_tilt=30, surface_azimuth=180)  # Neigungswinkel: 30°, Azimut: 180° (Süden)\n",
    "\n",
    "# Erstellung des Arrays mit Temperaturmodell und Montagesystem\n",
    "array = Array(\n",
    "    mount=mount, \n",
    "    module_parameters=modul_parameter, \n",
    "    temperature_model_parameters=temp_model_params, \n",
    "    modules_per_string=2)\n",
    "\n",
    "# Erstellung des PV-Systems mit Arrays\n",
    "system = PVSystem(\n",
    "    arrays=[array], \n",
    "    inverter_parameters=wechselrichter_parameter)\n",
    "\n",
    "# Erstellung der ModelChain\n",
    "mc = ModelChain(system, standort, aoi_model='physical', spectral_model='no_loss')\n",
    "\n",
    "# Durchführung der Simulation\n",
    "mc.run_model(wetterdaten)\n",
    "\n",
    "# Berechnung der erzeugten Leistung (in Wh)\n",
    "ac_power = mc.results.ac\n",
    "stromerzeugungen = mc.results.ac.sum() * (1/60)  # Umwandlung von W zu Wh\n",
    "\n",
    "print(f\"Erzeugte Leistung am 1. Juni 2024 in Freiburg: {stromerzeugungen:.2f} Wattstunden\")\n",
    "\n",
    "ac_power.plot()\n",
    "plt.ylabel('AC Power (W)')\n",
    "plt.xlabel('Time')\n",
    "plt.title(f\"PV Power Output from {startzeit} bis {endzeit}\")\n",
    "plt.show()"
   ]
  },
  {
   "cell_type": "code",
   "execution_count": null,
   "id": "3f014b0a-d2cc-43cb-a44e-622303dbfe8d",
   "metadata": {},
   "outputs": [],
   "source": [
    "%reset -f \n",
    "%restart -f"
   ]
  },
  {
   "cell_type": "code",
   "execution_count": null,
   "id": "7352c44c-129d-490b-a593-ed4c5ce236ac",
   "metadata": {},
   "outputs": [],
   "source": []
  },
  {
   "cell_type": "markdown",
   "id": "1c356a34-dd45-42ae-bbea-695a3783f0dc",
   "metadata": {},
   "source": [
    "### GUI mit plot und default "
   ]
  },
  {
   "cell_type": "code",
   "execution_count": null,
   "id": "a79dde2c-27af-4203-bb19-2d5228cdf5f6",
   "metadata": {
    "jupyter": {
     "source_hidden": true
    }
   },
   "outputs": [],
   "source": [
    "import tkinter as tk\n",
    "from tkinter import messagebox\n",
    "import pandas as pd\n",
    "import numpy as np\n",
    "import pvlib\n",
    "from pvlib.pvsystem import PVSystem, Array, FixedMount\n",
    "from pvlib.modelchain import ModelChain\n",
    "from pvlib.location import Location\n",
    "import matplotlib.pyplot as plt\n",
    "from matplotlib.backends.backend_tkagg import FigureCanvasTkAgg\n",
    "\n",
    "# Standardwerte für die Eingabefelder\n",
    "DEFAULT_VALUES = {\n",
    "    'latitude': '47.9936',\n",
    "    'longitude': '7.8522',\n",
    "    'altitude': '278',\n",
    "    'tilt': '30',\n",
    "    'azimuth': '180',\n",
    "    'startzeit': '2024-06-01 00:00:00',\n",
    "    'endzeit': '2024-06-01 23:59:59'\n",
    "}\n",
    "\n",
    "class PVLeistungsberechnung:\n",
    "    def __init__(self, root):\n",
    "        self.root = root\n",
    "        self.root.title(\"PV-Leistungsberechnung\")\n",
    "\n",
    "        self.create_input_frame()\n",
    "        self.create_calculation_button()\n",
    "\n",
    "    def create_input_frame(self):\n",
    "        frame = tk.Frame(self.root, padx=10, pady=10)\n",
    "        frame.pack(padx=10, pady=10)\n",
    "\n",
    "        self.entries = {}\n",
    "        row = 0\n",
    "        for key, default_value in DEFAULT_VALUES.items():\n",
    "            label = tk.Label(frame, text=f\"{key.capitalize()}:\")\n",
    "            label.grid(row=row, column=0, sticky=tk.W)\n",
    "            entry = tk.Entry(frame)\n",
    "            entry.grid(row=row, column=1)\n",
    "            entry.insert(0, default_value)\n",
    "            self.entries[key] = entry\n",
    "            row += 1\n",
    "\n",
    "    def create_calculation_button(self):\n",
    "        button_berechnen = tk.Button(self.root, text=\"Berechnen\", command=self.berechnung_durchfuehren)\n",
    "        button_berechnen.pack(pady=10)\n",
    "\n",
    "    def berechnung_durchfuehren(self):\n",
    "        try:\n",
    "            latitude = float(self.entries['latitude'].get())\n",
    "            longitude = float(self.entries['longitude'].get())\n",
    "            altitude = float(self.entries['altitude'].get())\n",
    "            tilt = float(self.entries['tilt'].get())\n",
    "            azimuth = float(self.entries['azimuth'].get())\n",
    "            startzeit = pd.Timestamp(self.entries['startzeit'].get(), tz='Europe/Berlin')\n",
    "            endzeit = pd.Timestamp(self.entries['endzeit'].get(), tz='Europe/Berlin')\n",
    "\n",
    "            standort = Location(\n",
    "                latitude=latitude,\n",
    "                longitude=longitude,\n",
    "                altitude=altitude,\n",
    "                tz='Europe/Berlin'\n",
    "            )\n",
    "\n",
    "            zeit_index = pd.date_range(start=startzeit, end=endzeit, freq='1min', tz='Europe/Berlin')\n",
    "\n",
    "            solare_einstrahlung = standort.get_clearsky(zeit_index)\n",
    "\n",
    "            temperaturen = pd.Series(20 + 5 * np.sin(np.linspace(0, 2 * np.pi, len(zeit_index))), index=zeit_index)\n",
    "            windgeschwindigkeit = pd.Series(2, index=zeit_index)\n",
    "\n",
    "            dni = pvlib.irradiance.erbs(solare_einstrahlung['ghi'], standort.get_solarposition(zeit_index)['apparent_zenith'], zeit_index)['dni']\n",
    "            dhi = solare_einstrahlung['ghi'] - dni * np.cos(np.radians(standort.get_solarposition(zeit_index)['apparent_zenith']))\n",
    "\n",
    "            wetterdaten = pd.DataFrame({\n",
    "                'temp_air': temperaturen,\n",
    "                'wind_speed': windgeschwindigkeit,\n",
    "                'ghi': solare_einstrahlung['ghi'],\n",
    "                'dni': dni,\n",
    "                'dhi': dhi\n",
    "            }, index=zeit_index)\n",
    "\n",
    "            modul_parameter = {\n",
    "                'pdc0': 250,\n",
    "                'gamma_pdc': -0.004,\n",
    "                'a_ref': 1.5,\n",
    "                'Il_ref': 6,\n",
    "                'I0_ref': 0.001,\n",
    "                'Rs_ref': 0.5,\n",
    "                'Rsh_ref': 2000,\n",
    "                'Adjust': 8.2,\n",
    "                'Technology': 'monocrystalline'\n",
    "            }\n",
    "\n",
    "            wechselrichter_parameter = {\n",
    "                'pdc0': 240,\n",
    "                'eta_inv_nom': 0.96,\n",
    "                'eta_inv_ref': 0.9637\n",
    "            }\n",
    "\n",
    "            temp_model_params = {\n",
    "                'u_c': 29.0,\n",
    "                'u_v': 0.0\n",
    "            }\n",
    "\n",
    "            mount = FixedMount(surface_tilt=tilt, surface_azimuth=azimuth)\n",
    "\n",
    "            array = Array(mount=mount, module_parameters=modul_parameter, temperature_model_parameters=temp_model_params)\n",
    "            system = PVSystem(arrays=[array], inverter_parameters=wechselrichter_parameter)\n",
    "\n",
    "            mc = ModelChain(system, standort, aoi_model='physical', spectral_model='no_loss')\n",
    "            mc.run_model(wetterdaten)\n",
    "\n",
    "            stromerzeugung = mc.results.ac\n",
    "\n",
    "            # Ergebnis als Grafik anzeigen\n",
    "            self.plot_results(stromerzeugung)\n",
    "\n",
    "        except Exception as e:\n",
    "            messagebox.showerror(\"Fehler\", f\"Ein Fehler ist aufgetreten: {e}\")\n",
    "\n",
    "    def plot_results(self, stromerzeugung):\n",
    "        ergebnis_win = tk.Toplevel(self.root)\n",
    "        ergebnis_win.title(\"Ergebnis der Stromerzeugung\")\n",
    "\n",
    "        fig, ax = plt.subplots(figsize=(8, 6))\n",
    "        ax.plot(stromerzeugung.index, stromerzeugung, label='Erzeugte Leistung (W)')\n",
    "        ax.set_xlabel('Zeit')\n",
    "        ax.set_ylabel('Leistung (W)')\n",
    "        ax.set_title('Stromerzeugung')\n",
    "        ax.legend()\n",
    "        ax.grid(True)\n",
    "\n",
    "        canvas = FigureCanvasTkAgg(fig, master=ergebnis_win)\n",
    "        canvas.draw()\n",
    "        canvas.get_tk_widget().pack()\n",
    "\n",
    "if __name__ == \"__main__\":\n",
    "    root = tk.Tk()\n",
    "    app = PVLeistungsberechnung(root)\n",
    "    root.mainloop()\n"
   ]
  },
  {
   "cell_type": "markdown",
   "id": "66c310cf-d79d-4937-817c-6c1f8c0f6ff4",
   "metadata": {},
   "source": [
    "verschnellert "
   ]
  },
  {
   "cell_type": "code",
   "execution_count": null,
   "id": "6a35d5f4-bf33-46b4-a8e5-d8afa96c0d6e",
   "metadata": {
    "collapsed": true,
    "jupyter": {
     "outputs_hidden": true,
     "source_hidden": true
    },
    "scrolled": true
   },
   "outputs": [],
   "source": [
    "import tkinter as tk\n",
    "from tkinter import messagebox\n",
    "import pandas as pd\n",
    "import numpy as np\n",
    "import pvlib\n",
    "from pvlib.pvsystem import PVSystem, Array, FixedMount\n",
    "from pvlib.modelchain import ModelChain\n",
    "from pvlib.location import Location\n",
    "import matplotlib.pyplot as plt\n",
    "from matplotlib.backends.backend_tkagg import FigureCanvasTkAgg\n",
    "from threading import Thread\n",
    "import time\n",
    "\n",
    "# Standardwerte für die Eingabefelder\n",
    "DEFAULT_VALUES = {\n",
    "    'latitude': '47.9936',\n",
    "    'longitude': '7.8522',\n",
    "    'altitude': '278',\n",
    "    'tilt': '30',\n",
    "    'azimuth': '180',\n",
    "    'startzeit': '2024-06-01 00:00:00',\n",
    "    'endzeit': '2024-06-01 23:59:59'\n",
    "}\n",
    "\n",
    "class PVLeistungsberechnung:\n",
    "    def __init__(self, root):\n",
    "        self.root = root\n",
    "        self.root.title(\"PV-Leistungsberechnung\")\n",
    "\n",
    "        self.create_input_frame()\n",
    "        self.create_calculation_button()\n",
    "\n",
    "    def create_input_frame(self):\n",
    "        frame = tk.Frame(self.root, padx=10, pady=10)\n",
    "        frame.pack(padx=10, pady=10)\n",
    "\n",
    "        self.entries = {}\n",
    "        row = 0\n",
    "        for key, default_value in DEFAULT_VALUES.items():\n",
    "            label = tk.Label(frame, text=f\"{key.capitalize()}:\")\n",
    "            label.grid(row=row, column=0, sticky=tk.W)\n",
    "            entry = tk.Entry(frame)\n",
    "            entry.grid(row=row, column=1)\n",
    "            entry.insert(0, default_value)\n",
    "            self.entries[key] = entry\n",
    "            row += 1\n",
    "\n",
    "    def create_calculation_button(self):\n",
    "        button_berechnen = tk.Button(self.root, text=\"Berechnen\", command=self.starte_berechnung)\n",
    "        button_berechnen.pack(pady=10)\n",
    "\n",
    "    def starte_berechnung(self):\n",
    "        thread = Thread(target=self.berechnung_durchfuehren)\n",
    "        thread.start()\n",
    "\n",
    "    def berechnung_durchfuehren(self):\n",
    "        try:\n",
    "            latitude = float(self.entries['latitude'].get())\n",
    "            longitude = float(self.entries['longitude'].get())\n",
    "            altitude = float(self.entries['altitude'].get())\n",
    "            tilt = float(self.entries['tilt'].get())\n",
    "            azimuth = float(self.entries['azimuth'].get())\n",
    "            startzeit = pd.Timestamp(self.entries['startzeit'].get(), tz='Europe/Berlin')\n",
    "            endzeit = pd.Timestamp(self.entries['endzeit'].get(), tz='Europe/Berlin')\n",
    "\n",
    "            standort = Location(\n",
    "                latitude=latitude,\n",
    "                longitude=longitude,\n",
    "                altitude=altitude,\n",
    "                tz='Europe/Berlin'\n",
    "            )\n",
    "\n",
    "            zeit_index = pd.date_range(start=startzeit, end=endzeit, freq='1min', tz='Europe/Berlin')\n",
    "\n",
    "            solare_einstrahlung = standort.get_clearsky(zeit_index)\n",
    "\n",
    "            temperaturen = pd.Series(20 + 5 * np.sin(np.linspace(0, 2 * np.pi, len(zeit_index))), index=zeit_index)\n",
    "            windgeschwindigkeit = pd.Series(2, index=zeit_index)\n",
    "\n",
    "            dni = pvlib.irradiance.erbs(solare_einstrahlung['ghi'], standort.get_solarposition(zeit_index)['apparent_zenith'], zeit_index)['dni']\n",
    "            dhi = solare_einstrahlung['ghi'] - dni * np.cos(np.radians(standort.get_solarposition(zeit_index)['apparent_zenith']))\n",
    "\n",
    "            wetterdaten = pd.DataFrame({\n",
    "                'temp_air': temperaturen,\n",
    "                'wind_speed': windgeschwindigkeit,\n",
    "                'ghi': solare_einstrahlung['ghi'],\n",
    "                'dni': dni,\n",
    "                'dhi': dhi\n",
    "            }, index=zeit_index)\n",
    "\n",
    "            modul_parameter = {\n",
    "                'pdc0': 250,\n",
    "                'gamma_pdc': -0.004,\n",
    "                'a_ref': 1.5,\n",
    "                'Il_ref': 6,\n",
    "                'I0_ref': 0.001,\n",
    "                'Rs_ref': 0.5,\n",
    "                'Rsh_ref': 2000,\n",
    "                'Adjust': 8.2,\n",
    "                'Technology': 'monocrystalline'\n",
    "            }\n",
    "\n",
    "            wechselrichter_parameter = {\n",
    "                'pdc0': 240,\n",
    "                'eta_inv_nom': 0.96,\n",
    "                'eta_inv_ref': 0.9637\n",
    "            }\n",
    "\n",
    "            temp_model_params = {\n",
    "                'u_c': 29.0,\n",
    "                'u_v': 0.0\n",
    "            }\n",
    "\n",
    "            mount = FixedMount(surface_tilt=tilt, surface_azimuth=azimuth)\n",
    "\n",
    "            array = Array(mount=mount, module_parameters=modul_parameter, temperature_model_parameters=temp_model_params)\n",
    "            system = PVSystem(arrays=[array], inverter_parameters=wechselrichter_parameter)\n",
    "\n",
    "            mc = ModelChain(system, standort, aoi_model='physical', spectral_model='no_loss')\n",
    "            \n",
    "            start_time = time.time()\n",
    "            mc.run_model(wetterdaten)\n",
    "            end_time = time.time()\n",
    "\n",
    "            stromerzeugung = mc.results.ac\n",
    "\n",
    "            # Ergebnis als Grafik anzeigen\n",
    "            self.plot_results(stromerzeugung, end_time - start_time)\n",
    "\n",
    "        except Exception as e:\n",
    "            messagebox.showerror(\"Fehler\", f\"Ein Fehler ist aufgetreten: {e}\")\n",
    "\n",
    "    def plot_results(self, stromerzeugung, berechnungszeit):\n",
    "        ergebnis_win = tk.Toplevel(self.root)\n",
    "        ergebnis_win.title(\"Ergebnis der Stromerzeugung\")\n",
    "\n",
    "        fig, ax = plt.subplots(figsize=(8, 6))\n",
    "        ax.plot(stromerzeugung.index, stromerzeugung, label='Erzeugte Leistung (W)')\n",
    "        ax.set_xlabel('Zeit')\n",
    "        ax.set_ylabel('Leistung (W)')\n",
    "        ax.set_title('Stromerzeugung')\n",
    "        ax.legend()\n",
    "        ax.grid(True)\n",
    "\n",
    "        text = f'Berechnungszeit: {berechnungszeit:.2f} Sekunden'\n",
    "        ax.text(0.02, 0.95, text, transform=ax.transAxes, fontsize=10, verticalalignment='top')\n",
    "\n",
    "        canvas = FigureCanvasTkAgg(fig, master=ergebnis_win)\n",
    "        canvas.draw()\n",
    "        canvas.get_tk_widget().pack()\n",
    "\n",
    "if __name__ == \"__main__\":\n",
    "    root = tk.Tk()\n",
    "    app = PVLeistungsberechnung(root)\n",
    "    root.mainloop()\n"
   ]
  },
  {
   "cell_type": "markdown",
   "id": "3e10d4e0-cbf8-46bc-92d3-9d4618e0b46a",
   "metadata": {
    "jp-MarkdownHeadingCollapsed": true
   },
   "source": [
    "### Schrittweiteneinstellung"
   ]
  },
  {
   "cell_type": "code",
   "execution_count": null,
   "id": "b79b7b0d-2f76-4c83-b0e3-6eca90e0bbe2",
   "metadata": {
    "collapsed": true,
    "jupyter": {
     "outputs_hidden": true
    }
   },
   "outputs": [],
   "source": [
    "import tkinter as tk\n",
    "from tkinter import messagebox\n",
    "import pandas as pd\n",
    "import numpy as np\n",
    "import pvlib\n",
    "from pvlib.pvsystem import PVSystem, Array, FixedMount\n",
    "from pvlib.modelchain import ModelChain\n",
    "from pvlib.location import Location\n",
    "import matplotlib.pyplot as plt\n",
    "from matplotlib.backends.backend_tkagg import FigureCanvasTkAgg\n",
    "from threading import Thread\n",
    "import time\n",
    "\n",
    "# Standardwerte für die Eingabefelder\n",
    "DEFAULT_VALUES = {\n",
    "    'latitude': '47.9936',\n",
    "    'longitude': '7.8522',\n",
    "    'altitude': '278',\n",
    "    'tilt': '30',\n",
    "    'azimuth': '180',\n",
    "    'startzeit': '2024-06-01 00:00:00',\n",
    "    'endzeit': '2024-06-01 23:59:59',\n",
    "    'schrittweite': '1'  # Standardmäßig 1 Minute Schrittweite\n",
    "}\n",
    "\n",
    "class PVLeistungsberechnung:\n",
    "    def __init__(self, root):\n",
    "        self.root = root\n",
    "        self.root.title(\"PV-Leistungsberechnung\")\n",
    "\n",
    "        self.create_input_frame()\n",
    "        self.create_calculation_button()\n",
    "\n",
    "    def create_input_frame(self):\n",
    "        frame = tk.Frame(self.root, padx=10, pady=10)\n",
    "        frame.pack(padx=10, pady=10)\n",
    "\n",
    "        self.entries = {}\n",
    "        row = 0\n",
    "        for key, default_value in DEFAULT_VALUES.items():\n",
    "            label = tk.Label(frame, text=f\"{key.capitalize()}:\")\n",
    "            label.grid(row=row, column=0, sticky=tk.W)\n",
    "            entry = tk.Entry(frame)\n",
    "            entry.grid(row=row, column=1)\n",
    "            entry.insert(0, default_value)\n",
    "            self.entries[key] = entry\n",
    "            row += 1\n",
    "\n",
    "    def create_calculation_button(self):\n",
    "        button_berechnen = tk.Button(self.root, text=\"Berechnen\", command=self.starte_berechnung)\n",
    "        button_berechnen.pack(pady=10)\n",
    "\n",
    "    def starte_berechnung(self):\n",
    "        thread = Thread(target=self.berechnung_durchfuehren)\n",
    "        thread.start()\n",
    "\n",
    "    def berechnung_durchfuehren(self):\n",
    "        try:\n",
    "            latitude = float(self.entries['latitude'].get())\n",
    "            longitude = float(self.entries['longitude'].get())\n",
    "            altitude = float(self.entries['altitude'].get())\n",
    "            tilt = float(self.entries['tilt'].get())\n",
    "            azimuth = float(self.entries['azimuth'].get())\n",
    "            startzeit = pd.Timestamp(self.entries['startzeit'].get(), tz='Europe/Berlin')\n",
    "            endzeit = pd.Timestamp(self.entries['endzeit'].get(), tz='Europe/Berlin')\n",
    "            schrittweite = int(self.entries['schrittweite'].get())\n",
    "\n",
    "            standort = Location(\n",
    "                latitude=latitude,\n",
    "                longitude=longitude,\n",
    "                altitude=altitude,\n",
    "                tz='Europe/Berlin'\n",
    "            )\n",
    "\n",
    "            zeit_index = pd.date_range(start=startzeit, end=endzeit, freq=f'{schrittweite}min', tz='Europe/Berlin')\n",
    "\n",
    "            solare_einstrahlung = standort.get_clearsky(zeit_index)\n",
    "\n",
    "            temperaturen = pd.Series(20 + 5 * np.sin(np.linspace(0, 2 * np.pi, len(zeit_index))), index=zeit_index)\n",
    "            windgeschwindigkeit = pd.Series(2, index=zeit_index)\n",
    "\n",
    "            dni = pvlib.irradiance.erbs(solare_einstrahlung['ghi'], standort.get_solarposition(zeit_index)['apparent_zenith'], zeit_index)['dni']\n",
    "            dhi = solare_einstrahlung['ghi'] - dni * np.cos(np.radians(standort.get_solarposition(zeit_index)['apparent_zenith']))\n",
    "\n",
    "            wetterdaten = pd.DataFrame({\n",
    "                'temp_air': temperaturen,\n",
    "                'wind_speed': windgeschwindigkeit,\n",
    "                'ghi': solare_einstrahlung['ghi'],\n",
    "                'dni': dni,\n",
    "                'dhi': dhi\n",
    "            }, index=zeit_index)\n",
    "\n",
    "            modul_parameter = {\n",
    "                'pdc0': 250,\n",
    "                'gamma_pdc': -0.004,\n",
    "                'a_ref': 1.5,\n",
    "                'Il_ref': 6,\n",
    "                'I0_ref': 0.001,\n",
    "                'Rs_ref': 0.5,\n",
    "                'Rsh_ref': 2000,\n",
    "                'Adjust': 8.2,\n",
    "                'Technology': 'monocrystalline'\n",
    "            }\n",
    "\n",
    "            wechselrichter_parameter = {\n",
    "                'pdc0': 240,\n",
    "                'eta_inv_nom': 0.96,\n",
    "                'eta_inv_ref': 0.9637\n",
    "            }\n",
    "\n",
    "            temp_model_params = {\n",
    "                'u_c': 29.0,\n",
    "                'u_v': 0.0\n",
    "            }\n",
    "\n",
    "            mount = FixedMount(surface_tilt=tilt, surface_azimuth=azimuth)\n",
    "\n",
    "            array = Array(mount=mount, module_parameters=modul_parameter, temperature_model_parameters=temp_model_params)\n",
    "            system = PVSystem(arrays=[array], inverter_parameters=wechselrichter_parameter)\n",
    "\n",
    "            mc = ModelChain(system, standort, aoi_model='physical', spectral_model='no_loss')\n",
    "            \n",
    "            start_time = time.time()\n",
    "            mc.run_model(wetterdaten)\n",
    "            end_time = time.time()\n",
    "\n",
    "            stromerzeugung = mc.results.ac\n",
    "\n",
    "            # Ergebnis als Grafik anzeigen\n",
    "            self.plot_results(stromerzeugung, end_time - start_time)\n",
    "\n",
    "        except Exception as e:\n",
    "            messagebox.showerror(\"Fehler\", f\"Ein Fehler ist aufgetreten: {e}\")\n",
    "\n",
    "    def plot_results(self, stromerzeugung, berechnungszeit):\n",
    "        ergebnis_win = tk.Toplevel(self.root)\n",
    "        ergebnis_win.title(\"Ergebnis der Stromerzeugung\")\n",
    "\n",
    "        fig, ax = plt.subplots(figsize=(8, 6))\n",
    "        ax.plot(stromerzeugung.index, stromerzeugung, label='Erzeugte Leistung (W)')\n",
    "        ax.set_xlabel('Zeit')\n",
    "        ax.set_ylabel('Leistung (W)')\n",
    "        ax.set_title('Stromerzeugung')\n",
    "        ax.legend()\n",
    "        ax.grid(True)\n",
    "\n",
    "        text = f'Berechnungszeit: {berechnungszeit:.2f} Sekunden'\n",
    "        ax.text(0.02, 0.95, text, transform=ax.transAxes, fontsize=10, verticalalignment='top')\n",
    "\n",
    "        canvas = FigureCanvasTkAgg(fig, master=ergebnis_win)\n",
    "        canvas.draw()\n",
    "        canvas.get_tk_widget().pack()\n",
    "\n",
    "if __name__ == \"__main__\":\n",
    "    root = tk.Tk()\n",
    "    app = PVLeistungsberechnung(root)\n",
    "    root.mainloop()\n"
   ]
  },
  {
   "cell_type": "markdown",
   "id": "9cc73648-e41f-4898-a2b9-c956fdbc3232",
   "metadata": {},
   "source": [
    "### GUI mit Reitern und Parameter in der Ergebnissdarstellung "
   ]
  },
  {
   "cell_type": "markdown",
   "id": "5097c40e-272f-4738-aee9-4326d15527e4",
   "metadata": {},
   "source": [
    "Simulation soll auf basis von tmy erstellt werde, damit die Ergebnisse vergleichbar bleiben. TMY Daten müssen immer für jeden Ort inividuell abgerufen werden. nach dem Abruffen sollen sie als csv gespeichert werden. bei jeder erneuten Simulation soll überprüft werden ob Daten schon vorhanden sind (Demnach Längen- & Breitengrad mit in Dateinamen"
   ]
  },
  {
   "cell_type": "code",
   "execution_count": 1,
   "id": "32085b47",
   "metadata": {},
   "outputs": [
    {
     "name": "stdout",
     "output_type": "stream",
     "text": [
      "Standort definiert: Location: \n",
      "  name: None\n",
      "  latitude: 47.9936\n",
      "  longitude: 7.8522\n",
      "  altitude: 278.0\n",
      "  tz: Europe/Berlin\n",
      "Berechnung gestartet\n",
      "WEA Standortdaten extrahieren: pv_gis_data_47.9936_7.8522.csv\n",
      "Der Ordner 'export' existiert bereits.\n"
     ]
    },
    {
     "name": "stderr",
     "output_type": "stream",
     "text": [
      "c:\\Users\\Caj\\OneDrive\\HTW\\THW BBK RE im KatSchutz\\Programme\\PV Simulation\\sub_functions.py:197: FutureWarning: 'H' is deprecated and will be removed in a future version, please use 'h' instead.\n",
      "  time_range = pd.date_range(start=startzeit, end=endzeit, freq='H')\n"
     ]
    },
    {
     "name": "stdout",
     "output_type": "stream",
     "text": [
      "Der Ordner 'export' existiert bereits.\n"
     ]
    },
    {
     "data": {
      "application/vnd.plotly.v1+json": {
       "config": {
        "plotlyServerURL": "https://plot.ly"
       },
       "data": [
        {
         "mode": "lines",
         "name": "Leistungsbedarf Zelt",
         "type": "scatter",
         "x": [
          "2021-06-04T00:00:00",
          "2021-06-04T01:00:00",
          "2021-06-04T02:00:00",
          "2021-06-04T03:00:00",
          "2021-06-04T04:00:00",
          "2021-06-04T05:00:00",
          "2021-06-04T06:00:00",
          "2021-06-04T07:00:00",
          "2021-06-04T08:00:00",
          "2021-06-04T09:00:00",
          "2021-06-04T10:00:00",
          "2021-06-04T11:00:00",
          "2021-06-04T12:00:00",
          "2021-06-04T13:00:00",
          "2021-06-04T14:00:00",
          "2021-06-04T15:00:00",
          "2021-06-04T16:00:00",
          "2021-06-04T17:00:00",
          "2021-06-04T18:00:00",
          "2021-06-04T19:00:00",
          "2021-06-04T20:00:00",
          "2021-06-04T21:00:00",
          "2021-06-04T22:00:00",
          "2021-06-04T23:00:00"
         ],
         "y": [
          0.2,
          0.2,
          0.2,
          0.2,
          0.2,
          0.2,
          0.5,
          0.5,
          0.5,
          0.3,
          0.3,
          0.3,
          0.3,
          0.3,
          0.3,
          0.3,
          0.3,
          0.3,
          0.6,
          0.6,
          0.6,
          0.6,
          0.3,
          0.3
         ]
        },
        {
         "mode": "lines",
         "name": "Leistungsbedarf Wohnbereich",
         "type": "scatter",
         "x": [
          "2021-06-04T00:00:00",
          "2021-06-04T01:00:00",
          "2021-06-04T02:00:00",
          "2021-06-04T03:00:00",
          "2021-06-04T04:00:00",
          "2021-06-04T05:00:00",
          "2021-06-04T06:00:00",
          "2021-06-04T07:00:00",
          "2021-06-04T08:00:00",
          "2021-06-04T09:00:00",
          "2021-06-04T10:00:00",
          "2021-06-04T11:00:00",
          "2021-06-04T12:00:00",
          "2021-06-04T13:00:00",
          "2021-06-04T14:00:00",
          "2021-06-04T15:00:00",
          "2021-06-04T16:00:00",
          "2021-06-04T17:00:00",
          "2021-06-04T18:00:00",
          "2021-06-04T19:00:00",
          "2021-06-04T20:00:00",
          "2021-06-04T21:00:00",
          "2021-06-04T22:00:00",
          "2021-06-04T23:00:00"
         ],
         "y": [
          0.8,
          0.8,
          0.8,
          0.8,
          0.8,
          0.8,
          2,
          2,
          2,
          1.2,
          1.2,
          1.2,
          1.2,
          1.2,
          1.2,
          1.2,
          1.2,
          1.2,
          2.4,
          2.4,
          2.4,
          2.4,
          1.2,
          1.2
         ]
        },
        {
         "mode": "lines",
         "name": "Gesamtlast",
         "type": "scatter",
         "x": [
          "2021-06-04T00:00:00",
          "2021-06-04T01:00:00",
          "2021-06-04T02:00:00",
          "2021-06-04T03:00:00",
          "2021-06-04T04:00:00",
          "2021-06-04T05:00:00",
          "2021-06-04T06:00:00",
          "2021-06-04T07:00:00",
          "2021-06-04T08:00:00",
          "2021-06-04T09:00:00",
          "2021-06-04T10:00:00",
          "2021-06-04T11:00:00",
          "2021-06-04T12:00:00",
          "2021-06-04T13:00:00",
          "2021-06-04T14:00:00",
          "2021-06-04T15:00:00",
          "2021-06-04T16:00:00",
          "2021-06-04T17:00:00",
          "2021-06-04T18:00:00",
          "2021-06-04T19:00:00",
          "2021-06-04T20:00:00",
          "2021-06-04T21:00:00",
          "2021-06-04T22:00:00",
          "2021-06-04T23:00:00"
         ],
         "y": [
          0.8,
          0.8,
          0.8,
          0.8,
          0.8,
          0.8,
          2,
          2,
          2,
          1.2,
          1.2,
          1.2,
          1.2,
          1.2,
          1.2,
          1.2,
          1.2,
          1.2,
          2.4,
          2.4,
          2.4,
          2.4,
          1.2,
          1.2
         ]
        },
        {
         "mode": "lines",
         "name": "Dach Ost SG20",
         "type": "scatter",
         "x": [
          "2021-06-04T00:00:00",
          "2021-06-04T01:00:00",
          "2021-06-04T02:00:00",
          "2021-06-04T03:00:00",
          "2021-06-04T04:00:00",
          "2021-06-04T05:00:00",
          "2021-06-04T06:00:00",
          "2021-06-04T07:00:00",
          "2021-06-04T08:00:00",
          "2021-06-04T09:00:00",
          "2021-06-04T10:00:00",
          "2021-06-04T11:00:00",
          "2021-06-04T12:00:00",
          "2021-06-04T13:00:00",
          "2021-06-04T14:00:00",
          "2021-06-04T15:00:00",
          "2021-06-04T16:00:00",
          "2021-06-04T17:00:00",
          "2021-06-04T18:00:00",
          "2021-06-04T19:00:00",
          "2021-06-04T20:00:00",
          "2021-06-04T21:00:00",
          "2021-06-04T22:00:00",
          "2021-06-04T23:00:00"
         ],
         "y": [
          0,
          0,
          0,
          0,
          0.047858959018172574,
          0.7799170661556551,
          1.2170867958747864,
          1.5552482103721537,
          1.8184600872802754,
          1.973621972404261,
          1.9492430934791862,
          1.7509442313278976,
          1.4299023987514468,
          1.2380417729395514,
          1.0391614464342005,
          0.7520569901066614,
          0.4718621825423346,
          0.19056445575223752,
          0.10449800676097704,
          0,
          0,
          0,
          0,
          0
         ]
        },
        {
         "mode": "lines",
         "name": "Dach West SG20",
         "type": "scatter",
         "x": [
          "2021-06-04T00:00:00",
          "2021-06-04T01:00:00",
          "2021-06-04T02:00:00",
          "2021-06-04T03:00:00",
          "2021-06-04T04:00:00",
          "2021-06-04T05:00:00",
          "2021-06-04T06:00:00",
          "2021-06-04T07:00:00",
          "2021-06-04T08:00:00",
          "2021-06-04T09:00:00",
          "2021-06-04T10:00:00",
          "2021-06-04T11:00:00",
          "2021-06-04T12:00:00",
          "2021-06-04T13:00:00",
          "2021-06-04T14:00:00",
          "2021-06-04T15:00:00",
          "2021-06-04T16:00:00",
          "2021-06-04T17:00:00",
          "2021-06-04T18:00:00",
          "2021-06-04T19:00:00",
          "2021-06-04T20:00:00",
          "2021-06-04T21:00:00",
          "2021-06-04T22:00:00",
          "2021-06-04T23:00:00"
         ],
         "y": [
          0,
          0,
          0,
          0,
          0.047858959018172574,
          0.09751344632713849,
          0.15041857466794833,
          0.4358976565738417,
          0.8259096968644359,
          1.2179074359098234,
          1.5175223333416166,
          1.6385383285102635,
          1.5180789002716237,
          1.4576832141049711,
          1.43806935757495,
          1.5653000128250907,
          1.000099685684247,
          0.8463702994109453,
          0.14509856416238498,
          0,
          0,
          0,
          0,
          0
         ]
        },
        {
         "mode": "lines",
         "name": "PV Erzeugung",
         "type": "scatter",
         "x": [
          "2021-06-04T00:00:00",
          "2021-06-04T01:00:00",
          "2021-06-04T02:00:00",
          "2021-06-04T03:00:00",
          "2021-06-04T04:00:00",
          "2021-06-04T05:00:00",
          "2021-06-04T06:00:00",
          "2021-06-04T07:00:00",
          "2021-06-04T08:00:00",
          "2021-06-04T09:00:00",
          "2021-06-04T10:00:00",
          "2021-06-04T11:00:00",
          "2021-06-04T12:00:00",
          "2021-06-04T13:00:00",
          "2021-06-04T14:00:00",
          "2021-06-04T15:00:00",
          "2021-06-04T16:00:00",
          "2021-06-04T17:00:00",
          "2021-06-04T18:00:00",
          "2021-06-04T19:00:00",
          "2021-06-04T20:00:00",
          "2021-06-04T21:00:00",
          "2021-06-04T22:00:00",
          "2021-06-04T23:00:00"
         ],
         "y": [
          0,
          0,
          0,
          0,
          0.09571791803634515,
          0.8774305124827937,
          1.3675053705427347,
          1.9911458669459954,
          2.644369784144711,
          3.1915294083140844,
          3.466765426820803,
          3.389482559838161,
          2.9479812990230707,
          2.695724987044523,
          2.4772308040091504,
          2.317357002931752,
          1.4719618682265816,
          1.036934755163183,
          0.24959657092336202,
          0,
          0,
          0,
          0,
          0
         ]
        },
        {
         "mode": "lines",
         "name": "power_output_wea",
         "type": "scatter",
         "x": [
          "2021-06-04T00:00:00",
          "2021-06-04T01:00:00",
          "2021-06-04T02:00:00",
          "2021-06-04T03:00:00",
          "2021-06-04T04:00:00",
          "2021-06-04T05:00:00",
          "2021-06-04T06:00:00",
          "2021-06-04T07:00:00",
          "2021-06-04T08:00:00",
          "2021-06-04T09:00:00",
          "2021-06-04T10:00:00",
          "2021-06-04T11:00:00",
          "2021-06-04T12:00:00",
          "2021-06-04T13:00:00",
          "2021-06-04T14:00:00",
          "2021-06-04T15:00:00",
          "2021-06-04T16:00:00",
          "2021-06-04T17:00:00",
          "2021-06-04T18:00:00",
          "2021-06-04T19:00:00",
          "2021-06-04T20:00:00",
          "2021-06-04T21:00:00",
          "2021-06-04T22:00:00",
          "2021-06-04T23:00:00"
         ],
         "y": [
          3.4102416021847968,
          1.8731907146108322,
          1.161090942193901,
          1.161090942193901,
          1.161090942193901,
          0.3252660901228949,
          0.13982703686845702,
          1.161090942193901,
          0.885332362312244,
          1.161090942193901,
          1.4888782885753298,
          2.829376058261266,
          3.4102416021847968,
          4.690080655439235,
          4.690080655439235,
          6.3888,
          4.690080655439235,
          1.8731907146108322,
          0.13982703686845702,
          0.6571062357760581,
          0.6571062357760581,
          0.885332362312244,
          3.4102416021847968,
          6.3888
         ]
        },
        {
         "mode": "lines",
         "name": "Wind Erzeugung",
         "type": "scatter",
         "x": [
          "2021-06-04T00:00:00",
          "2021-06-04T01:00:00",
          "2021-06-04T02:00:00",
          "2021-06-04T03:00:00",
          "2021-06-04T04:00:00",
          "2021-06-04T05:00:00",
          "2021-06-04T06:00:00",
          "2021-06-04T07:00:00",
          "2021-06-04T08:00:00",
          "2021-06-04T09:00:00",
          "2021-06-04T10:00:00",
          "2021-06-04T11:00:00",
          "2021-06-04T12:00:00",
          "2021-06-04T13:00:00",
          "2021-06-04T14:00:00",
          "2021-06-04T15:00:00",
          "2021-06-04T16:00:00",
          "2021-06-04T17:00:00",
          "2021-06-04T18:00:00",
          "2021-06-04T19:00:00",
          "2021-06-04T20:00:00",
          "2021-06-04T21:00:00",
          "2021-06-04T22:00:00",
          "2021-06-04T23:00:00"
         ],
         "y": [
          3.4102416021847968,
          1.8731907146108322,
          1.161090942193901,
          1.161090942193901,
          1.161090942193901,
          0.3252660901228949,
          0.13982703686845702,
          1.161090942193901,
          0.885332362312244,
          1.161090942193901,
          1.4888782885753298,
          2.829376058261266,
          3.4102416021847968,
          4.690080655439235,
          4.690080655439235,
          6.3888,
          4.690080655439235,
          1.8731907146108322,
          0.13982703686845702,
          0.6571062357760581,
          0.6571062357760581,
          0.885332362312244,
          3.4102416021847968,
          6.3888
         ]
        },
        {
         "mode": "lines",
         "name": "Erzeugung EE",
         "type": "scatter",
         "x": [
          "2021-06-04T00:00:00",
          "2021-06-04T01:00:00",
          "2021-06-04T02:00:00",
          "2021-06-04T03:00:00",
          "2021-06-04T04:00:00",
          "2021-06-04T05:00:00",
          "2021-06-04T06:00:00",
          "2021-06-04T07:00:00",
          "2021-06-04T08:00:00",
          "2021-06-04T09:00:00",
          "2021-06-04T10:00:00",
          "2021-06-04T11:00:00",
          "2021-06-04T12:00:00",
          "2021-06-04T13:00:00",
          "2021-06-04T14:00:00",
          "2021-06-04T15:00:00",
          "2021-06-04T16:00:00",
          "2021-06-04T17:00:00",
          "2021-06-04T18:00:00",
          "2021-06-04T19:00:00",
          "2021-06-04T20:00:00",
          "2021-06-04T21:00:00",
          "2021-06-04T22:00:00",
          "2021-06-04T23:00:00"
         ],
         "y": [
          3.4102416021847968,
          1.8731907146108322,
          1.161090942193901,
          1.161090942193901,
          1.2568088602302463,
          1.2026966026056887,
          1.5073324074111918,
          3.1522368091398967,
          3.5297021464569553,
          4.352620350507985,
          4.955643715396133,
          6.218858618099427,
          6.358222901207867,
          7.385805642483758,
          7.167311459448386,
          8.706157002931752,
          6.162042523665817,
          2.910125469774015,
          0.38942360779181906,
          0.6571062357760581,
          0.6571062357760581,
          0.885332362312244,
          3.4102416021847968,
          6.3888
         ]
        },
        {
         "mode": "lines",
         "name": "Batterie Ladung",
         "type": "scatter",
         "x": [
          "2021-06-04T00:00:00",
          "2021-06-04T01:00:00",
          "2021-06-04T02:00:00",
          "2021-06-04T03:00:00",
          "2021-06-04T04:00:00",
          "2021-06-04T05:00:00",
          "2021-06-04T06:00:00",
          "2021-06-04T07:00:00",
          "2021-06-04T08:00:00",
          "2021-06-04T09:00:00",
          "2021-06-04T10:00:00",
          "2021-06-04T11:00:00",
          "2021-06-04T12:00:00",
          "2021-06-04T13:00:00",
          "2021-06-04T14:00:00",
          "2021-06-04T15:00:00",
          "2021-06-04T16:00:00",
          "2021-06-04T17:00:00",
          "2021-06-04T18:00:00",
          "2021-06-04T19:00:00",
          "2021-06-04T20:00:00",
          "2021-06-04T21:00:00",
          "2021-06-04T22:00:00",
          "2021-06-04T23:00:00"
         ],
         "y": [
          2.6102416021847965,
          1.0731907146108322,
          0.36109094219390103,
          0.36109094219390103,
          0.45680886023024625,
          0.4026966026056886,
          -0.4926675925888082,
          1.1522368091398967,
          1.5297021464569553,
          0.9666616045515342,
          0,
          0,
          0,
          0,
          0,
          0,
          0,
          0,
          -2.010576392208181,
          -1.742893764223942,
          -1.742893764223942,
          -1.514667637687756,
          2.210241602184797,
          4.800789956159025
         ]
        },
        {
         "mode": "lines",
         "name": "Backup Generator",
         "type": "scatter",
         "x": [
          "2021-06-04T00:00:00",
          "2021-06-04T01:00:00",
          "2021-06-04T02:00:00",
          "2021-06-04T03:00:00",
          "2021-06-04T04:00:00",
          "2021-06-04T05:00:00",
          "2021-06-04T06:00:00",
          "2021-06-04T07:00:00",
          "2021-06-04T08:00:00",
          "2021-06-04T09:00:00",
          "2021-06-04T10:00:00",
          "2021-06-04T11:00:00",
          "2021-06-04T12:00:00",
          "2021-06-04T13:00:00",
          "2021-06-04T14:00:00",
          "2021-06-04T15:00:00",
          "2021-06-04T16:00:00",
          "2021-06-04T17:00:00",
          "2021-06-04T18:00:00",
          "2021-06-04T19:00:00",
          "2021-06-04T20:00:00",
          "2021-06-04T21:00:00",
          "2021-06-04T22:00:00",
          "2021-06-04T23:00:00"
         ],
         "y": [
          0,
          0,
          0,
          0,
          0,
          0,
          0,
          0,
          0,
          0,
          0,
          0,
          0,
          0,
          0,
          0,
          0,
          0,
          0,
          0,
          0,
          0,
          0,
          0
         ]
        },
        {
         "mode": "lines",
         "name": "Batterie Energie",
         "type": "scatter",
         "x": [
          "2021-06-04T00:00:00",
          "2021-06-04T01:00:00",
          "2021-06-04T02:00:00",
          "2021-06-04T03:00:00",
          "2021-06-04T04:00:00",
          "2021-06-04T05:00:00",
          "2021-06-04T06:00:00",
          "2021-06-04T07:00:00",
          "2021-06-04T08:00:00",
          "2021-06-04T09:00:00",
          "2021-06-04T10:00:00",
          "2021-06-04T11:00:00",
          "2021-06-04T12:00:00",
          "2021-06-04T13:00:00",
          "2021-06-04T14:00:00",
          "2021-06-04T15:00:00",
          "2021-06-04T16:00:00",
          "2021-06-04T17:00:00",
          "2021-06-04T18:00:00",
          "2021-06-04T19:00:00",
          "2021-06-04T20:00:00",
          "2021-06-04T21:00:00",
          "2021-06-04T22:00:00",
          "2021-06-04T23:00:00"
         ],
         "y": [
          12.479729522075557,
          13.499260700955848,
          13.842297096040054,
          14.185333491124261,
          14.619301908342996,
          15.0018636808184,
          14.533829467859032,
          15.628454436541935,
          17.081671475676043,
          18,
          18,
          18,
          18,
          18,
          18,
          18,
          18,
          18,
          16.089952427402228,
          14.434203351389483,
          12.778454275376738,
          11.33952001957337,
          13.439249541648927,
          18
         ]
        },
        {
         "mode": "lines",
         "name": "Netto Last",
         "type": "scatter",
         "x": [
          "2021-06-04T00:00:00",
          "2021-06-04T01:00:00",
          "2021-06-04T02:00:00",
          "2021-06-04T03:00:00",
          "2021-06-04T04:00:00",
          "2021-06-04T05:00:00",
          "2021-06-04T06:00:00",
          "2021-06-04T07:00:00",
          "2021-06-04T08:00:00",
          "2021-06-04T09:00:00",
          "2021-06-04T10:00:00",
          "2021-06-04T11:00:00",
          "2021-06-04T12:00:00",
          "2021-06-04T13:00:00",
          "2021-06-04T14:00:00",
          "2021-06-04T15:00:00",
          "2021-06-04T16:00:00",
          "2021-06-04T17:00:00",
          "2021-06-04T18:00:00",
          "2021-06-04T19:00:00",
          "2021-06-04T20:00:00",
          "2021-06-04T21:00:00",
          "2021-06-04T22:00:00",
          "2021-06-04T23:00:00"
         ],
         "y": [
          -2.6102416021847965,
          -1.0731907146108322,
          -0.36109094219390103,
          -0.36109094219390103,
          -0.45680886023024625,
          -0.4026966026056886,
          0.4926675925888082,
          -1.1522368091398967,
          -1.5297021464569553,
          -3.152620350507985,
          -3.7556437153961326,
          -5.018858618099427,
          -5.158222901207867,
          -6.185805642483758,
          -5.967311459448386,
          -7.506157002931752,
          -4.962042523665817,
          -1.7101254697740151,
          2.010576392208181,
          1.742893764223942,
          1.742893764223942,
          1.514667637687756,
          -2.210241602184797,
          -5.1888
         ]
        }
       ],
       "layout": {
        "legend": {
         "title": {
          "text": "Spalten"
         }
        },
        "template": {
         "data": {
          "bar": [
           {
            "error_x": {
             "color": "#2a3f5f"
            },
            "error_y": {
             "color": "#2a3f5f"
            },
            "marker": {
             "line": {
              "color": "#E5ECF6",
              "width": 0.5
             },
             "pattern": {
              "fillmode": "overlay",
              "size": 10,
              "solidity": 0.2
             }
            },
            "type": "bar"
           }
          ],
          "barpolar": [
           {
            "marker": {
             "line": {
              "color": "#E5ECF6",
              "width": 0.5
             },
             "pattern": {
              "fillmode": "overlay",
              "size": 10,
              "solidity": 0.2
             }
            },
            "type": "barpolar"
           }
          ],
          "carpet": [
           {
            "aaxis": {
             "endlinecolor": "#2a3f5f",
             "gridcolor": "white",
             "linecolor": "white",
             "minorgridcolor": "white",
             "startlinecolor": "#2a3f5f"
            },
            "baxis": {
             "endlinecolor": "#2a3f5f",
             "gridcolor": "white",
             "linecolor": "white",
             "minorgridcolor": "white",
             "startlinecolor": "#2a3f5f"
            },
            "type": "carpet"
           }
          ],
          "choropleth": [
           {
            "colorbar": {
             "outlinewidth": 0,
             "ticks": ""
            },
            "type": "choropleth"
           }
          ],
          "contour": [
           {
            "colorbar": {
             "outlinewidth": 0,
             "ticks": ""
            },
            "colorscale": [
             [
              0,
              "#0d0887"
             ],
             [
              0.1111111111111111,
              "#46039f"
             ],
             [
              0.2222222222222222,
              "#7201a8"
             ],
             [
              0.3333333333333333,
              "#9c179e"
             ],
             [
              0.4444444444444444,
              "#bd3786"
             ],
             [
              0.5555555555555556,
              "#d8576b"
             ],
             [
              0.6666666666666666,
              "#ed7953"
             ],
             [
              0.7777777777777778,
              "#fb9f3a"
             ],
             [
              0.8888888888888888,
              "#fdca26"
             ],
             [
              1,
              "#f0f921"
             ]
            ],
            "type": "contour"
           }
          ],
          "contourcarpet": [
           {
            "colorbar": {
             "outlinewidth": 0,
             "ticks": ""
            },
            "type": "contourcarpet"
           }
          ],
          "heatmap": [
           {
            "colorbar": {
             "outlinewidth": 0,
             "ticks": ""
            },
            "colorscale": [
             [
              0,
              "#0d0887"
             ],
             [
              0.1111111111111111,
              "#46039f"
             ],
             [
              0.2222222222222222,
              "#7201a8"
             ],
             [
              0.3333333333333333,
              "#9c179e"
             ],
             [
              0.4444444444444444,
              "#bd3786"
             ],
             [
              0.5555555555555556,
              "#d8576b"
             ],
             [
              0.6666666666666666,
              "#ed7953"
             ],
             [
              0.7777777777777778,
              "#fb9f3a"
             ],
             [
              0.8888888888888888,
              "#fdca26"
             ],
             [
              1,
              "#f0f921"
             ]
            ],
            "type": "heatmap"
           }
          ],
          "heatmapgl": [
           {
            "colorbar": {
             "outlinewidth": 0,
             "ticks": ""
            },
            "colorscale": [
             [
              0,
              "#0d0887"
             ],
             [
              0.1111111111111111,
              "#46039f"
             ],
             [
              0.2222222222222222,
              "#7201a8"
             ],
             [
              0.3333333333333333,
              "#9c179e"
             ],
             [
              0.4444444444444444,
              "#bd3786"
             ],
             [
              0.5555555555555556,
              "#d8576b"
             ],
             [
              0.6666666666666666,
              "#ed7953"
             ],
             [
              0.7777777777777778,
              "#fb9f3a"
             ],
             [
              0.8888888888888888,
              "#fdca26"
             ],
             [
              1,
              "#f0f921"
             ]
            ],
            "type": "heatmapgl"
           }
          ],
          "histogram": [
           {
            "marker": {
             "pattern": {
              "fillmode": "overlay",
              "size": 10,
              "solidity": 0.2
             }
            },
            "type": "histogram"
           }
          ],
          "histogram2d": [
           {
            "colorbar": {
             "outlinewidth": 0,
             "ticks": ""
            },
            "colorscale": [
             [
              0,
              "#0d0887"
             ],
             [
              0.1111111111111111,
              "#46039f"
             ],
             [
              0.2222222222222222,
              "#7201a8"
             ],
             [
              0.3333333333333333,
              "#9c179e"
             ],
             [
              0.4444444444444444,
              "#bd3786"
             ],
             [
              0.5555555555555556,
              "#d8576b"
             ],
             [
              0.6666666666666666,
              "#ed7953"
             ],
             [
              0.7777777777777778,
              "#fb9f3a"
             ],
             [
              0.8888888888888888,
              "#fdca26"
             ],
             [
              1,
              "#f0f921"
             ]
            ],
            "type": "histogram2d"
           }
          ],
          "histogram2dcontour": [
           {
            "colorbar": {
             "outlinewidth": 0,
             "ticks": ""
            },
            "colorscale": [
             [
              0,
              "#0d0887"
             ],
             [
              0.1111111111111111,
              "#46039f"
             ],
             [
              0.2222222222222222,
              "#7201a8"
             ],
             [
              0.3333333333333333,
              "#9c179e"
             ],
             [
              0.4444444444444444,
              "#bd3786"
             ],
             [
              0.5555555555555556,
              "#d8576b"
             ],
             [
              0.6666666666666666,
              "#ed7953"
             ],
             [
              0.7777777777777778,
              "#fb9f3a"
             ],
             [
              0.8888888888888888,
              "#fdca26"
             ],
             [
              1,
              "#f0f921"
             ]
            ],
            "type": "histogram2dcontour"
           }
          ],
          "mesh3d": [
           {
            "colorbar": {
             "outlinewidth": 0,
             "ticks": ""
            },
            "type": "mesh3d"
           }
          ],
          "parcoords": [
           {
            "line": {
             "colorbar": {
              "outlinewidth": 0,
              "ticks": ""
             }
            },
            "type": "parcoords"
           }
          ],
          "pie": [
           {
            "automargin": true,
            "type": "pie"
           }
          ],
          "scatter": [
           {
            "fillpattern": {
             "fillmode": "overlay",
             "size": 10,
             "solidity": 0.2
            },
            "type": "scatter"
           }
          ],
          "scatter3d": [
           {
            "line": {
             "colorbar": {
              "outlinewidth": 0,
              "ticks": ""
             }
            },
            "marker": {
             "colorbar": {
              "outlinewidth": 0,
              "ticks": ""
             }
            },
            "type": "scatter3d"
           }
          ],
          "scattercarpet": [
           {
            "marker": {
             "colorbar": {
              "outlinewidth": 0,
              "ticks": ""
             }
            },
            "type": "scattercarpet"
           }
          ],
          "scattergeo": [
           {
            "marker": {
             "colorbar": {
              "outlinewidth": 0,
              "ticks": ""
             }
            },
            "type": "scattergeo"
           }
          ],
          "scattergl": [
           {
            "marker": {
             "colorbar": {
              "outlinewidth": 0,
              "ticks": ""
             }
            },
            "type": "scattergl"
           }
          ],
          "scattermapbox": [
           {
            "marker": {
             "colorbar": {
              "outlinewidth": 0,
              "ticks": ""
             }
            },
            "type": "scattermapbox"
           }
          ],
          "scatterpolar": [
           {
            "marker": {
             "colorbar": {
              "outlinewidth": 0,
              "ticks": ""
             }
            },
            "type": "scatterpolar"
           }
          ],
          "scatterpolargl": [
           {
            "marker": {
             "colorbar": {
              "outlinewidth": 0,
              "ticks": ""
             }
            },
            "type": "scatterpolargl"
           }
          ],
          "scatterternary": [
           {
            "marker": {
             "colorbar": {
              "outlinewidth": 0,
              "ticks": ""
             }
            },
            "type": "scatterternary"
           }
          ],
          "surface": [
           {
            "colorbar": {
             "outlinewidth": 0,
             "ticks": ""
            },
            "colorscale": [
             [
              0,
              "#0d0887"
             ],
             [
              0.1111111111111111,
              "#46039f"
             ],
             [
              0.2222222222222222,
              "#7201a8"
             ],
             [
              0.3333333333333333,
              "#9c179e"
             ],
             [
              0.4444444444444444,
              "#bd3786"
             ],
             [
              0.5555555555555556,
              "#d8576b"
             ],
             [
              0.6666666666666666,
              "#ed7953"
             ],
             [
              0.7777777777777778,
              "#fb9f3a"
             ],
             [
              0.8888888888888888,
              "#fdca26"
             ],
             [
              1,
              "#f0f921"
             ]
            ],
            "type": "surface"
           }
          ],
          "table": [
           {
            "cells": {
             "fill": {
              "color": "#EBF0F8"
             },
             "line": {
              "color": "white"
             }
            },
            "header": {
             "fill": {
              "color": "#C8D4E3"
             },
             "line": {
              "color": "white"
             }
            },
            "type": "table"
           }
          ]
         },
         "layout": {
          "annotationdefaults": {
           "arrowcolor": "#2a3f5f",
           "arrowhead": 0,
           "arrowwidth": 1
          },
          "autotypenumbers": "strict",
          "coloraxis": {
           "colorbar": {
            "outlinewidth": 0,
            "ticks": ""
           }
          },
          "colorscale": {
           "diverging": [
            [
             0,
             "#8e0152"
            ],
            [
             0.1,
             "#c51b7d"
            ],
            [
             0.2,
             "#de77ae"
            ],
            [
             0.3,
             "#f1b6da"
            ],
            [
             0.4,
             "#fde0ef"
            ],
            [
             0.5,
             "#f7f7f7"
            ],
            [
             0.6,
             "#e6f5d0"
            ],
            [
             0.7,
             "#b8e186"
            ],
            [
             0.8,
             "#7fbc41"
            ],
            [
             0.9,
             "#4d9221"
            ],
            [
             1,
             "#276419"
            ]
           ],
           "sequential": [
            [
             0,
             "#0d0887"
            ],
            [
             0.1111111111111111,
             "#46039f"
            ],
            [
             0.2222222222222222,
             "#7201a8"
            ],
            [
             0.3333333333333333,
             "#9c179e"
            ],
            [
             0.4444444444444444,
             "#bd3786"
            ],
            [
             0.5555555555555556,
             "#d8576b"
            ],
            [
             0.6666666666666666,
             "#ed7953"
            ],
            [
             0.7777777777777778,
             "#fb9f3a"
            ],
            [
             0.8888888888888888,
             "#fdca26"
            ],
            [
             1,
             "#f0f921"
            ]
           ],
           "sequentialminus": [
            [
             0,
             "#0d0887"
            ],
            [
             0.1111111111111111,
             "#46039f"
            ],
            [
             0.2222222222222222,
             "#7201a8"
            ],
            [
             0.3333333333333333,
             "#9c179e"
            ],
            [
             0.4444444444444444,
             "#bd3786"
            ],
            [
             0.5555555555555556,
             "#d8576b"
            ],
            [
             0.6666666666666666,
             "#ed7953"
            ],
            [
             0.7777777777777778,
             "#fb9f3a"
            ],
            [
             0.8888888888888888,
             "#fdca26"
            ],
            [
             1,
             "#f0f921"
            ]
           ]
          },
          "colorway": [
           "#636efa",
           "#EF553B",
           "#00cc96",
           "#ab63fa",
           "#FFA15A",
           "#19d3f3",
           "#FF6692",
           "#B6E880",
           "#FF97FF",
           "#FECB52"
          ],
          "font": {
           "color": "#2a3f5f"
          },
          "geo": {
           "bgcolor": "white",
           "lakecolor": "white",
           "landcolor": "#E5ECF6",
           "showlakes": true,
           "showland": true,
           "subunitcolor": "white"
          },
          "hoverlabel": {
           "align": "left"
          },
          "hovermode": "closest",
          "mapbox": {
           "style": "light"
          },
          "paper_bgcolor": "white",
          "plot_bgcolor": "#E5ECF6",
          "polar": {
           "angularaxis": {
            "gridcolor": "white",
            "linecolor": "white",
            "ticks": ""
           },
           "bgcolor": "#E5ECF6",
           "radialaxis": {
            "gridcolor": "white",
            "linecolor": "white",
            "ticks": ""
           }
          },
          "scene": {
           "xaxis": {
            "backgroundcolor": "#E5ECF6",
            "gridcolor": "white",
            "gridwidth": 2,
            "linecolor": "white",
            "showbackground": true,
            "ticks": "",
            "zerolinecolor": "white"
           },
           "yaxis": {
            "backgroundcolor": "#E5ECF6",
            "gridcolor": "white",
            "gridwidth": 2,
            "linecolor": "white",
            "showbackground": true,
            "ticks": "",
            "zerolinecolor": "white"
           },
           "zaxis": {
            "backgroundcolor": "#E5ECF6",
            "gridcolor": "white",
            "gridwidth": 2,
            "linecolor": "white",
            "showbackground": true,
            "ticks": "",
            "zerolinecolor": "white"
           }
          },
          "shapedefaults": {
           "line": {
            "color": "#2a3f5f"
           }
          },
          "ternary": {
           "aaxis": {
            "gridcolor": "white",
            "linecolor": "white",
            "ticks": ""
           },
           "baxis": {
            "gridcolor": "white",
            "linecolor": "white",
            "ticks": ""
           },
           "bgcolor": "#E5ECF6",
           "caxis": {
            "gridcolor": "white",
            "linecolor": "white",
            "ticks": ""
           }
          },
          "title": {
           "x": 0.05
          },
          "xaxis": {
           "automargin": true,
           "gridcolor": "white",
           "linecolor": "white",
           "ticks": "",
           "title": {
            "standoff": 15
           },
           "zerolinecolor": "white",
           "zerolinewidth": 2
          },
          "yaxis": {
           "automargin": true,
           "gridcolor": "white",
           "linecolor": "white",
           "ticks": "",
           "title": {
            "standoff": 15
           },
           "zerolinecolor": "white",
           "zerolinewidth": 2
          }
         }
        },
        "title": {
         "text": "Alle Spalten"
        },
        "xaxis": {
         "title": {
          "text": "Index"
         }
        },
        "yaxis": {
         "title": {
          "text": "Werte"
         }
        }
       }
      }
     },
     "metadata": {},
     "output_type": "display_data"
    },
    {
     "name": "stderr",
     "output_type": "stream",
     "text": [
      "Exception in thread Thread-5 (berechnung_thread):\n",
      "Traceback (most recent call last):\n",
      "  File \"c:\\Users\\Caj\\AppData\\Local\\Programs\\Python\\Python312\\Lib\\threading.py\", line 1073, in _bootstrap_inner\n",
      "    self.run()\n",
      "  File \"c:\\Users\\Caj\\AppData\\Local\\Programs\\Python\\Python312\\Lib\\site-packages\\ipykernel\\ipkernel.py\", line 766, in run_closure\n",
      "    _threading_Thread_run(self)\n",
      "  File \"c:\\Users\\Caj\\AppData\\Local\\Programs\\Python\\Python312\\Lib\\threading.py\", line 1010, in run\n",
      "    self._target(*self._args, **self._kwargs)\n",
      "  File \"C:\\Users\\Caj\\AppData\\Local\\Temp\\ipykernel_16192\\1988473686.py\", line 230, in berechnung_thread\n",
      "  File \"c:\\Users\\Caj\\OneDrive\\HTW\\THW BBK RE im KatSchutz\\Programme\\PV Simulation\\plotting.py\", line 162, in plot_results\n",
      "    create_output_label(test_frame, \"Dies ist ein Ausgabe-Label \\nmit etwas Text\")\n",
      "  File \"c:\\Users\\Caj\\OneDrive\\HTW\\THW BBK RE im KatSchutz\\Programme\\PV Simulation\\plotting.py\", line 180, in create_output_label\n",
      "    OutputLabel(parent_frame, text).pack(fill=tk.BOTH, expand=1)\n",
      "    ^^^^^^^^^^^^^^^^^^^^^^^^^^^^^^^\n",
      "  File \"c:\\Users\\Caj\\OneDrive\\HTW\\THW BBK RE im KatSchutz\\Programme\\PV Simulation\\plotting.py\", line 173, in __init__\n",
      "    self.pack(fill=tk.BOTH, expand=1)\n",
      "  File \"c:\\Users\\Caj\\AppData\\Local\\Programs\\Python\\Python312\\Lib\\tkinter\\__init__.py\", line 2483, in pack_configure\n",
      "    self.tk.call(\n",
      "_tkinter.TclError: cannot use geometry manager pack inside .!toplevel.!notebook.!frame4 which already has slaves managed by grid\n"
     ]
    },
    {
     "data": {
      "image/png": "[encoded data removed]",
      "text/plain": [
       "<Figure size 1050x338 with 1 Axes>"
      ]
     },
     "metadata": {},
     "output_type": "display_data"
    },
    {
     "data": {
      "image/png": "[encoded data removed]",
      "text/plain": [
       "<Figure size 1000x800 with 1 Axes>"
      ]
     },
     "metadata": {},
     "output_type": "display_data"
    }
   ],
   "source": [
    "# berücksichtigung der Anzahl in Summe  \n",
    "import tkinter as tk\n",
    "from threading import Thread\n",
    "import constants as c\n",
    "import constants_wind as cw\n",
    "import constants_el as cEL\n",
    "import constants_bat as cb \n",
    "import pandas as pd \n",
    "import matplotlib.pyplot as plt\n",
    "import plotly.graph_objs as go\n",
    "import plotly.express as px\n",
    "\n",
    "# from functions import berechnung_durchfuehren\n",
    "import functions \n",
    "from plotting import plot_results\n",
    "from sub_functions import diesel_berechnung, get_data, update_vars, get_load_profile, save_results_to_excel, sum_re, extract_bat_data\n",
    "from functions_wind import wind_sim\n",
    "from functions_bat import calculation_bat, load_control\n",
    "from gui_helpers import create_tabs, create_calculation_button, get_entries #, create_checkbox_frame\n",
    "\n",
    "# Standardwerte für die Eingabefelder\n",
    "# DEFAULT_VALUES = {\n",
    "#     # Algemein \n",
    "#     'Breitengrad': c.BREITENGRAD,\n",
    "#     'Laengengrad': c.LAENGENGRAD,\n",
    "#     'Hoehe': c.HOEHE,\n",
    "    \n",
    "#     # PV \n",
    "#     'Anstellwinkel': c.ANSTELLWINKEL,\n",
    "#     'azimuth': c.AZIMUTH,\n",
    "#     'startzeit': c.STARTZEIT,  #'2021-06-01 00:00:00',\n",
    "#     'endzeit': c.ENDZEIT,\n",
    "#     'schrittweite': c.SCHRITTWEITE,  # Standardmäßig 1 Minute Schrittweite\n",
    "#     'pdc0': c.PDC0,\n",
    "#     'gamma_pdc': c.GAMMA_PDC,\n",
    "#     'a_ref': c.A_REF,\n",
    "#     'Il_ref': c.IL_REF,\n",
    "#     'I0_ref': c.I0_REF,\n",
    "#     'Rs_ref': c.RS_REF,\n",
    "#     'Rsh_ref': c.RSH_REF,\n",
    "#     'Adjust': c.ADJUST,\n",
    "#     'Technology': c.TECHNOLOGY,\n",
    "#     'pdc0_inv': c.PDC0_INV,\n",
    "#     'eta_inv_nom': c.ETA_INV_NOM,\n",
    "#     'eta_inv_ref': c.ETA_INV_REF,\n",
    "\n",
    "#     # Wind\n",
    "#     'Anzahl WEA': cw.ANZAHL_WEA, \n",
    "#     'Narbenhoehe': cw.NARBENHOEHE, \n",
    "#     'v_min': cw.CUT_IN_SPEED, \n",
    "#     'v_n': cw.RATED_SPEED, \n",
    "#     'v_max': cw.CUT_OUT_SPEED, \n",
    "#     'P_n': cw.RATED_POWER,\n",
    "\n",
    "#     # Batteriespeicher \n",
    "#     'Batteriekapazitaet': cb.CAPACITY_BAT,\n",
    "#     'Ladeeffizienz': cb.CHARGE_EFFICIENCY,\n",
    "#     'Entladeeffizienz': cb.DISCHARGE_EFFICIENCY,\n",
    "#     'Max Ladeleistung': cb.MAX_CHARGE_RATE,\n",
    "#     'Max Entladeleistung': cb.MAX_DISCHARGE_RATE,\n",
    "#     'Anfangsenergie': cb.INITIAL_ENERGY, \n",
    "#     'Min Ladezustand': cb.MIN_BATTERY_LEVEL, \n",
    "#     'Max Ladezustand': cb.MAX_BATTERY_LEVEL,\n",
    "\n",
    "\n",
    "#     # Elektrolyse \n",
    "#     'Anzahl EL': cEL.ANZAHL_EL, \n",
    "#     'Elektrische Leistung': cEL.LEISTUNG_ELEKTRISCH_EL, \n",
    "#     'Wasserverbrauch': cEL.WASSERVERBRUACH_EL\n",
    "\n",
    "# }\n",
    "\n",
    "DEFAULT_VALUES = {\n",
    "    # Algemein\n",
    "    'Breitengrad': {'value': c.BREITENGRAD, 'unit': '°'},\n",
    "    'Laengengrad': {'value': c.LAENGENGRAD, 'unit': '°'},\n",
    "    'Hoehe': {'value': c.HOEHE, 'unit': 'Meter'},\n",
    "    \n",
    "    'Anstellwinkel': {'value': c.ANSTELLWINKEL, 'unit': '°'},\n",
    "    'azimuth': {'value': c.AZIMUTH, 'unit': '°'},\n",
    "    'startzeit': {'value': c.STARTZEIT, 'unit': 'YYYY-MM-DD HH:MM:SS'},\n",
    "    'endzeit': {'value': c.ENDZEIT, 'unit': 'YYYY-MM-DD HH:MM:SS'},\n",
    "    'schrittweite': {'value': c.SCHRITTWEITE, 'unit': 'Stunden'},\n",
    "    # PV \n",
    "    'pdc0': {'value': c.PDC0, 'unit': 'Watt'},\n",
    "    'gamma_pdc': {'value': c.GAMMA_PDC, 'unit': '%'},\n",
    "    'a_ref': {'value': c.A_REF, 'unit': ''},\n",
    "    'Il_ref': {'value': c.IL_REF, 'unit': ''},\n",
    "    'I0_ref': {'value': c.I0_REF, 'unit': ''},\n",
    "    'Rs_ref': {'value': c.RS_REF, 'unit': ''},\n",
    "    'Rsh_ref': {'value': c.RSH_REF, 'unit': ''},\n",
    "    'Adjust': {'value': c.ADJUST, 'unit': ''},\n",
    "    'Technology': {'value': c.TECHNOLOGY, 'unit': ''},\n",
    "    'pdc0_inv': {'value': c.PDC0_INV, 'unit': 'W'},\n",
    "    'eta_inv_nom': {'value': c.ETA_INV_NOM, 'unit': '%'},\n",
    "    'eta_inv_ref': {'value': c.ETA_INV_REF, 'unit': '%'},\n",
    "\n",
    "    # Wind\n",
    "    'Anzahl WEA': {'value': cw.ANZAHL_WEA, 'unit': ''}, \n",
    "    'P_n': {'value': cw.RATED_POWER, 'unit': 'W'},\n",
    "    'Narbenhoehe': {'value': cw.NARBENHOEHE, 'unit': 'm'}, \n",
    "    'v_min': {'value': cw.CUT_IN_SPEED, 'unit': 'm/s'}, \n",
    "    'v_n': {'value': cw.RATED_SPEED, 'unit': 'm/s'}, \n",
    "    'v_max': {'value': cw.CUT_OUT_SPEED, 'unit': 'm/s'}, \n",
    "    \n",
    "    # Batteriespeicher \n",
    "    'Batteriekapazitaet': {'value': cb.CAPACITY_BAT, 'unit': 'kWh'},\n",
    "    'Ladeeffizienz': {'value': cb.CHARGE_EFFICIENCY, 'unit': '%'},\n",
    "    'Entladeeffizienz': {'value': cb.DISCHARGE_EFFICIENCY, 'unit': '%'},\n",
    "    'Max Ladeleistung': {'value': cb.MAX_CHARGE_RATE, 'unit': 'kW'},\n",
    "    'Max Entladeleistung': {'value': cb.MAX_DISCHARGE_RATE, 'unit': 'kW'},\n",
    "    'Anfangsenergie': {'value': cb.INITIAL_ENERGY, 'unit': 'kWh (empfohlen: Hälfte der Kapazität)'}, \n",
    "    'Min Ladezustand': {'value': cb.MIN_BATTERY_LEVEL, 'unit': '%'}, \n",
    "    'Max Ladezustand': {'value': cb.MAX_BATTERY_LEVEL, 'unit': '%'},\n",
    "\n",
    "    # Elektrolyse \n",
    "    'Anzahl EL': {'value': cEL.ANZAHL_EL, 'unit': 'Anzahl'}, \n",
    "    'Elektrische Leistung': {'value': cEL.LEISTUNG_ELEKTRISCH_EL, 'unit': 'kW'}, \n",
    "    'Wasserverbrauch': {'value': cEL.WASSERVERBRUACH_EL, 'unit': 'l/h'}\n",
    "}\n",
    "\n",
    "class PVLeistungsberechnung:\n",
    "    # zelttypen = [\"SG20\", \"SG30\", \"SG40\", \"SG50\"]\n",
    "    anzahl_vars = {}\n",
    "    belegung_vars = {}\n",
    "    def __init__(self, root):\n",
    "        self.root = root\n",
    "        self.root.title(\"PV-Leistungsberechnung\")\n",
    "\n",
    "        self.entries = []\n",
    "        \n",
    "        # Initialize instance variables for anzahl_vars and belegung_vars\n",
    "        self.anzahl_vars = {}\n",
    "        self.belegung_vars = {}\n",
    "\n",
    "        # Create tabs and get checkbox variables\n",
    "        self.tab_control = create_tabs(self.root, self.entries, DEFAULT_VALUES, self.anzahl_vars, self.belegung_vars)\n",
    "\n",
    "        create_calculation_button(self.root, self.starte_berechnung)\n",
    "\n",
    "    def starte_berechnung(self):\n",
    "        # Update variables before starting calculation\n",
    "        # update_vars(self.anzahl_vars, self.belegung_vars)\n",
    "        thread = Thread(target=self.berechnung_thread)\n",
    "        thread.start()\n",
    "\n",
    "    \n",
    "    def berechnung_thread(self):\n",
    "        # # Debug output of variables\n",
    "        # print(f\"anzahl_vars: {self.anzahl_vars}\")\n",
    "        # print(f\"belegung_vars: {self.belegung_vars}\")\n",
    "\n",
    "        # Prepare a list of selected areas for plotting\n",
    "        selected_areas = []\n",
    "        for zelt, belegungen in self.belegung_vars.items():\n",
    "            if self.anzahl_vars[zelt].get() == 0:\n",
    "                continue  # Skip this tent type if its count is 0\n",
    "            for belegung, var in belegungen.items():\n",
    "                if var.get():  # Ensure that we get the actual value of the BooleanVar\n",
    "                    selected_areas.append(f\"{zelt} {belegung}\")\n",
    "\n",
    "        # get Data \n",
    "        standort, wetterdaten, location_data = get_data(self.entries)\n",
    "\n",
    "        df_load = get_load_profile(self.entries)\n",
    "\n",
    "\n",
    "        # Perform PV calculation\n",
    "        erzeugte_energien, stromerzeugungen, berechnungszeiten , df_results = functions.calculation_pv(\n",
    "            self.entries, self.anzahl_vars, self.belegung_vars, standort, wetterdaten, location_data, df_load)\n",
    "\n",
    "\n",
    "\n",
    "        # Perform Wind calculation \n",
    "        df_wind, wind_energy_output_single, wind_energy_output_total, Anzahl = wind_sim(self.entries, df_results)\n",
    "\n",
    "        # Zusammenfassen der EE \n",
    "        df_results = sum_re(df_results)\n",
    "        # print(f\"df_results: \\n{df_results}\")\n",
    "\n",
    "        # params = extract_bat_data(self.entries)\n",
    "        # battery_energy = params['Anfangsenergie']\n",
    "        # df_results['Batterie Ladung'] = 0.0\n",
    "        # df_results['Backup Generator'] = 0.0\n",
    "        # df_results['Batterie Energie'] = battery_energy\n",
    "        # print(f\"df_results: \\n{df_results}\")\n",
    "\n",
    "\n",
    "\n",
    "        # Ladecontroller\n",
    "        df_results = load_control(self.entries, df_results)\n",
    "        # print(f\"df_results: \\n{df_results}\")\n",
    "        save_results_to_excel(df_results, c.EXPORT_FOLDER, \"df_results\")\n",
    "\n",
    "        # print(df_results.index)\n",
    "        # print(df_results.columns)\n",
    "\n",
    "\n",
    "\n",
    "\n",
    "        # Erstellen des interaktiven Plotly-Plots\n",
    "        fig = go.Figure()\n",
    "        for column in df_results.columns:\n",
    "            fig.add_trace(go.Scatter(x=df_results.index, y=df_results[column], mode='lines', name=column))\n",
    "        fig.update_layout(\n",
    "            title='Alle Spalten',\n",
    "            xaxis_title='Index',\n",
    "            yaxis_title='Werte',\n",
    "            legend_title='Spalten'\n",
    "        )\n",
    "        fig.show()\n",
    "\n",
    "\n",
    "\n",
    "\n",
    "\n",
    "\n",
    "\n",
    "        # Perform Batterie calculation\n",
    "        df_results = calculation_bat(self.entries, df_results)\n",
    "\n",
    "\n",
    "        # Ergebnisse verarbeiten und plotten\n",
    "        if erzeugte_energien is not None and stromerzeugungen is not None:\n",
    "\n",
    "            summierte_erzeugte_energie = sum(erzeugte_energien)\n",
    "\n",
    "            dieselmenge, eingesparte_energie = diesel_berechnung(summierte_erzeugte_energie)\n",
    "\n",
    "            plot_results(self.root, erzeugte_energien, stromerzeugungen, \n",
    "                         df_wind, wind_energy_output_single, wind_energy_output_total, Anzahl, \n",
    "                         dieselmenge, eingesparte_energie, berechnungszeiten, self.entries, selected_areas, df_results)\n",
    "\n",
    "\n",
    "if __name__ == \"__main__\":\n",
    "    root = tk.Tk()\n",
    "    app = PVLeistungsberechnung(root)\n",
    "    root.mainloop()\n"
   ]
  },
  {
   "cell_type": "code",
   "execution_count": null,
   "id": "d94a116b",
   "metadata": {},
   "outputs": [],
   "source": [
    "# mehrere Zelte Working  \n",
    "import tkinter as tk\n",
    "from threading import Thread\n",
    "import constants as c\n",
    "# from functions import berechnung_durchfuehren\n",
    "import functions\n",
    "from plotting import plot_results\n",
    "from sub_functions import diesel_berechnung\n",
    "from gui_helpers import create_tabs, create_calculation_button, get_entries #, create_checkbox_frame\n",
    "\n",
    "# Standardwerte für die Eingabefelder\n",
    "DEFAULT_VALUES = {\n",
    "    'Breitengrad': c.BREITENGRAD,\n",
    "    'Laengengrad': c.LAENGENGRAD,\n",
    "    'Hoehe': c.HOEHE,\n",
    "    'Anstellwinkel': c.ANSTELLWINKEL,\n",
    "    'azimuth': c.AZIMUTH,\n",
    "    'startzeit': c.STARTZEIT,  #'2021-06-01 00:00:00',\n",
    "    'endzeit': c.ENDZEIT,\n",
    "    'schrittweite': c.SCHRITTWEITE,  # Standardmäßig 1 Minute Schrittweite\n",
    "    'pdc0': c.PDC0,\n",
    "    'gamma_pdc': c.GAMMA_PDC,\n",
    "    'a_ref': c.A_REF,\n",
    "    'Il_ref': c.IL_REF,\n",
    "    'I0_ref': c.I0_REF,\n",
    "    'Rs_ref': c.RS_REF,\n",
    "    'Rsh_ref': c.RSH_REF,\n",
    "    'Adjust': c.ADJUST,\n",
    "    'Technology': c.TECHNOLOGY,\n",
    "    'pdc0_inv': c.PDC0_INV,\n",
    "    'eta_inv_nom': c.ETA_INV_NOM,\n",
    "    'eta_inv_ref': c.ETA_INV_REF\n",
    "}\n",
    "\n",
    "class PVLeistungsberechnung:\n",
    "    # zelttypen = [\"SG20\", \"SG30\", \"SG40\", \"SG50\"]\n",
    "    anzahl_vars = {}\n",
    "    belegung_vars = {}\n",
    "    def __init__(self, root):\n",
    "        self.root = root\n",
    "        self.root.title(\"PV-Leistungsberechnung\")\n",
    "\n",
    "        self.entries = []\n",
    "        \n",
    "        # Initialize instance variables for anzahl_vars and belegung_vars\n",
    "        self.anzahl_vars = {}\n",
    "        self.belegung_vars = {}\n",
    "\n",
    "        # Create tabs and get checkbox variables\n",
    "        self.tab_control = create_tabs(self.root, self.entries, DEFAULT_VALUES, self.anzahl_vars, self.belegung_vars)\n",
    "\n",
    "        create_calculation_button(self.root, self.starte_berechnung)\n",
    "\n",
    "    def starte_berechnung(self):\n",
    "        # Update variables before starting calculation\n",
    "        self.update_vars()\n",
    "        thread = Thread(target=self.berechnung_thread)\n",
    "        thread.start()\n",
    "\n",
    "    def update_vars(self):\n",
    "        for zelt, var in self.anzahl_vars.items():\n",
    "            print(f\"Updating {zelt}_ANZAHL to {var.get()}\")\n",
    "        for zelt, belegungen in self.belegung_vars.items():\n",
    "            for belegung, var in belegungen.items():\n",
    "                print(f\"Updating {zelt}_{belegung} to {var.get()}\")\n",
    "    \n",
    "    def berechnung_thread(self):\n",
    "        # Debug output of variables\n",
    "        print(f\"anzahl_vars: {self.anzahl_vars}\")\n",
    "        print(f\"belegung_vars: {self.belegung_vars}\")\n",
    "\n",
    "        # Prepare a list of selected areas for plotting\n",
    "        selected_areas = []\n",
    "        for zelt, belegungen in self.belegung_vars.items():\n",
    "            if self.anzahl_vars[zelt].get() == 0:\n",
    "                continue  # Skip this tent type if its count is 0\n",
    "            for belegung, var in belegungen.items():\n",
    "                if var.get():  # Ensure that we get the actual value of the BooleanVar\n",
    "                    selected_areas.append(f\"{zelt} {belegung}\")\n",
    "\n",
    "        # Perform calculation\n",
    "        erzeugte_energien, stromerzeugungen, berechnungszeiten = functions.calculation_pv(\n",
    "            self.entries, self.anzahl_vars, self.belegung_vars)\n",
    "        \n",
    "        # Ergebnisse verarbeiten und plotten\n",
    "        if erzeugte_energien is not None and stromerzeugungen is not None:\n",
    "            summierte_erzeugte_energie = sum(erzeugte_energien)\n",
    "            dieselmenge, eingesparte_energie = diesel_berechnung(summierte_erzeugte_energie)\n",
    "            plot_results(self.root, erzeugte_energien, stromerzeugungen, dieselmenge, eingesparte_energie, berechnungszeiten, self.entries, selected_areas)\n",
    "\n",
    "\n",
    "\n",
    "\n",
    "    # def starte_berechnung(self):\n",
    "    #     thread = Thread(target=self.berechnung_thread)\n",
    "    #     thread.start()\n",
    "\n",
    "    # def berechnung_thread(self):\n",
    "    #     erzeugte_energien, stromerzeugungen, berechnungszeiten = berechnung_durchfuehren(self.entries, self.anzahl_vars, self.belegung_vars)\n",
    "    #     if erzeugte_energien is not None and stromerzeugungen is not None:\n",
    "    #         summierte_erzeugte_energie = sum(erzeugte_energien)\n",
    "    #         dieselmenge, eingesparte_energie = diesel_berechnung(summierte_erzeugte_energie)\n",
    "    #         plot_results(self.root, erzeugte_energien, stromerzeugungen, dieselmenge, eingesparte_energie, berechnungszeiten, self.entries)\n",
    "            \n",
    "\n",
    "if __name__ == \"__main__\":\n",
    "    root = tk.Tk()\n",
    "    app = PVLeistungsberechnung(root)\n",
    "    root.mainloop()\n"
   ]
  },
  {
   "cell_type": "code",
   "execution_count": null,
   "id": "3248c5ee",
   "metadata": {},
   "outputs": [],
   "source": [
    "# copilot V2\n",
    "\n",
    "import tkinter as tk\n",
    "from tkinter import ttk\n",
    "import constants as c  # Importieren Sie die constants.py Datei\n",
    "\n",
    "# Erstellen Sie das Hauptfenster\n",
    "root = tk.Tk()\n",
    "root.title(\"Zeltbelegung\")\n",
    "\n",
    "# Erstellen Sie die Registerkartensteuerung\n",
    "tab_control = ttk.Notebook(root)\n",
    "tab4 = ttk.Frame(tab_control)\n",
    "tab_control.add(tab4, text='Zeltbelegung')\n",
    "tab_control.pack(expand=1, fill='both')\n",
    "\n",
    "# Definieren Sie die Zelttypen und Belegungen\n",
    "zelttypen = [\"SG20\", \"SG30\", \"SG40\", \"SG50\"]\n",
    "belegungen = ['Dach Ost', 'Dach West', 'Seite Ost', 'Seite West']\n",
    "\n",
    "# Variablen zur Speicherung der Werte\n",
    "anzahl_vars = {}\n",
    "belegung_vars = {}\n",
    "\n",
    "# Erstellen Sie für jeden Zelttyp eine Gruppe von Kontrollkästchen und ein Eingabefeld für die Anzahl\n",
    "for zelt in zelttypen:\n",
    "    frame = ttk.LabelFrame(tab4, text=zelt)\n",
    "    frame.pack(fill='x', padx=10, pady=10)\n",
    "    \n",
    "    # Korrektur: Der Standardwert wird hier korrekt gesetzt\n",
    "    anzahl = tk.IntVar(value=getattr(c, f\"{zelt}_ANZAHL\", 0))\n",
    "    anzahl_vars[zelt] = anzahl  # Speichern der IntVar für späteren Zugriff\n",
    "    anzahl_label = ttk.Label(frame, text=\"Anzahl:\")\n",
    "    anzahl_label.pack(side='left')\n",
    "    anzahl_entry = ttk.Entry(frame, textvariable=anzahl, width=5)\n",
    "    anzahl_entry.pack(side='left', padx=10, pady=5)\n",
    "    \n",
    "    belegung_vars[zelt] = {}\n",
    "    # Standardbelegungen aus constants.py laden\n",
    "    standard_belegungen = getattr(c, f\"{zelt}_BELEGUNGEN\", {})\n",
    "    for belegung in belegungen:\n",
    "        var = tk.BooleanVar(value=standard_belegungen.get(belegung, False))  # Standardwert für Checkboxen\n",
    "        belegung_vars[zelt][belegung] = var  # Speichern der BooleanVar für späteren Zugriff\n",
    "        chk = ttk.Checkbutton(frame, text=belegung, variable=var)\n",
    "        chk.pack(side='left', padx=10, pady=5)\n",
    "\n",
    "def print_values():\n",
    "    for zelt in zelttypen:\n",
    "        anzahl = anzahl_vars[zelt].get()\n",
    "        print(f\"{zelt} Anzahl: {anzahl}\")\n",
    "        for belegung in belegungen:\n",
    "            wert = belegung_vars[zelt][belegung].get()\n",
    "            print(f\"{zelt} {belegung}: {wert}\")\n",
    "\n",
    "print_button = ttk.Button(root, text=\"Werte drucken\", command=print_values)\n",
    "print_button.pack(pady=10)\n",
    "\n",
    "root.mainloop()\n",
    "\n"
   ]
  },
  {
   "cell_type": "code",
   "execution_count": null,
   "id": "36b33137",
   "metadata": {},
   "outputs": [],
   "source": [
    "# chat gpt \n",
    "import tkinter as tk\n",
    "from tkinter import ttk\n",
    "\n",
    "# Funktion zur Erstellung der Zeltbelegungs-Frames\n",
    "def create_tent_frame(tab, tent_type):\n",
    "    frame = ttk.Labelframe(tab, text=tent_type)\n",
    "    frame.pack(fill='x', padx=10, pady=5)\n",
    "\n",
    "    # Eingabefeld für die Anzahl der Zelte\n",
    "    lbl_count = ttk.Label(frame, text=\"Anzahl der Zelte:\")\n",
    "    lbl_count.pack(side='left', padx=5, pady=5)\n",
    "    entry_count = ttk.Entry(frame, width=5)\n",
    "    entry_count.pack(side='left', padx=5, pady=5)\n",
    "\n",
    "    # Checkboxen für Belegungen\n",
    "    belegungen = ['Dach Ost', 'Dach West', 'Seite Ost', 'Seite West']\n",
    "    vars = []\n",
    "    for belegung in belegungen:\n",
    "        var = tk.BooleanVar()\n",
    "        vars.append(var)\n",
    "        checkbox = ttk.Checkbutton(frame, text=belegung, variable=var)\n",
    "        checkbox.pack(side='left', padx=5, pady=5)\n",
    "\n",
    "# Hauptfenster erstellen\n",
    "root = tk.Tk()\n",
    "root.title(\"Zeltbelegung\")\n",
    "\n",
    "# Tab-Control erstellen\n",
    "tab_control = ttk.Notebook(root)\n",
    "\n",
    "# Tab für Zeltbelegungen erstellen\n",
    "tab4 = ttk.Frame(tab_control)\n",
    "tab_control.add(tab4, text='Zeltbelegung')\n",
    "tab_control.pack(expand=1, fill='both')\n",
    "\n",
    "# Zelttypen definieren\n",
    "zelttypen = [\"SG 20\", \"SG 30\", \"SG 40\", \"SG 50\"]\n",
    "\n",
    "# Zeltbelegungs-Frames für jeden Zelttyp erstellen\n",
    "for tent_type in zelttypen:\n",
    "    create_tent_frame(tab4, tent_type)\n",
    "\n",
    "# Hauptloop starten\n",
    "root.mainloop()\n"
   ]
  },
  {
   "cell_type": "code",
   "execution_count": null,
   "id": "b240e274-6d3e-442a-b3eb-d868601362b5",
   "metadata": {},
   "outputs": [],
   "source": [
    "# alt ohne auslagerung \n",
    "import tkinter as tk\n",
    "from tkinter import ttk\n",
    "from threading import Thread\n",
    "import constants as c\n",
    "from functions import calculation_pv\n",
    "from plotting import plot_results\n",
    "from sub_functions import diesel_berechnung\n",
    "\n",
    "# Standardwerte für die Eingabefelder\n",
    "DEFAULT_VALUES = {\n",
    "    'Breitengrad': c.BREITENGRAD,\n",
    "    'Laengengrad': c.LAENGENGRAD,\n",
    "    'Hoehe': c.HOEHE,\n",
    "    'Anstellwinkel': c.ANSTELLWINKEL,\n",
    "    'azimuth': c.AZIMUTH,\n",
    "    'startzeit': '2021-06-01 00:00:00',\n",
    "    'endzeit': '2021-06-01 23:59:59',\n",
    "    'schrittweite': '1',  # Standardmäßig 1 Minute Schrittweite\n",
    "    'pdc0': c.PDC0,\n",
    "    'gamma_pdc': c.GAMMA_PDC,\n",
    "    'a_ref': c.A_REF,\n",
    "    'Il_ref': c.IL_REF,\n",
    "    'I0_ref': c.I0_REF,\n",
    "    'Rs_ref': c.RS_REF,\n",
    "    'Rsh_ref': c.RSH_REF,\n",
    "    'Adjust': c.ADJUST,\n",
    "    'Technology': c.TECHNOLOGY,\n",
    "    'pdc0_inv': c.PDC0_INV,\n",
    "    'eta_inv_nom': c.ETA_INV_NOM,\n",
    "    'eta_inv_ref': c.ETA_INV_REF\n",
    "}\n",
    "\n",
    "class PVLeistungsberechnung:\n",
    "    def __init__(self, root):\n",
    "        self.root = root\n",
    "        self.root.title(\"PV-Leistungsberechnung\")\n",
    "\n",
    "        self.tabs = []\n",
    "        self.entries = []\n",
    "\n",
    "        self.create_tabs()\n",
    "        self.create_calculation_button()\n",
    "\n",
    "    def create_tabs(self):\n",
    "        tab_control = ttk.Notebook(self.root)\n",
    "        \n",
    "        # Tab für allgemeine Einstellungen\n",
    "        tab1 = ttk.Frame(tab_control)\n",
    "        tab_control.add(tab1, text='Allgemein')\n",
    "        self.create_input_frame(tab1, ['Breitengrad', 'Laengengrad', 'Hoehe', 'Anstellwinkel', 'azimuth', 'startzeit', 'endzeit', 'schrittweite'])\n",
    "        self.tabs.append(tab1)\n",
    "\n",
    "        # Tab für Modulparameter\n",
    "        tab2 = ttk.Frame(tab_control)\n",
    "        tab_control.add(tab2, text='Modulparameter')\n",
    "        self.create_input_frame(tab2, ['pdc0', 'gamma_pdc', 'a_ref', 'Il_ref', 'I0_ref', 'Rs_ref', 'Rsh_ref', 'Adjust', 'Technology'])\n",
    "        self.tabs.append(tab2)\n",
    "\n",
    "        # Tab für Wechselrichterparameter\n",
    "        tab3 = ttk.Frame(tab_control)\n",
    "        tab_control.add(tab3, text='Wechselrichterparameter')\n",
    "        self.create_input_frame(tab3, ['pdc0_inv', 'eta_inv_nom', 'eta_inv_ref'])\n",
    "        self.tabs.append(tab3)\n",
    "\n",
    "        # Tab für Zeltbelegung\n",
    "        tab4 = ttk.Frame(tab_control)\n",
    "        tab_control.add(tab4, text='Zeltbelegung')\n",
    "        self.create_combobox_frame(tab4, [\"SG 30\", \"SG 50\", \"SG 300\", \"SG 500\"])\n",
    "        self.create_checkbox_frame(tab4, ['Dach Ost', 'Dach West', 'Seite Ost', 'Seite West'])\n",
    "        self.tabs.append(tab4)\n",
    "\n",
    "        tab_control.pack(expand=1, fill='both')\n",
    "\n",
    "    def create_input_frame(self, frame, keys):\n",
    "        frame = tk.Frame(frame, padx=10, pady=10)\n",
    "        frame.pack(padx=10, pady=10)\n",
    "\n",
    "        entries = {}\n",
    "        row = 0\n",
    "        for key in keys:\n",
    "            label = tk.Label(frame, text=f\"{key.capitalize()}:\")\n",
    "            label.grid(row=row, column=0, sticky=tk.W)\n",
    "            entry = tk.Entry(frame)\n",
    "            entry.grid(row=row, column=1)\n",
    "            entry.insert(0, DEFAULT_VALUES[key])\n",
    "            entries[key] = entry\n",
    "            row += 1\n",
    "\n",
    "        self.entries.append(entries)\n",
    "\n",
    "    def create_checkbox_frame(self, parent, options):\n",
    "        frame = ttk.Frame(parent, padding= 30)\n",
    "        frame.pack(padx=50, pady=10, fill='both', expand=True)\n",
    "        \n",
    "        self.checkbox_vars = []\n",
    "        for option in options:\n",
    "            var = tk.BooleanVar()\n",
    "            checkbox = ttk.Checkbutton(frame, text=option, variable=var)\n",
    "            checkbox.pack(anchor='w', pady= 5)\n",
    "            self.checkbox_vars.append(var)\n",
    "\n",
    "    def create_combobox_frame(self, parent, values):\n",
    "        frame = ttk.Frame(parent, padding=10)\n",
    "        frame.pack(padx=10, pady=10, fill='both', expand=True)\n",
    "\n",
    "        label = ttk.Label(frame, text=\"Select an SG value:\")\n",
    "        label.pack(pady=5)\n",
    "\n",
    "        combo = ttk.Combobox(frame, values=values)\n",
    "        combo.pack(pady=5)\n",
    "        combo.bind(\"<<ComboboxSelected>>\", self.on_select)\n",
    "\n",
    "    def on_select(self, event):\n",
    "        selected_value = event.widget.get()\n",
    "        print(f\"Selected: {selected_value}\")\n",
    "\n",
    "    def create_calculation_button(self):\n",
    "        button_berechnen = tk.Button(self.root, text=\"Berechnen\", command=self.starte_berechnung)\n",
    "        button_berechnen.pack(pady=10)\n",
    "\n",
    "    def starte_berechnung(self):\n",
    "        thread = Thread(target=self.berechnung_thread)\n",
    "        thread.start()\n",
    "\n",
    "    def berechnung_thread(self):\n",
    "        # stromerzeugung = float(stromerzeugung)\n",
    "        erzeugte_energie, stromerzeugung, berechnungszeit = calculation_pv(self.entries)\n",
    "        if erzeugte_energie is not None and stromerzeugung is not None:\n",
    "            dieselmenge, eingesparte_energie = diesel_berechnung(erzeugte_energie)\n",
    "            plot_results(self.root, erzeugte_energie, stromerzeugung, dieselmenge, eingesparte_energie, berechnungszeit, self.entries)\n",
    "            \n",
    "\n",
    "if __name__ == \"__main__\":\n",
    "    root = tk.Tk()\n",
    "    app = PVLeistungsberechnung(root)\n",
    "    root.mainloop()\n"
   ]
  },
  {
   "cell_type": "code",
   "execution_count": null,
   "id": "6914ae0a",
   "metadata": {},
   "outputs": [],
   "source": [
    "# Combobox \n",
    "import tkinter as tk\n",
    "from tkinter import ttk\n",
    "\n",
    "def on_select(event):\n",
    "    selected_value = combo.get()\n",
    "    print(f\"Selected: {selected_value}\")\n",
    "\n",
    "# Hauptfenster erstellen\n",
    "root = tk.Tk()\n",
    "root.title(\"Tkinter Dropdown Example\")\n",
    "\n",
    "# Label für das Dropdown-Menü\n",
    "label = tk.Label(root, text=\"Select an SG value:\")\n",
    "label.pack(pady=10)\n",
    "\n",
    "# Dropdown-Menü (ComboBox) erstellen\n",
    "values = [\"SG 30\", \"SG 50\", \"SG 300\", \"SG 500\"]\n",
    "combo = ttk.Combobox(root, values=values)\n",
    "combo.pack(pady=10)\n",
    "\n",
    "# Event-Handler für Auswahl hinzufügen\n",
    "combo.bind(\"<<ComboboxSelected>>\", on_select)\n",
    "\n",
    "# Hauptschleife starten\n",
    "root.mainloop()\n"
   ]
  },
  {
   "cell_type": "code",
   "execution_count": null,
   "id": "607c86cf",
   "metadata": {},
   "outputs": [],
   "source": [
    "# Eingabemaske für Zelte \n",
    "\n",
    "import tkinter as tk\n",
    "from tkinter import ttk, messagebox\n",
    "\n",
    "class ZeltSimulationApp(tk.Tk):\n",
    "    def __init__(self):\n",
    "        super().__init__()\n",
    "\n",
    "        self.title(\"Zelt Simulation\")\n",
    "\n",
    "        self.create_widgets()\n",
    "\n",
    "    def create_widgets(self):\n",
    "        # Zelttypen und Anzahl\n",
    "        self.zelttypen_label = tk.Label(self, text=\"Zelttypen:\")\n",
    "        self.zelttypen_label.grid(row=0, column=0, padx=10, pady=5)\n",
    "\n",
    "        self.zelttypen = [\"SG 30\", \"SG 50\", \"SG 300\", \"SG 500\"]\n",
    "        self.zelttypen_var = tk.StringVar(value=self.zelttypen[0])\n",
    "        self.zelttypen_dropdown = ttk.Combobox(self, textvariable=self.zelttypen_var, values=self.zelttypen)\n",
    "        self.zelttypen_dropdown.grid(row=0, column=1, padx=10, pady=5)\n",
    "\n",
    "        self.anzahl_label = tk.Label(self, text=\"Anzahl:\")\n",
    "        self.anzahl_label.grid(row=0, column=2, padx=10, pady=5)\n",
    "\n",
    "        self.anzahl_var = tk.IntVar(value=1)\n",
    "        self.anzahl_spinbox = tk.Spinbox(self, from_=1, to=100, textvariable=self.anzahl_var)\n",
    "        self.anzahl_spinbox.grid(row=0, column=3, padx=10, pady=5)\n",
    "\n",
    "        # Flächen der Zelttypen\n",
    "        self.flaechen_label = tk.Label(self, text=\"Flächen:\")\n",
    "        self.flaechen_label.grid(row=1, column=0, padx=10, pady=5)\n",
    "\n",
    "        self.flaechen_vars = {\n",
    "            \"Dach Ost\": tk.BooleanVar(),\n",
    "            \"Dach West\": tk.BooleanVar(),\n",
    "            \"Seite Ost\": tk.BooleanVar(),\n",
    "            \"Seite West\": tk.BooleanVar()\n",
    "        }\n",
    "\n",
    "        for i, (flaeche, var) in enumerate(self.flaechen_vars.items()):\n",
    "            cb = tk.Checkbutton(self, text=flaeche, variable=var)\n",
    "            cb.grid(row=1, column=i+1, padx=10, pady=5)\n",
    "\n",
    "        # Buttons\n",
    "        self.add_button = tk.Button(self, text=\"Hinzufügen\", command=self.add_zelt)\n",
    "        self.add_button.grid(row=2, column=0, columnspan=4, pady=10)\n",
    "\n",
    "        self.analyze_button = tk.Button(self, text=\"Analysieren\", command=self.analyze)\n",
    "        self.analyze_button.grid(row=3, column=0, columnspan=4, pady=10)\n",
    "\n",
    "        # Anzeige der Ergebnisse\n",
    "        self.results_label = tk.Label(self, text=\"Ergebnisse:\")\n",
    "        self.results_label.grid(row=4, column=0, padx=10, pady=5)\n",
    "\n",
    "        self.results_text = tk.Text(self, height=10, width=100)\n",
    "        self.results_text.grid(row=5, column=0, columnspan=4, padx=10, pady=5)\n",
    "\n",
    "        # Liste der Zelte für die Analyse\n",
    "        self.zelte_list = []\n",
    "\n",
    "    def add_zelt(self):\n",
    "        zelt_typ = self.zelttypen_var.get()\n",
    "        anzahl = self.anzahl_var.get()\n",
    "        flaechen = [flaeche for flaeche, var in self.flaechen_vars.items() if var.get()]\n",
    "\n",
    "        if not flaechen:\n",
    "            messagebox.showwarning(\"Warnung\", \"Bitte wählen Sie mindestens eine Fläche aus.\")\n",
    "            return\n",
    "\n",
    "        self.zelte_list.append((zelt_typ, anzahl, flaechen))\n",
    "        self.display_zelte()\n",
    "\n",
    "    def display_zelte(self):\n",
    "        self.results_text.delete(\"1.0\", tk.END)\n",
    "        for zelt in self.zelte_list:\n",
    "            zelt_info = f\"Typ: {zelt[0]}, Anzahl: {zelt[1]}, Flächen: {', '.join(zelt[2])}\\n\"\n",
    "            self.results_text.insert(tk.END, zelt_info)\n",
    "\n",
    "    def analyze(self):\n",
    "        if not self.zelte_list:\n",
    "            messagebox.showwarning(\"Warnung\", \"Bitte fügen Sie zuerst Zelte hinzu.\")\n",
    "            return\n",
    "\n",
    "        # Simulationslogik hier hinzufügen\n",
    "        # Für dieses Beispiel wird eine einfache Ausgabe gemacht\n",
    "        self.results_text.insert(tk.END, \"\\nAnalyse der Zeltkonstellationen:\\n\")\n",
    "        for zelt in self.zelte_list:\n",
    "            self.results_text.insert(tk.END, f\"Analysiere: Typ: {zelt[0]}, Anzahl: {zelt[1]}, Flächen: {', '.join(zelt[2])}\\n\")\n",
    "\n",
    "if __name__ == \"__main__\":\n",
    "    app = ZeltSimulationApp()\n",
    "    app.mainloop()\n"
   ]
  },
  {
   "cell_type": "code",
   "execution_count": null,
   "id": "5646ddbf-b9a9-411d-acc0-502b2db8dd8d",
   "metadata": {
    "collapsed": true,
    "jupyter": {
     "outputs_hidden": true,
     "source_hidden": true
    }
   },
   "outputs": [],
   "source": [
    "# test mit externer py Datei \n",
    "\n",
    "import constants as c \n",
    "# import functions as fnc\n",
    "from functions import *\n",
    "\n",
    "placeholder()\n",
    "\n",
    "print(c.BREITENGRAD)\n",
    "print(c.LAENGENGRAD)\n",
    "print(c.ZEITZONE)"
   ]
  },
  {
   "cell_type": "markdown",
   "id": "e2a6b5e8-96b3-46a7-8ebb-4e4e9cf05484",
   "metadata": {},
   "source": [
    "# PV-Moduldatenbank"
   ]
  }
 ],
 "metadata": {
  "kernelspec": {
   "display_name": "Python 3 (ipykernel)",
   "language": "python",
   "name": "python3"
  },
  "language_info": {
   "codemirror_mode": {
    "name": "ipython",
    "version": 3
   },
   "file_extension": ".py",
   "mimetype": "text/x-python",
   "name": "python",
   "nbconvert_exporter": "python",
   "pygments_lexer": "ipython3",
   "version": "3.12.4"
  }
 },
 "nbformat": 4,
 "nbformat_minor": 5
}
