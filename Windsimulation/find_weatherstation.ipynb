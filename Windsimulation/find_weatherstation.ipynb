{
 "cells": [
  {
   "cell_type": "markdown",
   "id": "f5922266-821e-4e84-9e3e-813b73313388",
   "metadata": {
    "editable": true,
    "slideshow": {
     "slide_type": ""
    },
    "tags": []
   },
   "source": [
    "# Nähste Wetterstation finden"
   ]
  },
  {
   "cell_type": "code",
   "execution_count": 156,
   "id": "6937caec-7875-4962-896e-6e51bcbaa16c",
   "metadata": {
    "editable": true,
    "jupyter": {
     "source_hidden": true
    },
    "slideshow": {
     "slide_type": ""
    },
    "tags": []
   },
   "outputs": [],
   "source": [
    "import tkinter as tk\n",
    "from tkinter import filedialog, messagebox, font \n",
    "import pandas as pd\n",
    "from geopy.distance import geodesic\n",
    "import threading\n",
    "\n",
    "class WeatherStationFinder:\n",
    "    def __init__(self, root):\n",
    "        self.root = root\n",
    "        self.df = None\n",
    "        self.file_loaded = False  # Flag to track if the file has been loaded\n",
    "        self.setup_ui()\n",
    "\n",
    "    def setup_ui(self):\n",
    "        self.root.title(\"Nearest Weather Station Finder\")\n",
    "        self.root.geometry(\"400x300\")  # Set the width to 400 pixels and height to 300 pixels\n",
    "\n",
    "        ######################\n",
    "        # Defaultsettings\n",
    "        Font = \"Bahnschrift\"\n",
    "        Size = 15\n",
    "\n",
    "\n",
    "        ######################\n",
    "        \n",
    "        \n",
    "        # Define font\n",
    "        default_font = font.Font(family=Font, size=Size)\n",
    "\n",
    "        # Create a frame to hold all widgets\n",
    "        frame = tk.Frame(self.root)\n",
    "        frame.pack(expand=True)\n",
    "\n",
    "        self.load_button = tk.Button(frame, text=\"Load Data\", command=self.load_excel_file, font=default_font)\n",
    "        self.load_button.grid(row=0, column=0, columnspan=2, padx=10, pady=10)\n",
    "\n",
    "        tk.Label(frame, text=\"Latitude:\", font=default_font).grid(row=1, column=0, padx=10, pady=10, sticky=\"e\")\n",
    "        self.entry_lat = tk.Entry(frame, font=default_font)\n",
    "        self.entry_lat.grid(row=1, column=1, padx=10, pady=10)\n",
    "        self.entry_lat.insert(0, \"52.5200\")  # Default latitude (example)\n",
    "\n",
    "        tk.Label(frame, text=\"Longitude:\", font=default_font).grid(row=2, column=0, padx=10, pady=10, sticky=\"e\")\n",
    "        self.entry_lon = tk.Entry(frame, font=default_font)\n",
    "        self.entry_lon.grid(row=2, column=1, padx=10, pady=10)\n",
    "        self.entry_lon.insert(0, \"13.4050\")  # Default longitude (example)\n",
    "\n",
    "        self.find_button = tk.Button(frame, text=\"Find Nearest Station\", command=self.find_nearest_station, font=default_font)\n",
    "        self.find_button.grid(row=3, column=0, columnspan=2, padx=10, pady=10)\n",
    "\n",
    "        self.result_label = tk.Label(frame, text=\"Nearest Weather Station:\", font=default_font)\n",
    "        self.result_label.grid(row=4, column=0, columnspan=2, padx=10, pady=10)\n",
    "\n",
    "    def load_excel_file(self):\n",
    "        print(\"Loading Excel file...\")\n",
    "        initial_file = \"Standorte Winddaten .xlsx\"\n",
    "        file_path = filedialog.askopenfilename(initialfile=initial_file, filetypes=[(\"Excel files\", \"*.xlsx;*.xls\")])\n",
    "        if not file_path:\n",
    "            messagebox.showerror(\"Error\", \"No file selected.\")\n",
    "            return\n",
    "        \n",
    "        try:\n",
    "            print(f\"File selected: {file_path}\")\n",
    "            self.df = pd.read_excel(file_path)\n",
    "            if 'Geogr_Laenge' not in self.df.columns or 'Geogr_Breite' not in self.df.columns or 'SDO_Name' not in self.df.columns:\n",
    "                messagebox.showerror(\"Error\", \"Invalid Excel format. Required columns are missing.\")\n",
    "                self.file_loaded = False\n",
    "            else:\n",
    "                self.file_loaded = True  # Set the flag indicating file is loaded\n",
    "                print(\"Excel file loaded successfully.\")\n",
    "        except Exception as e:\n",
    "            messagebox.showerror(\"Error\", f\"Failed to read the Excel file. Error: {e}\")\n",
    "            self.file_loaded = False\n",
    "\n",
    "    def find_nearest_station(self):\n",
    "        print(\"Finding nearest station...\")\n",
    "        if not self.file_loaded:\n",
    "            messagebox.showerror(\"Error\", \"Please load a valid Excel file first.\")\n",
    "            return\n",
    "\n",
    "        # Get latitude and longitude from entries\n",
    "        try:\n",
    "            lat = float(self.entry_lat.get())\n",
    "            lon = float(self.entry_lon.get())\n",
    "            print(f\"Latitude: {lat}, Longitude: {lon}\")\n",
    "        except ValueError:\n",
    "            messagebox.showerror(\"Error\", \"Invalid input. Please enter valid numbers for latitude and longitude.\")\n",
    "            return\n",
    "\n",
    "        # Run the calculation in a separate thread\n",
    "        threading.Thread(target=self.calculate_nearest_station, args=(lat, lon)).start()\n",
    "\n",
    "    def calculate_nearest_station(self, lat, lon):\n",
    "        print(\"Calculating nearest station...\")\n",
    "        # Find the nearest station\n",
    "        min_distance = float('inf')\n",
    "        nearest_station = None\n",
    "        nearest_station_lat = None\n",
    "        nearest_station_lon = None\n",
    "        for index, row in self.df.iterrows():\n",
    "            station_coord = (row['Geogr_Breite'], row['Geogr_Laenge'])\n",
    "            distance = geodesic((lat, lon), station_coord).kilometers\n",
    "            if distance < min_distance:\n",
    "                min_distance = distance\n",
    "                nearest_station = row['SDO_Name']\n",
    "                nearest_station_SDO_ID = row['SDO_ID']\n",
    "                nearest_station_lat = row['Geogr_Breite']\n",
    "                nearest_station_lon = row['Geogr_Laenge']\n",
    "\n",
    "        # Update the result label in the main thread\n",
    "        self.root.after(0, self.update_result_label, nearest_station, nearest_station_lon, nearest_station_lat, nearest_station_SDO_ID, min_distance)\n",
    "\n",
    "    def update_result_label(self, nearest_station, nearest_station_lon, nearest_station_lat, nearest_station_SDO_ID, min_distance):\n",
    "        print(f\"Nearest station found: {nearest_station}\")\n",
    "        self.result_label.config(text=f\"Nearest Weather Station: {nearest_station}\\nSDO ID: {nearest_station_SDO_ID} \\nLat: {nearest_station_lat}\\tLon: {nearest_station_lon}\\nDistance {min_distance:.1f} km\")\n",
    "\n",
    "if __name__ == \"__main__\":\n",
    "    root = tk.Tk()\n",
    "    app = WeatherStationFinder(root)\n",
    "    root.mainloop()\n"
   ]
  },
  {
   "cell_type": "code",
   "execution_count": 78,
   "id": "14d4508a-89ab-4d56-8578-daea6cf7cba5",
   "metadata": {},
   "outputs": [
    {
     "name": "stdout",
     "output_type": "stream",
     "text": [
      "Distanz: 34.121757583591815 \n"
     ]
    }
   ],
   "source": [
    "# schnelle Distanzberechung \n",
    "from geopy.distance import geodesic\n",
    "lat, lon = 52.746, 13.8427  # Beispielkoordinaten (Breitengrad, Längengrad)\n",
    "station_coord = (52.900, 13.4050)  # Koordinaten einer anderen Position (Breitengrad, Längengrad)\n",
    "distance = geodesic((lat, lon), station_coord).kilometers\n",
    "print(f\"Distanz: {distance} \")"
   ]
  },
  {
   "cell_type": "markdown",
   "id": "3ef520e9-b5d8-4c0c-8392-8b189df66793",
   "metadata": {},
   "source": [
    "## GUI Tests"
   ]
  },
  {
   "cell_type": "code",
   "execution_count": 94,
   "id": "5cbd9acc-2158-412a-847f-2d60c6e8f02f",
   "metadata": {
    "jupyter": {
     "source_hidden": true
    }
   },
   "outputs": [],
   "source": [
    "# GUI tests \n",
    "\n",
    "import tkinter as tk\n",
    "\n",
    "class NearestWeatherStationFinder:\n",
    "    def __init__(self, root):\n",
    "        self.root = root\n",
    "        self.setup_ui()\n",
    "\n",
    "    def setup_ui(self):\n",
    "        self.root.title(\"Nearest Weather Station Finder\")\n",
    "        self.root.geometry(\"400x300\")  # Set the width to 400 pixels and height to 300 pixels\n",
    "\n",
    "        self.load_button = tk.Button(self.root, text=\"Load Data\", command=self.load_excel_file)\n",
    "        self.load_button.grid(row=0, column=0, columnspan=2, padx=10, pady=10, sticky=\"we\")\n",
    "        \n",
    "        tk.Label(self.root, text=\"Latitude:\").grid(row=1, column=0, padx=10, pady=10, sticky=\"e\")\n",
    "        self.entry_lat = tk.Entry(self.root)\n",
    "        self.entry_lat.grid(row=1, column=1, padx=10, pady=10, sticky=\"we\")\n",
    "        self.entry_lat.insert(0, \"52.5200\")  # Default latitude (example)\n",
    "\n",
    "        tk.Label(self.root, text=\"Longitude:\").grid(row=2, column=0, padx=10, pady=10, sticky=\"e\")\n",
    "        self.entry_lon = tk.Entry(self.root)\n",
    "        self.entry_lon.grid(row=2, column=1, padx=10, pady=10, sticky=\"we\")\n",
    "        self.entry_lon.insert(0, \"13.4050\")  # Default longitude (example)\n",
    "\n",
    "        self.find_button = tk.Button(self.root, text=\"Find Nearest Station\", command=self.find_nearest_station)\n",
    "        self.find_button.grid(row=3, column=0, columnspan=2, padx=10, pady=10, sticky=\"we\")\n",
    "\n",
    "        self.result_label = tk.Label(self.root, text=\"Nearest Weather Station: \")\n",
    "        self.result_label.grid(row=4, column=0, columnspan=2, padx=10, pady=10, sticky=\"we\")\n",
    "\n",
    "        # Make the columns expandable to keep widgets centered\n",
    "        self.root.grid_columnconfigure(0, weight=1)\n",
    "        self.root.grid_columnconfigure(1, weight=1)\n",
    "\n",
    "    def load_excel_file(self):\n",
    "        pass\n",
    "\n",
    "    def find_nearest_station(self):\n",
    "        pass\n",
    "\n",
    "if __name__ == \"__main__\":\n",
    "    root = tk.Tk()\n",
    "    app = NearestWeatherStationFinder(root)\n",
    "    root.mainloop()\n"
   ]
  },
  {
   "cell_type": "code",
   "execution_count": 107,
   "id": "b1d2cf68-76a4-45b8-b06c-709a2dccf753",
   "metadata": {
    "jupyter": {
     "source_hidden": true
    }
   },
   "outputs": [],
   "source": [
    "import tkinter as tk\n",
    "from tkinter import font\n",
    "\n",
    "class NearestWeatherStationFinder:\n",
    "    def __init__(self, root):\n",
    "        self.root = root\n",
    "        self.setup_ui()\n",
    "\n",
    "    def setup_ui(self):\n",
    "        self.root.title(\"Nearest Weather Station Finder\")\n",
    "        self.root.geometry(\"400x300\")  # Set the width to 400 pixels and height to 300 pixels\n",
    "\n",
    "        # Define font\n",
    "        default_font = font.Font(family=\"Helvetica\", size=12)\n",
    "\n",
    "        self.load_button = tk.Button(self.root, text=\"Load Data\", command=self.load_excel_file, font=default_font)\n",
    "        self.load_button.grid(row=0, column=0, columnspan=2, padx=10, pady=10)\n",
    "\n",
    "        tk.Label(self.root, text=\"Latitude:\", font=default_font).grid(row=1, column=0, padx=10, pady=10, sticky=\"e\")\n",
    "        self.entry_lat = tk.Entry(self.root, font=default_font)\n",
    "        self.entry_lat.grid(row=1, column=1, padx=10, pady=10)\n",
    "        self.entry_lat.insert(0, \"52.5200\")  # Default latitude (example)\n",
    "\n",
    "        tk.Label(self.root, text=\"Longitude:\", font=default_font).grid(row=2, column=0, padx=10, pady=10, sticky=\"e\")\n",
    "        self.entry_lon = tk.Entry(self.root, font=default_font)\n",
    "        self.entry_lon.grid(row=2, column=1, padx=10, pady=10)\n",
    "        self.entry_lon.insert(0, \"13.4050\")  # Default longitude (example)\n",
    "\n",
    "        self.find_button = tk.Button(self.root, text=\"Find Nearest Station\", command=self.find_nearest_station, font=default_font)\n",
    "        self.find_button.grid(row=3, column=0, columnspan=2, padx=10, pady=10)\n",
    "\n",
    "        self.result_label = tk.Label(self.root, text=\"Nearest Weather Station:\", font=default_font)\n",
    "        self.result_label.grid(row=4, column=0, columnspan=2, padx=10, pady=10)\n",
    "\n",
    "        # Make the columns expandable to keep widgets centered\n",
    "        self.root.grid_columnconfigure(0, weight=1)\n",
    "        self.root.grid_columnconfigure(1, weight=1)\n",
    "\n",
    "        # Center all widgets\n",
    "        self.root.grid_anchor(\"center\")\n",
    "\n",
    "    def load_excel_file(self):\n",
    "        pass\n",
    "\n",
    "    def find_nearest_station(self):\n",
    "        pass\n",
    "\n",
    "if __name__ == \"__main__\":\n",
    "    root = tk.Tk()\n",
    "    app = NearestWeatherStationFinder(root)\n",
    "    root.mainloop()\n"
   ]
  },
  {
   "cell_type": "code",
   "execution_count": 119,
   "id": "e2ae8d66-af22-49ff-b484-e29ba36a37cd",
   "metadata": {
    "jupyter": {
     "source_hidden": true
    }
   },
   "outputs": [],
   "source": [
    "import tkinter as tk\n",
    "from tkinter import font\n",
    "\n",
    "class NearestWeatherStationFinder:\n",
    "    def __init__(self, root):\n",
    "        self.root = root\n",
    "        self.setup_ui()\n",
    "\n",
    "    def setup_ui(self):\n",
    "        self.root.title(\"Nearest Weather Station Finder\")\n",
    "        self.root.geometry(\"400x300\")  # Set the width to 400 pixels and height to 300 pixels\n",
    "\n",
    "        # Define font\n",
    "        default_font = font.Font(family=\"Helvetica\", size=12)\n",
    "\n",
    "        # Create a frame to hold all widgets\n",
    "        frame = tk.Frame(self.root)\n",
    "        frame.pack(expand=True)\n",
    "\n",
    "        self.load_button = tk.Button(frame, text=\"Load Data\", command=self.load_excel_file, font=default_font)\n",
    "        self.load_button.grid(row=0, column=0, columnspan=2, padx=10, pady=10)\n",
    "\n",
    "        tk.Label(frame, text=\"Latitude:\", font=default_font).grid(row=1, column=0, padx=10, pady=10, sticky=\"e\")\n",
    "        self.entry_lat = tk.Entry(frame, font=default_font)\n",
    "        self.entry_lat.grid(row=1, column=1, padx=10, pady=10)\n",
    "        self.entry_lat.insert(0, \"52.5200\")  # Default latitude (example)\n",
    "\n",
    "        tk.Label(frame, text=\"Longitude:\", font=default_font).grid(row=2, column=0, padx=10, pady=10, sticky=\"e\")\n",
    "        self.entry_lon = tk.Entry(frame, font=default_font)\n",
    "        self.entry_lon.grid(row=2, column=1, padx=10, pady=10)\n",
    "        self.entry_lon.insert(0, \"13.4050\")  # Default longitude (example)\n",
    "\n",
    "        self.find_button = tk.Button(frame, text=\"Find Nearest Station\", command=self.find_nearest_station, font=default_font)\n",
    "        self.find_button.grid(row=3, column=0, columnspan=2, padx=10, pady=10)\n",
    "\n",
    "        self.result_label = tk.Label(frame, text=\"Nearest Weather Station:\", font=default_font)\n",
    "        self.result_label.grid(row=4, column=0, columnspan=2, padx=10, pady=10)\n",
    "\n",
    "    def load_excel_file(self):\n",
    "        pass\n",
    "\n",
    "    def find_nearest_station(self):\n",
    "        pass\n",
    "\n",
    "if __name__ == \"__main__\":\n",
    "    root = tk.Tk()\n",
    "    app = NearestWeatherStationFinder(root)\n",
    "    root.mainloop()\n"
   ]
  },
  {
   "cell_type": "code",
   "execution_count": 152,
   "id": "81c44662-9d75-4d00-9e35-89e73d023c36",
   "metadata": {},
   "outputs": [
    {
     "name": "stdout",
     "output_type": "stream",
     "text": [
      "('System', 'Terminal', 'Fixedsys', 'Modern', 'Roman', 'Script', 'Courier', 'MS Serif', 'MS Sans Serif', 'Small Fonts', 'Adobe Heiti Std R', '@Adobe Heiti Std R', 'Adobe Kaiti Std R', '@Adobe Kaiti Std R', 'Adobe Ming Std L', '@Adobe Ming Std L', 'Adobe Myungjo Std M', '@Adobe Myungjo Std M', 'Adobe Naskh Medium', 'Adobe Song Std L', '@Adobe Song Std L', 'Adobe Garamond Pro Bold', 'Adobe Garamond Pro', 'Anurati', 'Aquatico', 'Azonix', 'Birch Std', 'Blackoak Std', 'Brush Script Std', 'Chaparral Pro', 'Chaparral Pro Light', 'Charlemagne Std', 'Code Bold', 'Code Light', 'Code Predators', 'Hobo Std', 'Kozuka Gothic Pr6N B', '@Kozuka Gothic Pr6N B', 'Kozuka Gothic Pr6N EL', '@Kozuka Gothic Pr6N EL', 'Kozuka Gothic Pr6N H', '@Kozuka Gothic Pr6N H', 'Kozuka Gothic Pr6N L', '@Kozuka Gothic Pr6N L', 'Kozuka Gothic Pr6N M', '@Kozuka Gothic Pr6N M', 'Kozuka Gothic Pr6N R', '@Kozuka Gothic Pr6N R', 'Kozuka Gothic Pro B', '@Kozuka Gothic Pro B', 'Kozuka Gothic Pro EL', '@Kozuka Gothic Pro EL', 'Kozuka Gothic Pro H', '@Kozuka Gothic Pro H', 'Kozuka Gothic Pro L', '@Kozuka Gothic Pro L', 'Kozuka Gothic Pro M', '@Kozuka Gothic Pro M', 'Kozuka Gothic Pro R', '@Kozuka Gothic Pro R', 'Kozuka Mincho Pr6N B', '@Kozuka Mincho Pr6N B', 'Kozuka Mincho Pr6N EL', '@Kozuka Mincho Pr6N EL', 'Kozuka Mincho Pr6N H', '@Kozuka Mincho Pr6N H', 'Kozuka Mincho Pr6N L', '@Kozuka Mincho Pr6N L', 'Kozuka Mincho Pr6N M', '@Kozuka Mincho Pr6N M', 'Kozuka Mincho Pr6N R', '@Kozuka Mincho Pr6N R', 'Kozuka Mincho Pro B', '@Kozuka Mincho Pro B', 'Kozuka Mincho Pro EL', '@Kozuka Mincho Pro EL', 'Kozuka Mincho Pro H', '@Kozuka Mincho Pro H', 'Kozuka Mincho Pro L', '@Kozuka Mincho Pro L', 'Kozuka Mincho Pro M', '@Kozuka Mincho Pro M', 'Kozuka Mincho Pro R', '@Kozuka Mincho Pro R', 'Letter Gothic Std', 'Lithos Pro Regular', 'Minimal', 'Minion Pro', 'Minion Pro Cond', 'Minion Pro Med', 'Minion Pro SmBd', 'Myriad Arabic', 'Myriad Hebrew', 'Myriad Pro', 'Myriad Pro Cond', 'Myriad Pro Light', 'Nueva Std', 'Nueva Std Cond', 'Occupied', 'OCR A Std', 'Orator Std', 'Photograph Signature', 'Poplar Std', 'Prestige Elite Std', 'Quicksand', 'Source Sans Pro Black', 'Source Sans Pro', 'Source Sans Pro ExtraLight', 'Source Sans Pro Light', 'Source Sans Pro Semibold', 'Tekton Pro', 'Tekton Pro Cond', 'Tekton Pro Ext', 'Trajan Pro 3', 'Traveling _Typewriter', 'Adobe Caslon Pro Bold', 'Adobe Caslon Pro', 'Adobe Arabic', 'Adobe Devanagari', 'Adobe Fangsong Std R', '@Adobe Fangsong Std R', 'Adobe Fan Heiti Std B', '@Adobe Fan Heiti Std B', 'Adobe Gothic Std B', '@Adobe Gothic Std B', 'Adobe Gurmukhi', 'Adobe Hebrew', 'Orbitron', 'ITC Lubalin Graph Std Md Cn', 'ITC Lubalin Graph Std Medium', 'ITC Lubalin Graph Std Bk Cn', 'ITC Lubalin Graph Std Book', 'ITC Lubalin Graph Std ExLight', 'ChunkFive Roman', 'Uni Sans Thin Italic CAPS', 'Uni Sans Thin CAPS', 'Uni Sans Heavy Italic CAPS', 'Uni Sans Heavy CAPS', 'Monument Extended Ultrabold', 'Monument Extended', 'Futura PT Bold', 'Futura PT Extra Bold', 'Futura PT Heavy', 'Futura PT Medium', 'Futura PT Light', 'Acumin Pro Black', 'Acumin Pro', 'Acumin Pro Semibold', 'Futura PT Book', 'Acumin Pro Light', 'Acumin Pro Extra Light', 'Acumin Pro Ultra Black', 'Acumin Pro Thin', 'Acumin Pro Medium', 'Bebas Neue Bold', 'Montserrat', 'Montserrat SemiBold', 'Montserrat Light', 'Montserrat Medium', 'Montserrat ExtraBold', 'Montserrat Black', 'Futura PT Demi', 'League Gothic', 'Utopia Std Black Headline', 'Marlett', 'Arial', 'Arabic Transparent', 'Arial Baltic', 'Arial CE', 'Arial CYR', 'Arial Greek', 'Arial TUR', 'Arial Black', 'Bahnschrift Light', 'Bahnschrift SemiLight', 'Bahnschrift', 'Bahnschrift SemiBold', 'Bahnschrift Light SemiCondensed', 'Bahnschrift SemiLight SemiConde', 'Bahnschrift SemiCondensed', 'Bahnschrift SemiBold SemiConden', 'Bahnschrift Light Condensed', 'Bahnschrift SemiLight Condensed', 'Bahnschrift Condensed', 'Bahnschrift SemiBold Condensed', 'Calibri', 'Calibri Light', 'Cambria', 'Cambria Math', 'Candara', 'Candara Light', 'Comic Sans MS', 'Consolas', 'Constantia', 'Corbel', 'Corbel Light', 'Courier New', 'Courier New Baltic', 'Courier New CE', 'Courier New CYR', 'Courier New Greek', 'Courier New TUR', 'Ebrima', 'Franklin Gothic Medium', 'Gabriola', 'Gadugi', 'Georgia', 'Impact', 'Ink Free', 'Javanese Text', 'Leelawadee UI', 'Leelawadee UI Semilight', 'Lucida Console', 'Lucida Sans Unicode', 'Malgun Gothic', '@Malgun Gothic', 'Malgun Gothic Semilight', '@Malgun Gothic Semilight', 'Microsoft Himalaya', 'Microsoft JhengHei', '@Microsoft JhengHei', 'Microsoft JhengHei UI', '@Microsoft JhengHei UI', 'Microsoft JhengHei Light', '@Microsoft JhengHei Light', 'Microsoft JhengHei UI Light', '@Microsoft JhengHei UI Light', 'Microsoft New Tai Lue', 'Microsoft PhagsPa', 'Microsoft Sans Serif', 'Microsoft Tai Le', 'Microsoft YaHei', '@Microsoft YaHei', 'Microsoft YaHei UI', '@Microsoft YaHei UI', 'Microsoft YaHei Light', '@Microsoft YaHei Light', 'Microsoft YaHei UI Light', '@Microsoft YaHei UI Light', 'Microsoft Yi Baiti', 'MingLiU-ExtB', '@MingLiU-ExtB', 'PMingLiU-ExtB', '@PMingLiU-ExtB', 'MingLiU_HKSCS-ExtB', '@MingLiU_HKSCS-ExtB', 'Mongolian Baiti', 'MS Gothic', '@MS Gothic', 'MS UI Gothic', '@MS UI Gothic', 'MS PGothic', '@MS PGothic', 'MV Boli', 'Myanmar Text', 'Nirmala UI', 'Nirmala UI Semilight', 'Palatino Linotype', 'Segoe MDL2 Assets', 'Segoe Print', 'Segoe Script', 'Segoe UI', 'Segoe UI Black', 'Segoe UI Emoji', 'Segoe UI Historic', 'Segoe UI Light', 'Segoe UI Semibold', 'Segoe UI Semilight', 'Segoe UI Symbol', 'SimSun', '@SimSun', 'NSimSun', '@NSimSun', 'SimSun-ExtB', '@SimSun-ExtB', 'Sitka Small', 'Sitka Text', 'Sitka Subheading', 'Sitka Heading', 'Sitka Display', 'Sitka Banner', 'Sylfaen', 'Symbol', 'Tahoma', 'Times New Roman', 'Times New Roman Baltic', 'Times New Roman CE', 'Times New Roman CYR', 'Times New Roman Greek', 'Times New Roman TUR', 'Trebuchet MS', 'Verdana', 'Webdings', 'Wingdings', 'Yu Gothic', '@Yu Gothic', 'Yu Gothic UI', '@Yu Gothic UI', 'Yu Gothic UI Semibold', '@Yu Gothic UI Semibold', 'Yu Gothic Light', '@Yu Gothic Light', 'Yu Gothic UI Light', '@Yu Gothic UI Light', 'Yu Gothic Medium', '@Yu Gothic Medium', 'Yu Gothic UI Semilight', '@Yu Gothic UI Semilight', 'HoloLens MDL2 Assets', 'Agency FB', 'Algerian', 'Book Antiqua', 'Arial Narrow', 'Arial Rounded MT Bold', 'Baskerville Old Face', 'Bauhaus 93', 'Bell MT', 'Bernard MT Condensed', 'Bodoni MT', 'Bodoni MT Black', 'Bodoni MT Condensed', 'Bodoni MT Poster Compressed', 'Bookman Old Style', 'Bradley Hand ITC', 'Britannic Bold', 'Berlin Sans FB', 'Berlin Sans FB Demi', 'Broadway', 'Brush Script MT', 'Bookshelf Symbol 7', 'Californian FB', 'Calisto MT', 'Castellar', 'Century Schoolbook', 'Centaur', 'Century', 'Chiller', 'Colonna MT', 'Cooper Black', 'Copperplate Gothic Bold', 'Copperplate Gothic Light', 'Curlz MT', 'Dubai', 'Dubai Light', 'Dubai Medium', 'Elephant', 'Engravers MT', 'Eras Bold ITC', 'Eras Demi ITC', 'Eras Light ITC', 'Eras Medium ITC', 'Felix Titling', 'Forte', 'Franklin Gothic Book', 'Franklin Gothic Demi', 'Franklin Gothic Demi Cond', 'Franklin Gothic Heavy', 'Franklin Gothic Medium Cond', 'Freestyle Script', 'French Script MT', 'Footlight MT Light', 'Garamond', 'Gigi', 'Gill Sans MT', 'Gill Sans MT Condensed', 'Gill Sans Ultra Bold Condensed', 'Gill Sans Ultra Bold', 'Gloucester MT Extra Condensed', 'Gill Sans MT Ext Condensed Bold', 'Century Gothic', 'Goudy Old Style', 'Goudy Stout', 'Harlow Solid Italic', 'Harrington', 'Haettenschweiler', 'High Tower Text', 'Imprint MT Shadow', 'Informal Roman', 'Blackadder ITC', 'Edwardian Script ITC', 'Kristen ITC', 'Jokerman', 'Juice ITC', 'Kunstler Script', 'Wide Latin', 'Lucida Bright', 'Lucida Calligraphy', 'Leelawadee', 'Lucida Fax', 'Lucida Handwriting', 'Lucida Sans', 'Lucida Sans Typewriter', 'Magneto', 'Maiandra GD', 'Matura MT Script Capitals', 'Mistral', 'Modern No. 20', 'Microsoft Uighur', 'Monotype Corsiva', 'MT Extra', 'Niagara Engraved', 'Niagara Solid', 'OCR A Extended', 'Old English Text MT', 'Onyx', 'MS Outlook', 'Palace Script MT', 'Papyrus', 'Parchment', 'Perpetua', 'Perpetua Titling MT', 'Playbill', 'Poor Richard', 'Pristina', 'Rage Italic', 'Ravie', 'MS Reference Sans Serif', 'MS Reference Specialty', 'Rockwell Condensed', 'Rockwell', 'Rockwell Extra Bold', 'Script MT Bold', 'Showcard Gothic', 'Snap ITC', 'Stencil', 'Tw Cen MT', 'Tw Cen MT Condensed', 'Tw Cen MT Condensed Extra Bold', 'Tempus Sans ITC', 'Viner Hand ITC', 'Vivaldi', 'Vladimir Script', 'Wingdings 2', 'Wingdings 3', 'ZWAdobeF', 'African', 'AIGDT', 'AmdtSymbols', 'AMGDT', 'Arial Unicode MS', '@Arial Unicode MS', 'Battlefield', 'Battlefield Bold', 'Battlefield Bold Italic', 'Battlefield Condensed', 'Battlefield Condensed Italic', 'Battlefield Expanded', 'Battlefield Expanded Italic', 'Becca & Perry', 'BankGothic Lt BT', 'BankGothic Md BT', 'Caviar Dreams', 'CGF Locust Resistance', 'Chalet', 'Champagne & Limousines', 'CityBlueprint', 'Coalition', 'College', 'College Condensed', 'College Semi-condensed', 'CommercialPi BT', 'Complex', 'CommercialScript BT', 'Coolvetica Compressed Rg', 'Coolvetica Condensed Rg', 'Coolvetica Crammed Rg', 'Coolvetica Rg', 'CountryBlueprint', 'Dutch801 Rm BT', 'Dutch801 XBd BT', 'EuroRoman', 'GDT', 'GENISO', 'GeosansLight', 'Good Times Rg', 'GothicE', 'GothicG', 'GothicI', 'GreekC', 'GreekS', 'HTWBerlin Office', 'ISOCP', 'ISOCP2', 'ISOCP3', 'ISOCPEUR', 'ISOCT', 'ISOCT2', 'ISOCT3', 'ISOCTEUR', 'ItalicC', 'ItalicT', 'Keep Calm Med', 'KG Ten Thousand Reasons', 'Kiona', 'Lato Black', 'Lato', 'Lato Hairline', 'Lato Heavy', 'Lato Light', 'Lato Medium', 'Lato Semibold', 'Lato Thin', 'Louis George Café', 'Louis George Café Light', 'Merry Christmas Flake', 'Merry Christmas Star', 'Miraculous&Christmas', 'Monospac821 BT', 'Monotxt', 'Proxy 1', 'Proxy 2', 'Proxy 3', 'Proxy 4', 'Proxy 5', 'Proxy 6', 'Proxy 7', 'Proxy 8', 'Proxy 9', 'PanRoman', 'Qualy', 'Romantic', 'RomanC', 'RomanD', 'RomanS', 'RomanT', 'SansSerif', 'ScriptC', 'ScriptS', 'SF Distant Galaxy Alternate', 'SF Distant Galaxy AltOutline', 'Simplex', 'SparTakus Round', 'SparTakus', 'Studio Gothic Alternate Trial', 'Stylus BT', 'SuperFrench', 'Swis721 BT', 'Swis721 BdOul BT', 'Swis721 Cn BT', 'Swis721 BdCnOul BT', 'Swis721 BlkCn BT', 'Swis721 LtCn BT', 'Swis721 Ex BT', 'Swis721 BlkEx BT', 'Swis721 LtEx BT', 'Swis721 Blk BT', 'Swis721 BlkOul BT', 'Swis721 Lt BT', 'Syastro', 'Symap', 'Symath', 'Symeteo', 'Symusic', 'TechnicBold', 'TechnicLite', 'Technic', 'Traveling _Typewriter', 'Txt', 'Typo Draft Demo', 'ultimate MIDNIGHT', 'UniversalMath1 BT', 'U.S.S. Dallas Academy', 'U.S.S. Dallas Bold', 'U.S.S. Dallas Expanded', 'U.S.S. Dallas Laser', 'U.S.S. Dallas Laser Italic', 'U.S.S. Dallas Light', 'U.S.S. Dallas Outline', 'Vineta BT', 'Winfield Script PERSONAL USE', 'AcadEref', 'Allerta Stencil', 'Krona One', 'Monoton', 'Orbitron Black', 'Orbitron', 'Orbitron ExtraBold', 'Orbitron Medium', 'Orbitron SemiBold', 'Parisienne', 'Poppins Black', 'Poppins', 'Poppins ExtraBold', 'Poppins ExtraLight', 'Poppins Light', 'Poppins Medium', 'Poppins SemiBold', 'Poppins Thin', 'Raleway Black', 'Raleway', 'Raleway ExtraBold', 'Raleway ExtraLight', 'Raleway Thin', 'Raleway Light', 'Raleway Medium', 'Raleway SemiBold', 'Yellowtail', 'Neo Sans', 'Cascadia Code ExtraLight', 'Cascadia Code Light', 'Cascadia Code SemiLight', 'Cascadia Code', 'Cascadia Code SemiBold', 'Cascadia Mono ExtraLight', 'Cascadia Mono Light', 'Cascadia Mono SemiLight', 'Cascadia Mono', 'Cascadia Mono SemiBold', 'Lubalin Graph', 'codicon', 'elusiveicons', 'FontAwesome', 'Font Awesome 5 Brands Regular', 'Font Awesome 5 Free Regular', 'Font Awesome 5 Free Solid', 'Material Design Icons 5.9.55', 'Material Design Icons', 'Phosphor', 'remixicon', 'Kanit Light', 'Kanit Medium', 'Kanit', 'Kanit ExtraBold', 'Kanit SemiBold')\n"
     ]
    }
   ],
   "source": [
    "import tkinter as tk\n",
    "import tkinter.font as tkFont\n",
    "\n",
    "root = tk.Tk()\n",
    "\n",
    "# Abrufen der verfügbaren Schriftarten\n",
    "available_fonts = tkFont.families()\n",
    "print(available_fonts)\n",
    "\n",
    "root.mainloop()"
   ]
  },
  {
   "cell_type": "markdown",
   "id": "4022d17b-6dfd-4052-bb99-36a49f720836",
   "metadata": {
    "editable": true,
    "slideshow": {
     "slide_type": ""
    },
    "tags": []
   },
   "source": [
    "# Daten aus Wetterstationen zeigen "
   ]
  },
  {
   "cell_type": "code",
   "execution_count": 71,
   "id": "8bdb49f6-b6a1-4d29-a2c8-60eb4204b708",
   "metadata": {
    "collapsed": true,
    "jupyter": {
     "outputs_hidden": true,
     "source_hidden": true
    }
   },
   "outputs": [
    {
     "name": "stdout",
     "output_type": "stream",
     "text": [
      "                    Produkt_Code               SDO_ID  Zeitstempel  Wert  \\\n",
      "OBS_DEU_PT10M_F_MN          1001  2023-11-01T00:00:00          0.7    11   \n",
      "OBS_DEU_PT10M_F_MN          1001  2023-11-01T00:10:00          0.8    11   \n",
      "OBS_DEU_PT10M_F_MN          1001  2023-11-01T00:20:00          1.1    11   \n",
      "OBS_DEU_PT10M_F_MN          1001  2023-11-01T00:30:00          1.0    11   \n",
      "OBS_DEU_PT10M_F_MN          1001  2023-11-01T00:40:00          0.9    12   \n",
      "\n",
      "                    Qualitaet_Byte  Qualitaet_Niveau  \n",
      "OBS_DEU_PT10M_F_MN               3               NaN  \n",
      "OBS_DEU_PT10M_F_MN               3               NaN  \n",
      "OBS_DEU_PT10M_F_MN               3               NaN  \n",
      "OBS_DEU_PT10M_F_MN               3               NaN  \n",
      "OBS_DEU_PT10M_F_MN               3               NaN  \n",
      "<class 'pandas.core.frame.DataFrame'>\n",
      "Index: 2343144 entries, OBS_DEU_PT10M_F_MN to OBS_DEU_PT10M_F_MN\n",
      "Data columns (total 6 columns):\n",
      " #   Column            Dtype  \n",
      "---  ------            -----  \n",
      " 0   Produkt_Code      int64  \n",
      " 1   SDO_ID            object \n",
      " 2   Zeitstempel       float64\n",
      " 3   Wert              int64  \n",
      " 4   Qualitaet_Byte    int64  \n",
      " 5   Qualitaet_Niveau  float64\n",
      "dtypes: float64(2), int64(3), object(1)\n",
      "memory usage: 125.1+ MB\n"
     ]
    }
   ],
   "source": [
    "import tkinter as tk\n",
    "from tkinter import filedialog, messagebox\n",
    "import pandas as pd\n",
    "\n",
    "# Funktion, die aufgerufen wird, wenn der Button geklickt wird\n",
    "def open_file():\n",
    "    file_path = filedialog.askopenfilename(filetypes=[(\"CSV Files\", \"*.csv\"), (\"Excel Files\", \"*.xlsx\")])\n",
    "    if file_path:\n",
    "        try:\n",
    "            # DataFrame aus der ausgewählten Datei erstellen\n",
    "            df = pd.read_csv(file_path)  # Für CSV-Dateien\n",
    "            # df = pd.read_excel(file_path)  # Für Excel-Dateien\n",
    "\n",
    "            # Hier alle möglichen Informationen aus dem DataFrame extrahieren\n",
    "            num_rows = len(df)  # Anzahl der Datensätze\n",
    "            size_mb = df.memory_usage(deep=True).sum() / (1024 * 1024)  # Größe der Daten in MB\n",
    "\n",
    "            # Informationen als Label anzeigen\n",
    "            info_label.config(text=f\"Anzahl Datensätze: {num_rows}\\nGröße der Daten: {size_mb:.2f} MB\")\n",
    "            print(df.head())\n",
    "            df.info()  # Informationen über den DataFrame anzeigen (Datentypen, Nicht-Null-Werte, Speicherverbrauch usw.)\n",
    "            df.describe()  # Statistische Zusammenfassung (z. B. Anzahl, Mittelwert, Standardabweichung, Minimum, Maximum)\n",
    "            df.columns  # Liste der Spaltennamen anzeigen\n",
    "\n",
    "\n",
    "        except Exception as e:\n",
    "            messagebox.showerror(\"Fehler\", f\"Fehler beim Öffnen der Datei:\\n{str(e)}\")\n",
    "\n",
    "# GUI initialisieren\n",
    "root = tk.Tk()\n",
    "root.title(\"Datei öffnen und Informationen anzeigen\")\n",
    "\n",
    "# Button zum Öffnen der Datei\n",
    "open_button = tk.Button(root, text=\"Datei öffnen\", command=open_file)\n",
    "open_button.pack(pady=20)\n",
    "\n",
    "# Label für die Informationen\n",
    "info_label = tk.Label(root, text=\"\")\n",
    "info_label.pack(pady=10)\n",
    "\n",
    "# Hauptloop der GUI starten\n",
    "root.mainloop()\n"
   ]
  },
  {
   "cell_type": "markdown",
   "id": "f9cb5df5-4e45-4c1f-91ac-d4ffd59426ba",
   "metadata": {},
   "source": [
    "## Aufbereiten der Quelldatei \n",
    "Aufteilung der Datensätze in \n",
    "- Einzelne Excel-Datein\n",
    "- einzelne Tabellenblätter einer Excel "
   ]
  },
  {
   "cell_type": "code",
   "execution_count": 7,
   "id": "ea94b46e-ef29-4d9c-932f-759b75e66ee8",
   "metadata": {
    "collapsed": true,
    "jupyter": {
     "outputs_hidden": true,
     "source_hidden": true
    },
    "scrolled": true
   },
   "outputs": [
    {
     "name": "stdout",
     "output_type": "stream",
     "text": [
      "['Produkt_Code', 'SDO_ID', 'Zeitstempel', 'Wert', 'Qualitaet_Byte', 'Qualitaet_Niveau']\n",
      "['OBS_DEU_PT10M_F', '1975', '2022-01-01T00:00:00', '6.1', '111', '3', '']\n",
      "['OBS_DEU_PT10M_F', '1975', '2022-01-01T00:10:00', '5.5', '111', '3', '']\n",
      "['OBS_DEU_PT10M_F', '1975', '2022-01-01T00:20:00', '5.2', '111', '3', '']\n",
      "['OBS_DEU_PT10M_F', '1975', '2022-01-01T00:30:00', '5', '111', '3', '']\n",
      "['OBS_DEU_PT10M_F', '1975', '2022-01-01T00:40:00', '4.9', '111', '3', '']\n",
      "['OBS_DEU_PT10M_F', '1975', '2022-01-01T00:50:00', '5.1', '111', '3', '']\n",
      "['OBS_DEU_PT10M_F', '1975', '2022-01-01T01:00:00', '5.5', '111', '3', '']\n",
      "['OBS_DEU_PT10M_F', '1975', '2022-01-01T01:10:00', '5.6', '111', '3', '']\n",
      "['OBS_DEU_PT10M_F', '1975', '2022-01-01T01:20:00', '5.4', '111', '3', '']\n",
      "['OBS_DEU_PT10M_F', '1975', '2022-01-01T01:30:00', '4.7', '111', '3', '']\n",
      "['OBS_DEU_PT10M_F', '1975', '2022-01-01T01:40:00', '4.8', '111', '3', '']\n",
      "['OBS_DEU_PT10M_F', '1975', '2022-01-01T01:50:00', '5', '111', '3', '']\n",
      "['OBS_DEU_PT10M_F', '1975', '2022-01-01T02:00:00', '4.2', '111', '3', '']\n",
      "['OBS_DEU_PT10M_F', '1975', '2022-01-01T02:10:00', '5', '111', '3', '']\n",
      "['OBS_DEU_PT10M_F', '1975', '2022-01-01T02:20:00', '5', '111', '3', '']\n",
      "['OBS_DEU_PT10M_F', '1975', '2022-01-01T02:30:00', '4.9', '111', '3', '']\n",
      "['OBS_DEU_PT10M_F', '1975', '2022-01-01T02:40:00', '5.3', '111', '3', '']\n",
      "['OBS_DEU_PT10M_F', '433', '2022-01-01T00:00:00', '5.5', '111', '3', '']\n",
      "['OBS_DEU_PT10M_F', '433', '2022-01-01T00:10:00', '5.1', '111', '3', '']\n",
      "['OBS_DEU_PT10M_F', '433', '2022-01-01T00:20:00', '4.5', '111', '3', '']\n",
      "['OBS_DEU_PT10M_F', '433', '2022-01-01T00:30:00', '4.7', '111', '3', '']\n",
      "['OBS_DEU_PT10M_F', '433', '2022-01-01T00:40:00', '5.3', '111', '3', '']\n",
      "['OBS_DEU_PT10M_F', '433', '2022-01-01T00:50:00', '5.7', '111', '3', '']\n",
      "['OBS_DEU_PT10M_F', '433', '2022-01-01T01:00:00', '5.6', '111', '3', '']\n",
      "['OBS_DEU_PT10M_F', '433', '2022-01-01T01:10:00', '5.6', '111', '3', '']\n",
      "['OBS_DEU_PT10M_F', '433', '2022-01-01T01:20:00', '4.7', '111', '3', '']\n",
      "['OBS_DEU_PT10M_F', '433', '2022-01-01T01:30:00', '4.7', '111', '3', '']\n",
      "['OBS_DEU_PT10M_F', '433', '2022-01-01T01:40:00', '5.8', '111', '3', '']\n",
      "['OBS_DEU_PT10M_F', '433', '2022-01-01T01:50:00', '5.7', '111', '3', '']\n",
      "['OBS_DEU_PT10M_F', '433', '2022-01-01T02:00:00', '6.2', '111', '3', '']\n",
      "['OBS_DEU_PT10M_F', '433', '2022-01-01T02:10:00', '6.2', '111', '3', '']\n",
      "['OBS_DEU_PT10M_F', '433', '2022-01-01T02:20:00', '5.9', '111', '3', '']\n",
      "['OBS_DEU_PT10M_F', '433', '2022-01-01T02:30:00', '5.8', '111', '3', '']\n",
      "['OBS_DEU_PT10M_F', '433', '2022-01-01T02:40:00', '6.4', '111', '3', '']\n",
      "['OBS_DEU_PT10M_F', '4642', '2022-01-01T00:00:00', '5.8', '111', '3', '']\n",
      "['OBS_DEU_PT10M_F', '4642', '2022-01-01T00:10:00', '6', '111', '3', '']\n",
      "['OBS_DEU_PT10M_F', '4642', '2022-01-01T00:20:00', '6', '111', '3', '']\n",
      "['OBS_DEU_PT10M_F', '4642', '2022-01-01T00:30:00', '6.8', '111', '3', '']\n",
      "['OBS_DEU_PT10M_F', '4642', '2022-01-01T00:40:00', '6', '111', '3', '']\n",
      "['OBS_DEU_PT10M_F', '4642', '2022-01-01T00:50:00', '6', '111', '3', '']\n",
      "['OBS_DEU_PT10M_F', '4642', '2022-01-01T01:00:00', '6.2', '111', '3', '']\n",
      "['OBS_DEU_PT10M_F', '4642', '2022-01-01T01:10:00', '5.3', '111', '3', '']\n",
      "['OBS_DEU_PT10M_F', '4642', '2022-01-01T01:20:00', '6.3', '111', '3', '']\n",
      "['OBS_DEU_PT10M_F', '4642', '2022-01-01T01:30:00', '6.9', '111', '3', '']\n",
      "['OBS_DEU_PT10M_F', '4642', '2022-01-01T01:40:00', '7', '111', '3', '']\n",
      "['OBS_DEU_PT10M_F', '4642', '2022-01-01T01:50:00', '6.7', '111', '3', '']\n",
      "['OBS_DEU_PT10M_F', '4642', '2022-01-01T02:00:00', '6.8', '111', '3', '']\n",
      "['OBS_DEU_PT10M_F', '4642', '2022-01-01T02:10:00', '6.2', '111', '3', '']\n",
      "['OBS_DEU_PT10M_F', '4642', '2022-01-01T02:20:00', '5.4', '111', '3', '']\n",
      "['OBS_DEU_PT10M_F', '4642', '2022-01-01T02:30:00', '5.3', '111', '3', '']\n",
      "['OBS_DEU_PT10M_F', '4642', '2022-01-01T02:40:00', '4.6', '111', '3', '']\n"
     ]
    }
   ],
   "source": [
    "import csv\n",
    "\n",
    "with open('test3Statione.csv', 'r') as file:\n",
    "    try:\n",
    "        reader = csv.reader(file)\n",
    "        for row in reader:\n",
    "            # Process each row\n",
    "            print(row)\n",
    "    except csv.Error as e:\n",
    "        print(f'Error while parsing CSV: {e}')\n"
   ]
  },
  {
   "cell_type": "code",
   "execution_count": 22,
   "id": "2e1b5f3b-8841-4d1a-b68e-78089580092e",
   "metadata": {
    "collapsed": true,
    "editable": true,
    "jupyter": {
     "outputs_hidden": true
    },
    "slideshow": {
     "slide_type": ""
    },
    "tags": []
   },
   "outputs": [
    {
     "ename": "ValueError",
     "evalue": "No axis named 2 for object type DataFrame",
     "output_type": "error",
     "traceback": [
      "\u001b[1;31m---------------------------------------------------------------------------\u001b[0m",
      "\u001b[1;31mKeyError\u001b[0m                                  Traceback (most recent call last)",
      "\u001b[1;32mC:\\ProgramData\\anaconda3\\Lib\\site-packages\\pandas\\core\\generic.py\u001b[0m in \u001b[0;36m?\u001b[1;34m(cls, axis)\u001b[0m\n\u001b[0;32m    552\u001b[0m             \u001b[1;32mreturn\u001b[0m \u001b[0mcls\u001b[0m\u001b[1;33m.\u001b[0m\u001b[0m_AXIS_TO_AXIS_NUMBER\u001b[0m\u001b[1;33m[\u001b[0m\u001b[0maxis\u001b[0m\u001b[1;33m]\u001b[0m\u001b[1;33m\u001b[0m\u001b[1;33m\u001b[0m\u001b[0m\n\u001b[0;32m    553\u001b[0m         \u001b[1;32mexcept\u001b[0m \u001b[0mKeyError\u001b[0m\u001b[1;33m:\u001b[0m\u001b[1;33m\u001b[0m\u001b[1;33m\u001b[0m\u001b[0m\n\u001b[1;32m--> 554\u001b[1;33m             \u001b[1;32mraise\u001b[0m \u001b[0mValueError\u001b[0m\u001b[1;33m(\u001b[0m\u001b[1;34mf\"No axis named {axis} for object type {cls.__name__}\"\u001b[0m\u001b[1;33m)\u001b[0m\u001b[1;33m\u001b[0m\u001b[1;33m\u001b[0m\u001b[0m\n\u001b[0m",
      "\u001b[1;31mKeyError\u001b[0m: 2",
      "\nDuring handling of the above exception, another exception occurred:\n",
      "\u001b[1;31mValueError\u001b[0m                                Traceback (most recent call last)",
      "\u001b[1;32m~\\AppData\\Local\\Temp\\ipykernel_27112\\911761932.py\u001b[0m in \u001b[0;36m?\u001b[1;34m()\u001b[0m\n\u001b[0;32m     14\u001b[0m     \u001b[1;31m# Benenne die Spalten um entsprechend der SDO_ID\u001b[0m\u001b[1;33m\u001b[0m\u001b[1;33m\u001b[0m\u001b[0m\n\u001b[0;32m     15\u001b[0m     \u001b[0msubset\u001b[0m\u001b[1;33m.\u001b[0m\u001b[0mcolumns\u001b[0m \u001b[1;33m=\u001b[0m \u001b[1;33m[\u001b[0m\u001b[1;34mf'{sdo_id}_Zeitstempel'\u001b[0m\u001b[1;33m,\u001b[0m \u001b[1;34mf'{sdo_id}_Wert'\u001b[0m\u001b[1;33m]\u001b[0m\u001b[1;33m\u001b[0m\u001b[1;33m\u001b[0m\u001b[0m\n\u001b[0;32m     16\u001b[0m \u001b[1;33m\u001b[0m\u001b[0m\n\u001b[0;32m     17\u001b[0m     \u001b[1;31m# Füge die subset Daten zum aggregierten DataFrame hinzu\u001b[0m\u001b[1;33m\u001b[0m\u001b[1;33m\u001b[0m\u001b[0m\n\u001b[1;32m---> 18\u001b[1;33m     \u001b[0mdf_aggregated\u001b[0m \u001b[1;33m=\u001b[0m \u001b[0mpd\u001b[0m\u001b[1;33m.\u001b[0m\u001b[0mconcat\u001b[0m\u001b[1;33m(\u001b[0m\u001b[1;33m[\u001b[0m\u001b[0mdf_aggregated\u001b[0m\u001b[1;33m,\u001b[0m \u001b[0msubset\u001b[0m\u001b[1;33m]\u001b[0m\u001b[1;33m,\u001b[0m \u001b[0maxis\u001b[0m\u001b[1;33m=\u001b[0m\u001b[1;36m2\u001b[0m\u001b[1;33m)\u001b[0m\u001b[1;33m\u001b[0m\u001b[1;33m\u001b[0m\u001b[0m\n\u001b[0m\u001b[0;32m     19\u001b[0m \u001b[1;33m\u001b[0m\u001b[0m\n\u001b[0;32m     20\u001b[0m \u001b[1;31m# Speichere das aggregierte DataFrame in eine Excel-Datei\u001b[0m\u001b[1;33m\u001b[0m\u001b[1;33m\u001b[0m\u001b[0m\n\u001b[0;32m     21\u001b[0m \u001b[0moutput_file\u001b[0m \u001b[1;33m=\u001b[0m \u001b[1;34m'aggregierte_daten.xlsx'\u001b[0m\u001b[1;33m\u001b[0m\u001b[1;33m\u001b[0m\u001b[0m\n",
      "\u001b[1;32mC:\\ProgramData\\anaconda3\\Lib\\site-packages\\pandas\\core\\reshape\\concat.py\u001b[0m in \u001b[0;36m?\u001b[1;34m(objs, axis, join, ignore_index, keys, levels, names, verify_integrity, sort, copy)\u001b[0m\n\u001b[0;32m    376\u001b[0m             \u001b[0mcopy\u001b[0m \u001b[1;33m=\u001b[0m \u001b[1;32mTrue\u001b[0m\u001b[1;33m\u001b[0m\u001b[1;33m\u001b[0m\u001b[0m\n\u001b[0;32m    377\u001b[0m     \u001b[1;32melif\u001b[0m \u001b[0mcopy\u001b[0m \u001b[1;32mand\u001b[0m \u001b[0musing_copy_on_write\u001b[0m\u001b[1;33m(\u001b[0m\u001b[1;33m)\u001b[0m\u001b[1;33m:\u001b[0m\u001b[1;33m\u001b[0m\u001b[1;33m\u001b[0m\u001b[0m\n\u001b[0;32m    378\u001b[0m         \u001b[0mcopy\u001b[0m \u001b[1;33m=\u001b[0m \u001b[1;32mFalse\u001b[0m\u001b[1;33m\u001b[0m\u001b[1;33m\u001b[0m\u001b[0m\n\u001b[0;32m    379\u001b[0m \u001b[1;33m\u001b[0m\u001b[0m\n\u001b[1;32m--> 380\u001b[1;33m     op = _Concatenator(\n\u001b[0m\u001b[0;32m    381\u001b[0m         \u001b[0mobjs\u001b[0m\u001b[1;33m,\u001b[0m\u001b[1;33m\u001b[0m\u001b[1;33m\u001b[0m\u001b[0m\n\u001b[0;32m    382\u001b[0m         \u001b[0maxis\u001b[0m\u001b[1;33m=\u001b[0m\u001b[0maxis\u001b[0m\u001b[1;33m,\u001b[0m\u001b[1;33m\u001b[0m\u001b[1;33m\u001b[0m\u001b[0m\n\u001b[0;32m    383\u001b[0m         \u001b[0mignore_index\u001b[0m\u001b[1;33m=\u001b[0m\u001b[0mignore_index\u001b[0m\u001b[1;33m,\u001b[0m\u001b[1;33m\u001b[0m\u001b[1;33m\u001b[0m\u001b[0m\n",
      "\u001b[1;32mC:\\ProgramData\\anaconda3\\Lib\\site-packages\\pandas\\core\\reshape\\concat.py\u001b[0m in \u001b[0;36m?\u001b[1;34m(self, objs, axis, join, keys, levels, names, ignore_index, verify_integrity, copy, sort)\u001b[0m\n\u001b[0;32m    453\u001b[0m             \u001b[0maxis\u001b[0m \u001b[1;33m=\u001b[0m \u001b[0mDataFrame\u001b[0m\u001b[1;33m.\u001b[0m\u001b[0m_get_axis_number\u001b[0m\u001b[1;33m(\u001b[0m\u001b[0maxis\u001b[0m\u001b[1;33m)\u001b[0m\u001b[1;33m\u001b[0m\u001b[1;33m\u001b[0m\u001b[0m\n\u001b[0;32m    454\u001b[0m             \u001b[0mself\u001b[0m\u001b[1;33m.\u001b[0m\u001b[0m_is_frame\u001b[0m \u001b[1;33m=\u001b[0m \u001b[1;32mFalse\u001b[0m\u001b[1;33m\u001b[0m\u001b[1;33m\u001b[0m\u001b[0m\n\u001b[0;32m    455\u001b[0m             \u001b[0mself\u001b[0m\u001b[1;33m.\u001b[0m\u001b[0m_is_series\u001b[0m \u001b[1;33m=\u001b[0m \u001b[1;32mTrue\u001b[0m\u001b[1;33m\u001b[0m\u001b[1;33m\u001b[0m\u001b[0m\n\u001b[0;32m    456\u001b[0m         \u001b[1;32melse\u001b[0m\u001b[1;33m:\u001b[0m\u001b[1;33m\u001b[0m\u001b[1;33m\u001b[0m\u001b[0m\n\u001b[1;32m--> 457\u001b[1;33m             \u001b[0maxis\u001b[0m \u001b[1;33m=\u001b[0m \u001b[0msample\u001b[0m\u001b[1;33m.\u001b[0m\u001b[0m_get_axis_number\u001b[0m\u001b[1;33m(\u001b[0m\u001b[0maxis\u001b[0m\u001b[1;33m)\u001b[0m\u001b[1;33m\u001b[0m\u001b[1;33m\u001b[0m\u001b[0m\n\u001b[0m\u001b[0;32m    458\u001b[0m             \u001b[0mself\u001b[0m\u001b[1;33m.\u001b[0m\u001b[0m_is_frame\u001b[0m \u001b[1;33m=\u001b[0m \u001b[1;32mTrue\u001b[0m\u001b[1;33m\u001b[0m\u001b[1;33m\u001b[0m\u001b[0m\n\u001b[0;32m    459\u001b[0m             \u001b[0mself\u001b[0m\u001b[1;33m.\u001b[0m\u001b[0m_is_series\u001b[0m \u001b[1;33m=\u001b[0m \u001b[1;32mFalse\u001b[0m\u001b[1;33m\u001b[0m\u001b[1;33m\u001b[0m\u001b[0m\n\u001b[0;32m    460\u001b[0m \u001b[1;33m\u001b[0m\u001b[0m\n",
      "\u001b[1;32mC:\\ProgramData\\anaconda3\\Lib\\site-packages\\pandas\\core\\generic.py\u001b[0m in \u001b[0;36m?\u001b[1;34m(cls, axis)\u001b[0m\n\u001b[0;32m    550\u001b[0m     \u001b[1;32mdef\u001b[0m \u001b[0m_get_axis_number\u001b[0m\u001b[1;33m(\u001b[0m\u001b[0mcls\u001b[0m\u001b[1;33m,\u001b[0m \u001b[0maxis\u001b[0m\u001b[1;33m:\u001b[0m \u001b[0mAxis\u001b[0m\u001b[1;33m)\u001b[0m \u001b[1;33m->\u001b[0m \u001b[0mAxisInt\u001b[0m\u001b[1;33m:\u001b[0m\u001b[1;33m\u001b[0m\u001b[1;33m\u001b[0m\u001b[0m\n\u001b[0;32m    551\u001b[0m         \u001b[1;32mtry\u001b[0m\u001b[1;33m:\u001b[0m\u001b[1;33m\u001b[0m\u001b[1;33m\u001b[0m\u001b[0m\n\u001b[0;32m    552\u001b[0m             \u001b[1;32mreturn\u001b[0m \u001b[0mcls\u001b[0m\u001b[1;33m.\u001b[0m\u001b[0m_AXIS_TO_AXIS_NUMBER\u001b[0m\u001b[1;33m[\u001b[0m\u001b[0maxis\u001b[0m\u001b[1;33m]\u001b[0m\u001b[1;33m\u001b[0m\u001b[1;33m\u001b[0m\u001b[0m\n\u001b[0;32m    553\u001b[0m         \u001b[1;32mexcept\u001b[0m \u001b[0mKeyError\u001b[0m\u001b[1;33m:\u001b[0m\u001b[1;33m\u001b[0m\u001b[1;33m\u001b[0m\u001b[0m\n\u001b[1;32m--> 554\u001b[1;33m             \u001b[1;32mraise\u001b[0m \u001b[0mValueError\u001b[0m\u001b[1;33m(\u001b[0m\u001b[1;34mf\"No axis named {axis} for object type {cls.__name__}\"\u001b[0m\u001b[1;33m)\u001b[0m\u001b[1;33m\u001b[0m\u001b[1;33m\u001b[0m\u001b[0m\n\u001b[0m",
      "\u001b[1;31mValueError\u001b[0m: No axis named 2 for object type DataFrame"
     ]
    }
   ],
   "source": [
    "import pandas as pd\n",
    "\n",
    "# Lese die CSV-Datei in ein pandas DataFrame\n",
    "df = pd.read_csv('test3Statione.csv')\n",
    "\n",
    "# Erstelle ein leeres DataFrame für die aggregierten Daten\n",
    "df_aggregated = pd.DataFrame()\n",
    "\n",
    "# Iteriere über eindeutige SDO_IDs, um Daten zu gruppieren\n",
    "for sdo_id in df['SDO_ID'].unique():\n",
    "    # Filtere Daten für die aktuelle SDO_ID\n",
    "    subset = df[df['SDO_ID'] == sdo_id][['Zeitstempel', 'Wert']]\n",
    "    \n",
    "    # Benenne die Spalten um entsprechend der SDO_ID\n",
    "    subset.columns = [f'{sdo_id}_Zeitstempel', f'{sdo_id}_Wert']\n",
    "    \n",
    "    # Füge die subset Daten zum aggregierten DataFrame hinzu\n",
    "    df_aggregated = pd.concat([df_aggregated, subset], axis=1)\n",
    "\n",
    "# Speichere das aggregierte DataFrame in eine Excel-Datei\n",
    "output_file = 'aggregierte_daten.xlsx'\n",
    "df_aggregated.to_excel(output_file, index=False, engine='openpyxl')\n",
    "\n",
    "print(f'Die aggregierten Daten wurden in \"{output_file}\" gespeichert.')\n"
   ]
  },
  {
   "cell_type": "markdown",
   "id": "13adcabd-f207-446d-b457-e46dbcb72d74",
   "metadata": {},
   "source": [
    "### Einzelne Excel-Datein"
   ]
  },
  {
   "cell_type": "code",
   "execution_count": 48,
   "id": "5eb7c44c-6896-4e2f-95c6-88d8ca0b2acd",
   "metadata": {},
   "outputs": [
    {
     "name": "stdout",
     "output_type": "stream",
     "text": [
      "Dateien wurden erfolgreich getrennt und gespeichert.\n"
     ]
    }
   ],
   "source": [
    "# Alle datensätze in einzelne datein \n",
    "\n",
    "import csv\n",
    "from collections import defaultdict\n",
    "\n",
    "# Datei lesen\n",
    "input_file = 'test3Statione.csv'\n",
    "output_folder = 'out/'  # Ordner muss vorher erstellt werden und mit \"Ordner/\" angegeben wernden \n",
    "\n",
    "# Daten strukturieren\n",
    "data = defaultdict(list)\n",
    "header = []\n",
    "\n",
    "with open(input_file, mode='r', encoding='utf-8') as file:\n",
    "    reader = csv.reader(file)\n",
    "    header = next(reader)  # Erste Zeile ist der Header\n",
    "    for row in reader:\n",
    "        sdo_id = row[1]\n",
    "        data[sdo_id].append(row)\n",
    "\n",
    "# Datei schreiben\n",
    "for sdo_id, rows in data.items():\n",
    "    output_file = f\"{output_folder}sdo_id_{sdo_id}.csv\"\n",
    "    with open(output_file, mode='w', encoding='utf-8', newline='') as file:\n",
    "        writer = csv.writer(file)\n",
    "        writer.writerow(header)  # Schreibe den Header\n",
    "        writer.writerows(rows)   # Schreibe die Daten\n",
    "\n",
    "print(\"Dateien wurden erfolgreich getrennt und gespeichert.\")\n"
   ]
  },
  {
   "cell_type": "markdown",
   "id": "7167d0cc-1d7b-4df6-a191-c59dee21d4bf",
   "metadata": {},
   "source": [
    "### einzelne Tabellenblätter einer Excel"
   ]
  },
  {
   "cell_type": "code",
   "execution_count": 68,
   "id": "96d58b6b-a4ec-416f-b69c-7ced8db80bb7",
   "metadata": {
    "collapsed": true,
    "editable": true,
    "jupyter": {
     "outputs_hidden": true
    },
    "slideshow": {
     "slide_type": ""
    },
    "tags": []
   },
   "outputs": [
    {
     "ename": "KeyboardInterrupt",
     "evalue": "",
     "output_type": "error",
     "traceback": [
      "\u001b[1;31m---------------------------------------------------------------------------\u001b[0m",
      "\u001b[1;31mKeyboardInterrupt\u001b[0m                         Traceback (most recent call last)",
      "Cell \u001b[1;32mIn[68], line 32\u001b[0m\n\u001b[0;32m     29\u001b[0m workbook\u001b[38;5;241m.\u001b[39mremove(workbook[\u001b[38;5;124m'\u001b[39m\u001b[38;5;124mSheet\u001b[39m\u001b[38;5;124m'\u001b[39m])\n\u001b[0;32m     31\u001b[0m \u001b[38;5;66;03m# Excel-Datei speichern\u001b[39;00m\n\u001b[1;32m---> 32\u001b[0m workbook\u001b[38;5;241m.\u001b[39msave(filename\u001b[38;5;241m=\u001b[39moutput_file)\n\u001b[0;32m     34\u001b[0m \u001b[38;5;28mprint\u001b[39m(\u001b[38;5;124mf\u001b[39m\u001b[38;5;124m\"\u001b[39m\u001b[38;5;124mDaten wurden erfolgreich in die Datei \u001b[39m\u001b[38;5;124m'\u001b[39m\u001b[38;5;132;01m{\u001b[39;00moutput_file\u001b[38;5;132;01m}\u001b[39;00m\u001b[38;5;124m'\u001b[39m\u001b[38;5;124m geschrieben.\u001b[39m\u001b[38;5;124m\"\u001b[39m)\n",
      "File \u001b[1;32mC:\\ProgramData\\anaconda3\\Lib\\site-packages\\openpyxl\\workbook\\workbook.py:407\u001b[0m, in \u001b[0;36mWorkbook.save\u001b[1;34m(self, filename)\u001b[0m\n\u001b[0;32m    405\u001b[0m \u001b[38;5;28;01mif\u001b[39;00m \u001b[38;5;28mself\u001b[39m\u001b[38;5;241m.\u001b[39mwrite_only \u001b[38;5;129;01mand\u001b[39;00m \u001b[38;5;129;01mnot\u001b[39;00m \u001b[38;5;28mself\u001b[39m\u001b[38;5;241m.\u001b[39mworksheets:\n\u001b[0;32m    406\u001b[0m     \u001b[38;5;28mself\u001b[39m\u001b[38;5;241m.\u001b[39mcreate_sheet()\n\u001b[1;32m--> 407\u001b[0m save_workbook(\u001b[38;5;28mself\u001b[39m, filename)\n",
      "File \u001b[1;32mC:\\ProgramData\\anaconda3\\Lib\\site-packages\\openpyxl\\writer\\excel.py:293\u001b[0m, in \u001b[0;36msave_workbook\u001b[1;34m(workbook, filename)\u001b[0m\n\u001b[0;32m    291\u001b[0m archive \u001b[38;5;241m=\u001b[39m ZipFile(filename, \u001b[38;5;124m'\u001b[39m\u001b[38;5;124mw\u001b[39m\u001b[38;5;124m'\u001b[39m, ZIP_DEFLATED, allowZip64\u001b[38;5;241m=\u001b[39m\u001b[38;5;28;01mTrue\u001b[39;00m)\n\u001b[0;32m    292\u001b[0m writer \u001b[38;5;241m=\u001b[39m ExcelWriter(workbook, archive)\n\u001b[1;32m--> 293\u001b[0m writer\u001b[38;5;241m.\u001b[39msave()\n\u001b[0;32m    294\u001b[0m \u001b[38;5;28;01mreturn\u001b[39;00m \u001b[38;5;28;01mTrue\u001b[39;00m\n",
      "File \u001b[1;32mC:\\ProgramData\\anaconda3\\Lib\\site-packages\\openpyxl\\writer\\excel.py:275\u001b[0m, in \u001b[0;36mExcelWriter.save\u001b[1;34m(self)\u001b[0m\n\u001b[0;32m    273\u001b[0m \u001b[38;5;28;01mdef\u001b[39;00m \u001b[38;5;21msave\u001b[39m(\u001b[38;5;28mself\u001b[39m):\n\u001b[0;32m    274\u001b[0m \u001b[38;5;250m    \u001b[39m\u001b[38;5;124;03m\"\"\"Write data into the archive.\"\"\"\u001b[39;00m\n\u001b[1;32m--> 275\u001b[0m     \u001b[38;5;28mself\u001b[39m\u001b[38;5;241m.\u001b[39mwrite_data()\n\u001b[0;32m    276\u001b[0m     \u001b[38;5;28mself\u001b[39m\u001b[38;5;241m.\u001b[39m_archive\u001b[38;5;241m.\u001b[39mclose()\n",
      "File \u001b[1;32mC:\\ProgramData\\anaconda3\\Lib\\site-packages\\openpyxl\\writer\\excel.py:75\u001b[0m, in \u001b[0;36mExcelWriter.write_data\u001b[1;34m(self)\u001b[0m\n\u001b[0;32m     72\u001b[0m \u001b[38;5;28;01melse\u001b[39;00m:\n\u001b[0;32m     73\u001b[0m     archive\u001b[38;5;241m.\u001b[39mwritestr(ARC_THEME, theme_xml)\n\u001b[1;32m---> 75\u001b[0m \u001b[38;5;28mself\u001b[39m\u001b[38;5;241m.\u001b[39m_write_worksheets()\n\u001b[0;32m     76\u001b[0m \u001b[38;5;28mself\u001b[39m\u001b[38;5;241m.\u001b[39m_write_chartsheets()\n\u001b[0;32m     77\u001b[0m \u001b[38;5;28mself\u001b[39m\u001b[38;5;241m.\u001b[39m_write_images()\n",
      "File \u001b[1;32mC:\\ProgramData\\anaconda3\\Lib\\site-packages\\openpyxl\\writer\\excel.py:215\u001b[0m, in \u001b[0;36mExcelWriter._write_worksheets\u001b[1;34m(self)\u001b[0m\n\u001b[0;32m    212\u001b[0m \u001b[38;5;28;01mfor\u001b[39;00m idx, ws \u001b[38;5;129;01min\u001b[39;00m \u001b[38;5;28menumerate\u001b[39m(\u001b[38;5;28mself\u001b[39m\u001b[38;5;241m.\u001b[39mworkbook\u001b[38;5;241m.\u001b[39mworksheets, \u001b[38;5;241m1\u001b[39m):\n\u001b[0;32m    214\u001b[0m     ws\u001b[38;5;241m.\u001b[39m_id \u001b[38;5;241m=\u001b[39m idx\n\u001b[1;32m--> 215\u001b[0m     \u001b[38;5;28mself\u001b[39m\u001b[38;5;241m.\u001b[39mwrite_worksheet(ws)\n\u001b[0;32m    217\u001b[0m     \u001b[38;5;28;01mif\u001b[39;00m ws\u001b[38;5;241m.\u001b[39m_drawing:\n\u001b[0;32m    218\u001b[0m         \u001b[38;5;28mself\u001b[39m\u001b[38;5;241m.\u001b[39m_write_drawing(ws\u001b[38;5;241m.\u001b[39m_drawing)\n",
      "File \u001b[1;32mC:\\ProgramData\\anaconda3\\Lib\\site-packages\\openpyxl\\writer\\excel.py:200\u001b[0m, in \u001b[0;36mExcelWriter.write_worksheet\u001b[1;34m(self, ws)\u001b[0m\n\u001b[0;32m    198\u001b[0m \u001b[38;5;28;01melse\u001b[39;00m:\n\u001b[0;32m    199\u001b[0m     writer \u001b[38;5;241m=\u001b[39m WorksheetWriter(ws)\n\u001b[1;32m--> 200\u001b[0m     writer\u001b[38;5;241m.\u001b[39mwrite()\n\u001b[0;32m    202\u001b[0m ws\u001b[38;5;241m.\u001b[39m_rels \u001b[38;5;241m=\u001b[39m writer\u001b[38;5;241m.\u001b[39m_rels\n\u001b[0;32m    203\u001b[0m \u001b[38;5;28mself\u001b[39m\u001b[38;5;241m.\u001b[39m_archive\u001b[38;5;241m.\u001b[39mwrite(writer\u001b[38;5;241m.\u001b[39mout, ws\u001b[38;5;241m.\u001b[39mpath[\u001b[38;5;241m1\u001b[39m:])\n",
      "File \u001b[1;32mC:\\ProgramData\\anaconda3\\Lib\\site-packages\\openpyxl\\worksheet\\_writer.py:359\u001b[0m, in \u001b[0;36mopenpyxl.worksheet._writer.WorksheetWriter.write\u001b[1;34m()\u001b[0m\n",
      "File \u001b[1;32mC:\\ProgramData\\anaconda3\\Lib\\site-packages\\openpyxl\\worksheet\\_writer.py:123\u001b[0m, in \u001b[0;36mopenpyxl.worksheet._writer.WorksheetWriter.write_rows\u001b[1;34m()\u001b[0m\n",
      "File \u001b[1;32mC:\\ProgramData\\anaconda3\\Lib\\site-packages\\openpyxl\\worksheet\\_writer.py:125\u001b[0m, in \u001b[0;36mopenpyxl.worksheet._writer.WorksheetWriter.write_rows\u001b[1;34m()\u001b[0m\n",
      "File \u001b[1;32mC:\\ProgramData\\anaconda3\\Lib\\site-packages\\openpyxl\\worksheet\\_writer.py:135\u001b[0m, in \u001b[0;36mopenpyxl.worksheet._writer.WorksheetWriter.write_row\u001b[1;34m()\u001b[0m\n",
      "File \u001b[1;32mC:\\ProgramData\\anaconda3\\Lib\\site-packages\\openpyxl\\worksheet\\_writer.py:147\u001b[0m, in \u001b[0;36mopenpyxl.worksheet._writer.WorksheetWriter.write_row\u001b[1;34m()\u001b[0m\n",
      "File \u001b[1;32mC:\\ProgramData\\anaconda3\\Lib\\site-packages\\openpyxl\\styles\\styleable.py:147\u001b[0m, in \u001b[0;36mStyleableObject.has_style\u001b[1;34m(self)\u001b[0m\n\u001b[0;32m    143\u001b[0m         \u001b[38;5;28mself\u001b[39m\u001b[38;5;241m.\u001b[39m_style \u001b[38;5;241m=\u001b[39m StyleArray()\n\u001b[0;32m    144\u001b[0m     \u001b[38;5;28;01mreturn\u001b[39;00m \u001b[38;5;28mself\u001b[39m\u001b[38;5;241m.\u001b[39mparent\u001b[38;5;241m.\u001b[39mparent\u001b[38;5;241m.\u001b[39m_cell_styles\u001b[38;5;241m.\u001b[39madd(\u001b[38;5;28mself\u001b[39m\u001b[38;5;241m.\u001b[39m_style)\n\u001b[1;32m--> 147\u001b[0m \u001b[38;5;129m@property\u001b[39m\n\u001b[0;32m    148\u001b[0m \u001b[38;5;28;01mdef\u001b[39;00m \u001b[38;5;21mhas_style\u001b[39m(\u001b[38;5;28mself\u001b[39m):\n\u001b[0;32m    149\u001b[0m     \u001b[38;5;28;01mif\u001b[39;00m \u001b[38;5;28mself\u001b[39m\u001b[38;5;241m.\u001b[39m_style \u001b[38;5;129;01mis\u001b[39;00m \u001b[38;5;28;01mNone\u001b[39;00m:\n\u001b[0;32m    150\u001b[0m         \u001b[38;5;28;01mreturn\u001b[39;00m \u001b[38;5;28;01mFalse\u001b[39;00m\n",
      "\u001b[1;31mKeyboardInterrupt\u001b[0m: "
     ]
    }
   ],
   "source": [
    "# in verschiedene Tabellenblätter \n",
    "\n",
    "import csv\n",
    "from collections import defaultdict\n",
    "from openpyxl import Workbook\n",
    "\n",
    "# Datei lesen\n",
    "input_file = 'data3Stationen.csv'\n",
    "output_file = 'out/output.xlsx'  # Ausgabedatei als Excel\n",
    "\n",
    "# Daten strukturieren\n",
    "data = defaultdict(list)\n",
    "header = []\n",
    "\n",
    "with open(input_file, mode='r', encoding='utf-8') as file:\n",
    "    reader = csv.reader(file)\n",
    "    header = next(reader)  # Erste Zeile ist der Header\n",
    "    for row in reader:\n",
    "        sdo_id = row[1]\n",
    "        data[sdo_id].append(row)\n",
    "\n",
    "# Excel-Arbeitsblätter erstellen und Daten schreiben\n",
    "workbook = Workbook()\n",
    "for sdo_id, rows in data.items():\n",
    "    sheet = workbook.create_sheet(title=f'sdo_id_{sdo_id}')     # Benennen der Tabellenblätter\n",
    "    sheet.append(header)  # Schreibe den Header\n",
    "    for row in rows:\n",
    "        sheet.append(row)  # Schreibe die Daten für das jeweilige Arbeitsblatt\n",
    "\n",
    "# Standard-Arbeitsblatt entfernen\n",
    "workbook.remove(workbook['Sheet'])\n",
    "\n",
    "# Excel-Datei speichern\n",
    "workbook.save(filename=output_file)\n",
    "\n",
    "print(f\"Daten wurden erfolgreich in die Datei '{output_file}' geschrieben.\")\n"
   ]
  },
  {
   "cell_type": "code",
   "execution_count": null,
   "id": "7f4590f5-9149-43c6-ad32-e552df16b88c",
   "metadata": {
    "editable": true,
    "slideshow": {
     "slide_type": ""
    },
    "tags": []
   },
   "outputs": [],
   "source": []
  }
 ],
 "metadata": {
  "kernelspec": {
   "display_name": "Python 3 (ipykernel)",
   "language": "python",
   "name": "python3"
  },
  "language_info": {
   "codemirror_mode": {
    "name": "ipython",
    "version": 3
   },
   "file_extension": ".py",
   "mimetype": "text/x-python",
   "name": "python",
   "nbconvert_exporter": "python",
   "pygments_lexer": "ipython3",
   "version": "3.11.7"
  }
 },
 "nbformat": 4,
 "nbformat_minor": 5
}
